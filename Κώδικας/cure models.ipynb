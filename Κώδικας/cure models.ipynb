{
 "cells": [
  {
   "cell_type": "markdown",
   "metadata": {},
   "source": [
    "**The Dataset is ready for the Machine Learning Models** \n",
    "\n",
    "Here, we will try to predict the 'cure' variable"
   ]
  },
  {
   "cell_type": "code",
   "execution_count": 1,
   "metadata": {},
   "outputs": [],
   "source": [
    "import numpy as np\n",
    "import pandas as pd\n",
    "import time\n",
    "import matplotlib.pyplot as plt\n",
    "from sklearn.model_selection import GridSearchCV, cross_val_score\n",
    "from sklearn.metrics import accuracy_score, precision_score, recall_score, f1_score, confusion_matrix, classification_report, ConfusionMatrixDisplay\n",
    "import seaborn as sns"
   ]
  },
  {
   "cell_type": "code",
   "execution_count": 2,
   "metadata": {},
   "outputs": [],
   "source": [
    "dataset = pd.read_excel('E:\\Datasets for Thesis\\DATASET TO USE FOR NEW REC_RATE\\Dataset_with_rec_rate.xlsx')"
   ]
  },
  {
   "cell_type": "markdown",
   "metadata": {},
   "source": [
    "**Split the variables into Features and Target**"
   ]
  },
  {
   "cell_type": "code",
   "execution_count": 3,
   "metadata": {},
   "outputs": [],
   "source": [
    "y = dataset['cure']\n",
    "X = dataset.drop(columns=['cure', 'rec_rate'])"
   ]
  },
  {
   "cell_type": "code",
   "execution_count": 4,
   "metadata": {},
   "outputs": [],
   "source": [
    "from sklearn.model_selection import train_test_split\n",
    "\n",
    "X_train, X_temp, y_train, y_temp = train_test_split(X, y,  test_size=0.3, random_state=42)\n",
    "X_test, X_valid, y_test, y_valid = train_test_split(X_temp, y_temp, test_size=1/3, random_state=42)"
   ]
  },
  {
   "cell_type": "markdown",
   "metadata": {},
   "source": [
    "# **Logistic Regression**"
   ]
  },
  {
   "cell_type": "markdown",
   "metadata": {},
   "source": [
    "We used the 'liblinear' solver for the Logistic Regression Algorithm, as the 'lbfgs' has convergence errors."
   ]
  },
  {
   "cell_type": "code",
   "execution_count": 5,
   "metadata": {},
   "outputs": [
    {
     "name": "stdout",
     "output_type": "stream",
     "text": [
      "Cross-validation scores:  [0.98196429 0.98375    0.98196429 0.98053571 0.98      ]\n",
      "Mean cross-validation accuracy:  0.981642857142857\n"
     ]
    }
   ],
   "source": [
    "from sklearn.linear_model import LogisticRegression\n",
    "\n",
    "logistic_model = LogisticRegression(solver='liblinear', max_iter=200)\n",
    "\n",
    "cv_scores = cross_val_score(logistic_model, X_train, y_train, cv=5, scoring='accuracy')\n",
    "print(\"Cross-validation scores: \", cv_scores)\n",
    "print(\"Mean cross-validation accuracy: \", np.mean(cv_scores))"
   ]
  },
  {
   "cell_type": "code",
   "execution_count": 6,
   "metadata": {},
   "outputs": [
    {
     "name": "stdout",
     "output_type": "stream",
     "text": [
      "Training Time: 0.5281267166137695\n"
     ]
    }
   ],
   "source": [
    "start_time = time.time()\n",
    "\n",
    "logistic_model.fit(X_train, y_train)\n",
    "\n",
    "end_time = time.time()\n",
    "\n",
    "train_time_lr = end_time - start_time\n",
    "\n",
    "y_pred = logistic_model.predict(X_test)\n",
    "print(f\"Training Time: {train_time_lr}\")"
   ]
  },
  {
   "cell_type": "code",
   "execution_count": 6,
   "metadata": {},
   "outputs": [
    {
     "name": "stdout",
     "output_type": "stream",
     "text": [
      "Accuracy:  0.982\n",
      "Precision:  0.9820020090001256\n",
      "Recall:  0.982\n",
      "F1 Score:  0.9820000225000352\n",
      "Classification Report:\n",
      "               precision    recall  f1-score   support\n",
      "\n",
      "           0       0.98      0.98      0.98      3991\n",
      "           1       0.98      0.98      0.98      4009\n",
      "\n",
      "    accuracy                           0.98      8000\n",
      "   macro avg       0.98      0.98      0.98      8000\n",
      "weighted avg       0.98      0.98      0.98      8000\n",
      "\n"
     ]
    }
   ],
   "source": [
    "accuracy = accuracy_score(y_test, y_pred)\n",
    "precision = precision_score(y_test, y_pred, average='weighted')\n",
    "recall = recall_score(y_test, y_pred, average='weighted')\n",
    "f1 = f1_score(y_test, y_pred, average='weighted')\n",
    "conf_matrix = confusion_matrix(y_test, y_pred)\n",
    "class_report = classification_report(y_test, y_pred)\n",
    "\n",
    "print(\"Accuracy: \", accuracy)\n",
    "print(\"Precision: \", precision)\n",
    "print(\"Recall: \", recall)\n",
    "print(\"F1 Score: \", f1)\n",
    "\n",
    "print(\"Classification Report:\\n\", class_report)"
   ]
  },
  {
   "cell_type": "code",
   "execution_count": 7,
   "metadata": {},
   "outputs": [
    {
     "data": {
      "image/png": "[encoded data removed]",
      "text/plain": [
       "<Figure size 640x480 with 2 Axes>"
      ]
     },
     "metadata": {},
     "output_type": "display_data"
    },
    {
     "data": {
      "text/plain": [
       "<Figure size 640x480 with 0 Axes>"
      ]
     },
     "metadata": {},
     "output_type": "display_data"
    }
   ],
   "source": [
    "disp = ConfusionMatrixDisplay(confusion_matrix=conf_matrix)\n",
    "disp.plot(cmap=plt.cm.Blues)\n",
    "plt.title(\"Confusion Matrix for Logistic Regression\")\n",
    "plt.show()\n",
    "\n",
    "plt.savefig(\"cure_confusion_matrix_for_logistic_regression.png\", format=\"png\", dpi=300)"
   ]
  },
  {
   "cell_type": "code",
   "execution_count": 8,
   "metadata": {},
   "outputs": [
    {
     "name": "stdout",
     "output_type": "stream",
     "text": [
      "Intercept: [-7.95772406]\n",
      "Coefficient(s): [[-2.40526186e-01 -9.30031613e-02  4.38309292e-02 -5.38507916e-02\n",
      "  -1.44504161e-01 -9.36048607e-02 -5.14274641e-02  7.20369383e-01\n",
      "   7.94104505e-01 -3.02005389e+00  3.48376613e-02  1.03714203e-01\n",
      "  -7.28632992e-02 -1.19547089e-01 -1.97882473e-01 -1.50095447e+01\n",
      "  -1.93393174e+01 -1.76937987e+00 -6.62730543e+00  2.70123812e-02\n",
      "  -3.68242541e-04 -1.64693571e-01 -8.44830095e-02 -6.19260237e-02\n",
      "  -6.89141185e-02 -9.78215270e-02  2.37463611e-02  7.97399098e-02\n",
      "   2.49352975e+01  1.35357397e-02 -4.98074184e-02  1.59313725e-02\n",
      "   7.17214787e-03 -1.24741670e-01 -6.19647079e-02 -6.26129632e-02\n",
      "  -8.95007380e-03 -5.41765918e-02 -8.64306570e-02 -2.68502433e-02\n",
      "  -1.94711934e+00 -1.98865853e+00 -1.98144778e+00 -2.04049841e+00\n",
      "  -5.40583219e-01 -4.16422039e-01 -5.15690044e-01 -6.01099101e-01\n",
      "  -4.60895813e-01 -4.13319941e-01 -4.68702385e-01 -6.41306332e-01\n",
      "  -3.28175969e-01 -5.26071564e-01 -4.11131466e-01 -5.72954415e-01\n",
      "  -4.93832078e-01 -5.10702778e-01 -5.61456586e-01 -4.95380337e-01]]\n"
     ]
    }
   ],
   "source": [
    "print(\"Intercept:\", logistic_model.intercept_)\n",
    "print(\"Coefficient(s):\", logistic_model.coef_)"
   ]
  },
  {
   "cell_type": "markdown",
   "metadata": {},
   "source": [
    "# **Random Forest**"
   ]
  },
  {
   "cell_type": "code",
   "execution_count": 7,
   "metadata": {},
   "outputs": [
    {
     "name": "stdout",
     "output_type": "stream",
     "text": [
      "Fitting 5 folds for each of 192 candidates, totalling 960 fits\n"
     ]
    },
    {
     "name": "stderr",
     "output_type": "stream",
     "text": [
      "c:\\Users\\comad\\AppData\\Local\\Programs\\Python\\Python311\\Lib\\site-packages\\numpy\\ma\\core.py:2820: RuntimeWarning: invalid value encountered in cast\n",
      "  _data = np.array(data, dtype=dtype, copy=copy,\n"
     ]
    },
    {
     "data": {
      "text/html": [
       "<style>#sk-container-id-1 {\n",
       "  /* Definition of color scheme common for light and dark mode */\n",
       "  --sklearn-color-text: black;\n",
       "  --sklearn-color-line: gray;\n",
       "  /* Definition of color scheme for unfitted estimators */\n",
       "  --sklearn-color-unfitted-level-0: #fff5e6;\n",
       "  --sklearn-color-unfitted-level-1: #f6e4d2;\n",
       "  --sklearn-color-unfitted-level-2: #ffe0b3;\n",
       "  --sklearn-color-unfitted-level-3: chocolate;\n",
       "  /* Definition of color scheme for fitted estimators */\n",
       "  --sklearn-color-fitted-level-0: #f0f8ff;\n",
       "  --sklearn-color-fitted-level-1: #d4ebff;\n",
       "  --sklearn-color-fitted-level-2: #b3dbfd;\n",
       "  --sklearn-color-fitted-level-3: cornflowerblue;\n",
       "\n",
       "  /* Specific color for light theme */\n",
       "  --sklearn-color-text-on-default-background: var(--sg-text-color, var(--theme-code-foreground, var(--jp-content-font-color1, black)));\n",
       "  --sklearn-color-background: var(--sg-background-color, var(--theme-background, var(--jp-layout-color0, white)));\n",
       "  --sklearn-color-border-box: var(--sg-text-color, var(--theme-code-foreground, var(--jp-content-font-color1, black)));\n",
       "  --sklearn-color-icon: #696969;\n",
       "\n",
       "  @media (prefers-color-scheme: dark) {\n",
       "    /* Redefinition of color scheme for dark theme */\n",
       "    --sklearn-color-text-on-default-background: var(--sg-text-color, var(--theme-code-foreground, var(--jp-content-font-color1, white)));\n",
       "    --sklearn-color-background: var(--sg-background-color, var(--theme-background, var(--jp-layout-color0, #111)));\n",
       "    --sklearn-color-border-box: var(--sg-text-color, var(--theme-code-foreground, var(--jp-content-font-color1, white)));\n",
       "    --sklearn-color-icon: #878787;\n",
       "  }\n",
       "}\n",
       "\n",
       "#sk-container-id-1 {\n",
       "  color: var(--sklearn-color-text);\n",
       "}\n",
       "\n",
       "#sk-container-id-1 pre {\n",
       "  padding: 0;\n",
       "}\n",
       "\n",
       "#sk-container-id-1 input.sk-hidden--visually {\n",
       "  border: 0;\n",
       "  clip: rect(1px 1px 1px 1px);\n",
       "  clip: rect(1px, 1px, 1px, 1px);\n",
       "  height: 1px;\n",
       "  margin: -1px;\n",
       "  overflow: hidden;\n",
       "  padding: 0;\n",
       "  position: absolute;\n",
       "  width: 1px;\n",
       "}\n",
       "\n",
       "#sk-container-id-1 div.sk-dashed-wrapped {\n",
       "  border: 1px dashed var(--sklearn-color-line);\n",
       "  margin: 0 0.4em 0.5em 0.4em;\n",
       "  box-sizing: border-box;\n",
       "  padding-bottom: 0.4em;\n",
       "  background-color: var(--sklearn-color-background);\n",
       "}\n",
       "\n",
       "#sk-container-id-1 div.sk-container {\n",
       "  /* jupyter's `normalize.less` sets `[hidden] { display: none; }`\n",
       "     but bootstrap.min.css set `[hidden] { display: none !important; }`\n",
       "     so we also need the `!important` here to be able to override the\n",
       "     default hidden behavior on the sphinx rendered scikit-learn.org.\n",
       "     See: https://github.com/scikit-learn/scikit-learn/issues/21755 */\n",
       "  display: inline-block !important;\n",
       "  position: relative;\n",
       "}\n",
       "\n",
       "#sk-container-id-1 div.sk-text-repr-fallback {\n",
       "  display: none;\n",
       "}\n",
       "\n",
       "div.sk-parallel-item,\n",
       "div.sk-serial,\n",
       "div.sk-item {\n",
       "  /* draw centered vertical line to link estimators */\n",
       "  background-image: linear-gradient(var(--sklearn-color-text-on-default-background), var(--sklearn-color-text-on-default-background));\n",
       "  background-size: 2px 100%;\n",
       "  background-repeat: no-repeat;\n",
       "  background-position: center center;\n",
       "}\n",
       "\n",
       "/* Parallel-specific style estimator block */\n",
       "\n",
       "#sk-container-id-1 div.sk-parallel-item::after {\n",
       "  content: \"\";\n",
       "  width: 100%;\n",
       "  border-bottom: 2px solid var(--sklearn-color-text-on-default-background);\n",
       "  flex-grow: 1;\n",
       "}\n",
       "\n",
       "#sk-container-id-1 div.sk-parallel {\n",
       "  display: flex;\n",
       "  align-items: stretch;\n",
       "  justify-content: center;\n",
       "  background-color: var(--sklearn-color-background);\n",
       "  position: relative;\n",
       "}\n",
       "\n",
       "#sk-container-id-1 div.sk-parallel-item {\n",
       "  display: flex;\n",
       "  flex-direction: column;\n",
       "}\n",
       "\n",
       "#sk-container-id-1 div.sk-parallel-item:first-child::after {\n",
       "  align-self: flex-end;\n",
       "  width: 50%;\n",
       "}\n",
       "\n",
       "#sk-container-id-1 div.sk-parallel-item:last-child::after {\n",
       "  align-self: flex-start;\n",
       "  width: 50%;\n",
       "}\n",
       "\n",
       "#sk-container-id-1 div.sk-parallel-item:only-child::after {\n",
       "  width: 0;\n",
       "}\n",
       "\n",
       "/* Serial-specific style estimator block */\n",
       "\n",
       "#sk-container-id-1 div.sk-serial {\n",
       "  display: flex;\n",
       "  flex-direction: column;\n",
       "  align-items: center;\n",
       "  background-color: var(--sklearn-color-background);\n",
       "  padding-right: 1em;\n",
       "  padding-left: 1em;\n",
       "}\n",
       "\n",
       "\n",
       "/* Toggleable style: style used for estimator/Pipeline/ColumnTransformer box that is\n",
       "clickable and can be expanded/collapsed.\n",
       "- Pipeline and ColumnTransformer use this feature and define the default style\n",
       "- Estimators will overwrite some part of the style using the `sk-estimator` class\n",
       "*/\n",
       "\n",
       "/* Pipeline and ColumnTransformer style (default) */\n",
       "\n",
       "#sk-container-id-1 div.sk-toggleable {\n",
       "  /* Default theme specific background. It is overwritten whether we have a\n",
       "  specific estimator or a Pipeline/ColumnTransformer */\n",
       "  background-color: var(--sklearn-color-background);\n",
       "}\n",
       "\n",
       "/* Toggleable label */\n",
       "#sk-container-id-1 label.sk-toggleable__label {\n",
       "  cursor: pointer;\n",
       "  display: block;\n",
       "  width: 100%;\n",
       "  margin-bottom: 0;\n",
       "  padding: 0.5em;\n",
       "  box-sizing: border-box;\n",
       "  text-align: center;\n",
       "}\n",
       "\n",
       "#sk-container-id-1 label.sk-toggleable__label-arrow:before {\n",
       "  /* Arrow on the left of the label */\n",
       "  content: \"▸\";\n",
       "  float: left;\n",
       "  margin-right: 0.25em;\n",
       "  color: var(--sklearn-color-icon);\n",
       "}\n",
       "\n",
       "#sk-container-id-1 label.sk-toggleable__label-arrow:hover:before {\n",
       "  color: var(--sklearn-color-text);\n",
       "}\n",
       "\n",
       "/* Toggleable content - dropdown */\n",
       "\n",
       "#sk-container-id-1 div.sk-toggleable__content {\n",
       "  max-height: 0;\n",
       "  max-width: 0;\n",
       "  overflow: hidden;\n",
       "  text-align: left;\n",
       "  /* unfitted */\n",
       "  background-color: var(--sklearn-color-unfitted-level-0);\n",
       "}\n",
       "\n",
       "#sk-container-id-1 div.sk-toggleable__content.fitted {\n",
       "  /* fitted */\n",
       "  background-color: var(--sklearn-color-fitted-level-0);\n",
       "}\n",
       "\n",
       "#sk-container-id-1 div.sk-toggleable__content pre {\n",
       "  margin: 0.2em;\n",
       "  border-radius: 0.25em;\n",
       "  color: var(--sklearn-color-text);\n",
       "  /* unfitted */\n",
       "  background-color: var(--sklearn-color-unfitted-level-0);\n",
       "}\n",
       "\n",
       "#sk-container-id-1 div.sk-toggleable__content.fitted pre {\n",
       "  /* unfitted */\n",
       "  background-color: var(--sklearn-color-fitted-level-0);\n",
       "}\n",
       "\n",
       "#sk-container-id-1 input.sk-toggleable__control:checked~div.sk-toggleable__content {\n",
       "  /* Expand drop-down */\n",
       "  max-height: 200px;\n",
       "  max-width: 100%;\n",
       "  overflow: auto;\n",
       "}\n",
       "\n",
       "#sk-container-id-1 input.sk-toggleable__control:checked~label.sk-toggleable__label-arrow:before {\n",
       "  content: \"▾\";\n",
       "}\n",
       "\n",
       "/* Pipeline/ColumnTransformer-specific style */\n",
       "\n",
       "#sk-container-id-1 div.sk-label input.sk-toggleable__control:checked~label.sk-toggleable__label {\n",
       "  color: var(--sklearn-color-text);\n",
       "  background-color: var(--sklearn-color-unfitted-level-2);\n",
       "}\n",
       "\n",
       "#sk-container-id-1 div.sk-label.fitted input.sk-toggleable__control:checked~label.sk-toggleable__label {\n",
       "  background-color: var(--sklearn-color-fitted-level-2);\n",
       "}\n",
       "\n",
       "/* Estimator-specific style */\n",
       "\n",
       "/* Colorize estimator box */\n",
       "#sk-container-id-1 div.sk-estimator input.sk-toggleable__control:checked~label.sk-toggleable__label {\n",
       "  /* unfitted */\n",
       "  background-color: var(--sklearn-color-unfitted-level-2);\n",
       "}\n",
       "\n",
       "#sk-container-id-1 div.sk-estimator.fitted input.sk-toggleable__control:checked~label.sk-toggleable__label {\n",
       "  /* fitted */\n",
       "  background-color: var(--sklearn-color-fitted-level-2);\n",
       "}\n",
       "\n",
       "#sk-container-id-1 div.sk-label label.sk-toggleable__label,\n",
       "#sk-container-id-1 div.sk-label label {\n",
       "  /* The background is the default theme color */\n",
       "  color: var(--sklearn-color-text-on-default-background);\n",
       "}\n",
       "\n",
       "/* On hover, darken the color of the background */\n",
       "#sk-container-id-1 div.sk-label:hover label.sk-toggleable__label {\n",
       "  color: var(--sklearn-color-text);\n",
       "  background-color: var(--sklearn-color-unfitted-level-2);\n",
       "}\n",
       "\n",
       "/* Label box, darken color on hover, fitted */\n",
       "#sk-container-id-1 div.sk-label.fitted:hover label.sk-toggleable__label.fitted {\n",
       "  color: var(--sklearn-color-text);\n",
       "  background-color: var(--sklearn-color-fitted-level-2);\n",
       "}\n",
       "\n",
       "/* Estimator label */\n",
       "\n",
       "#sk-container-id-1 div.sk-label label {\n",
       "  font-family: monospace;\n",
       "  font-weight: bold;\n",
       "  display: inline-block;\n",
       "  line-height: 1.2em;\n",
       "}\n",
       "\n",
       "#sk-container-id-1 div.sk-label-container {\n",
       "  text-align: center;\n",
       "}\n",
       "\n",
       "/* Estimator-specific */\n",
       "#sk-container-id-1 div.sk-estimator {\n",
       "  font-family: monospace;\n",
       "  border: 1px dotted var(--sklearn-color-border-box);\n",
       "  border-radius: 0.25em;\n",
       "  box-sizing: border-box;\n",
       "  margin-bottom: 0.5em;\n",
       "  /* unfitted */\n",
       "  background-color: var(--sklearn-color-unfitted-level-0);\n",
       "}\n",
       "\n",
       "#sk-container-id-1 div.sk-estimator.fitted {\n",
       "  /* fitted */\n",
       "  background-color: var(--sklearn-color-fitted-level-0);\n",
       "}\n",
       "\n",
       "/* on hover */\n",
       "#sk-container-id-1 div.sk-estimator:hover {\n",
       "  /* unfitted */\n",
       "  background-color: var(--sklearn-color-unfitted-level-2);\n",
       "}\n",
       "\n",
       "#sk-container-id-1 div.sk-estimator.fitted:hover {\n",
       "  /* fitted */\n",
       "  background-color: var(--sklearn-color-fitted-level-2);\n",
       "}\n",
       "\n",
       "/* Specification for estimator info (e.g. \"i\" and \"?\") */\n",
       "\n",
       "/* Common style for \"i\" and \"?\" */\n",
       "\n",
       ".sk-estimator-doc-link,\n",
       "a:link.sk-estimator-doc-link,\n",
       "a:visited.sk-estimator-doc-link {\n",
       "  float: right;\n",
       "  font-size: smaller;\n",
       "  line-height: 1em;\n",
       "  font-family: monospace;\n",
       "  background-color: var(--sklearn-color-background);\n",
       "  border-radius: 1em;\n",
       "  height: 1em;\n",
       "  width: 1em;\n",
       "  text-decoration: none !important;\n",
       "  margin-left: 1ex;\n",
       "  /* unfitted */\n",
       "  border: var(--sklearn-color-unfitted-level-1) 1pt solid;\n",
       "  color: var(--sklearn-color-unfitted-level-1);\n",
       "}\n",
       "\n",
       ".sk-estimator-doc-link.fitted,\n",
       "a:link.sk-estimator-doc-link.fitted,\n",
       "a:visited.sk-estimator-doc-link.fitted {\n",
       "  /* fitted */\n",
       "  border: var(--sklearn-color-fitted-level-1) 1pt solid;\n",
       "  color: var(--sklearn-color-fitted-level-1);\n",
       "}\n",
       "\n",
       "/* On hover */\n",
       "div.sk-estimator:hover .sk-estimator-doc-link:hover,\n",
       ".sk-estimator-doc-link:hover,\n",
       "div.sk-label-container:hover .sk-estimator-doc-link:hover,\n",
       ".sk-estimator-doc-link:hover {\n",
       "  /* unfitted */\n",
       "  background-color: var(--sklearn-color-unfitted-level-3);\n",
       "  color: var(--sklearn-color-background);\n",
       "  text-decoration: none;\n",
       "}\n",
       "\n",
       "div.sk-estimator.fitted:hover .sk-estimator-doc-link.fitted:hover,\n",
       ".sk-estimator-doc-link.fitted:hover,\n",
       "div.sk-label-container:hover .sk-estimator-doc-link.fitted:hover,\n",
       ".sk-estimator-doc-link.fitted:hover {\n",
       "  /* fitted */\n",
       "  background-color: var(--sklearn-color-fitted-level-3);\n",
       "  color: var(--sklearn-color-background);\n",
       "  text-decoration: none;\n",
       "}\n",
       "\n",
       "/* Span, style for the box shown on hovering the info icon */\n",
       ".sk-estimator-doc-link span {\n",
       "  display: none;\n",
       "  z-index: 9999;\n",
       "  position: relative;\n",
       "  font-weight: normal;\n",
       "  right: .2ex;\n",
       "  padding: .5ex;\n",
       "  margin: .5ex;\n",
       "  width: min-content;\n",
       "  min-width: 20ex;\n",
       "  max-width: 50ex;\n",
       "  color: var(--sklearn-color-text);\n",
       "  box-shadow: 2pt 2pt 4pt #999;\n",
       "  /* unfitted */\n",
       "  background: var(--sklearn-color-unfitted-level-0);\n",
       "  border: .5pt solid var(--sklearn-color-unfitted-level-3);\n",
       "}\n",
       "\n",
       ".sk-estimator-doc-link.fitted span {\n",
       "  /* fitted */\n",
       "  background: var(--sklearn-color-fitted-level-0);\n",
       "  border: var(--sklearn-color-fitted-level-3);\n",
       "}\n",
       "\n",
       ".sk-estimator-doc-link:hover span {\n",
       "  display: block;\n",
       "}\n",
       "\n",
       "/* \"?\"-specific style due to the `<a>` HTML tag */\n",
       "\n",
       "#sk-container-id-1 a.estimator_doc_link {\n",
       "  float: right;\n",
       "  font-size: 1rem;\n",
       "  line-height: 1em;\n",
       "  font-family: monospace;\n",
       "  background-color: var(--sklearn-color-background);\n",
       "  border-radius: 1rem;\n",
       "  height: 1rem;\n",
       "  width: 1rem;\n",
       "  text-decoration: none;\n",
       "  /* unfitted */\n",
       "  color: var(--sklearn-color-unfitted-level-1);\n",
       "  border: var(--sklearn-color-unfitted-level-1) 1pt solid;\n",
       "}\n",
       "\n",
       "#sk-container-id-1 a.estimator_doc_link.fitted {\n",
       "  /* fitted */\n",
       "  border: var(--sklearn-color-fitted-level-1) 1pt solid;\n",
       "  color: var(--sklearn-color-fitted-level-1);\n",
       "}\n",
       "\n",
       "/* On hover */\n",
       "#sk-container-id-1 a.estimator_doc_link:hover {\n",
       "  /* unfitted */\n",
       "  background-color: var(--sklearn-color-unfitted-level-3);\n",
       "  color: var(--sklearn-color-background);\n",
       "  text-decoration: none;\n",
       "}\n",
       "\n",
       "#sk-container-id-1 a.estimator_doc_link.fitted:hover {\n",
       "  /* fitted */\n",
       "  background-color: var(--sklearn-color-fitted-level-3);\n",
       "}\n",
       "</style><div id=\"sk-container-id-1\" class=\"sk-top-container\"><div class=\"sk-text-repr-fallback\"><pre>GridSearchCV(cv=5, estimator=RandomForestClassifier(random_state=42), n_jobs=-1,\n",
       "             param_grid={&#x27;max_depth&#x27;: [None, 10, 20, 30],\n",
       "                         &#x27;max_features&#x27;: [5, 10, &#x27;sqrt&#x27;, &#x27;log2&#x27;],\n",
       "                         &#x27;min_samples_leaf&#x27;: [1, 2, 4],\n",
       "                         &#x27;n_estimators&#x27;: [50, 100, 200, 400]},\n",
       "             scoring=&#x27;accuracy&#x27;, verbose=1)</pre><b>In a Jupyter environment, please rerun this cell to show the HTML representation or trust the notebook. <br />On GitHub, the HTML representation is unable to render, please try loading this page with nbviewer.org.</b></div><div class=\"sk-container\" hidden><div class=\"sk-item sk-dashed-wrapped\"><div class=\"sk-label-container\"><div class=\"sk-label fitted sk-toggleable\"><input class=\"sk-toggleable__control sk-hidden--visually\" id=\"sk-estimator-id-1\" type=\"checkbox\" ><label for=\"sk-estimator-id-1\" class=\"sk-toggleable__label fitted sk-toggleable__label-arrow fitted\">&nbsp;&nbsp;GridSearchCV<a class=\"sk-estimator-doc-link fitted\" rel=\"noreferrer\" target=\"_blank\" href=\"https://scikit-learn.org/1.5/modules/generated/sklearn.model_selection.GridSearchCV.html\">?<span>Documentation for GridSearchCV</span></a><span class=\"sk-estimator-doc-link fitted\">i<span>Fitted</span></span></label><div class=\"sk-toggleable__content fitted\"><pre>GridSearchCV(cv=5, estimator=RandomForestClassifier(random_state=42), n_jobs=-1,\n",
       "             param_grid={&#x27;max_depth&#x27;: [None, 10, 20, 30],\n",
       "                         &#x27;max_features&#x27;: [5, 10, &#x27;sqrt&#x27;, &#x27;log2&#x27;],\n",
       "                         &#x27;min_samples_leaf&#x27;: [1, 2, 4],\n",
       "                         &#x27;n_estimators&#x27;: [50, 100, 200, 400]},\n",
       "             scoring=&#x27;accuracy&#x27;, verbose=1)</pre></div> </div></div><div class=\"sk-parallel\"><div class=\"sk-parallel-item\"><div class=\"sk-item\"><div class=\"sk-label-container\"><div class=\"sk-label fitted sk-toggleable\"><input class=\"sk-toggleable__control sk-hidden--visually\" id=\"sk-estimator-id-2\" type=\"checkbox\" ><label for=\"sk-estimator-id-2\" class=\"sk-toggleable__label fitted sk-toggleable__label-arrow fitted\">best_estimator_: RandomForestClassifier</label><div class=\"sk-toggleable__content fitted\"><pre>RandomForestClassifier(max_features=10, n_estimators=200, random_state=42)</pre></div> </div></div><div class=\"sk-serial\"><div class=\"sk-item\"><div class=\"sk-estimator fitted sk-toggleable\"><input class=\"sk-toggleable__control sk-hidden--visually\" id=\"sk-estimator-id-3\" type=\"checkbox\" ><label for=\"sk-estimator-id-3\" class=\"sk-toggleable__label fitted sk-toggleable__label-arrow fitted\">&nbsp;RandomForestClassifier<a class=\"sk-estimator-doc-link fitted\" rel=\"noreferrer\" target=\"_blank\" href=\"https://scikit-learn.org/1.5/modules/generated/sklearn.ensemble.RandomForestClassifier.html\">?<span>Documentation for RandomForestClassifier</span></a></label><div class=\"sk-toggleable__content fitted\"><pre>RandomForestClassifier(max_features=10, n_estimators=200, random_state=42)</pre></div> </div></div></div></div></div></div></div></div></div>"
      ],
      "text/plain": [
       "GridSearchCV(cv=5, estimator=RandomForestClassifier(random_state=42), n_jobs=-1,\n",
       "             param_grid={'max_depth': [None, 10, 20, 30],\n",
       "                         'max_features': [5, 10, 'sqrt', 'log2'],\n",
       "                         'min_samples_leaf': [1, 2, 4],\n",
       "                         'n_estimators': [50, 100, 200, 400]},\n",
       "             scoring='accuracy', verbose=1)"
      ]
     },
     "execution_count": 7,
     "metadata": {},
     "output_type": "execute_result"
    }
   ],
   "source": [
    "from sklearn.ensemble import RandomForestClassifier\n",
    "\n",
    "rf_model = RandomForestClassifier(random_state=42)\n",
    "\n",
    "param_grid = {\n",
    "    'max_depth': [None, 10, 20, 30],\n",
    "    'min_samples_leaf': [1, 2, 4],\n",
    "    'max_features': [5, 10, 'sqrt', 'log2'],\n",
    "    'n_estimators': [50, 100, 200, 400]\n",
    "}\n",
    "\n",
    "grid_search = GridSearchCV(estimator=rf_model, param_grid=param_grid, cv=5, scoring='accuracy', verbose=1, n_jobs=-1)\n",
    "grid_search.fit(X_train, y_train)"
   ]
  },
  {
   "cell_type": "code",
   "execution_count": 8,
   "metadata": {},
   "outputs": [],
   "source": [
    "rf_results = grid_search.cv_results_"
   ]
  },
  {
   "cell_type": "code",
   "execution_count": 9,
   "metadata": {},
   "outputs": [
    {
     "name": "stdout",
     "output_type": "stream",
     "text": [
      "{'mean_fit_time': array([ 2.56837659,  5.00372353, 10.6423903 , 21.02584262,  2.65619674,\n",
      "        5.240977  , 10.42257552, 21.60808177,  2.78174438,  5.40990191,\n",
      "       10.02430148, 20.08447156,  3.96892915,  7.4635488 , 15.10129051,\n",
      "       29.36317449,  3.75774693,  7.32647715, 14.81930218, 28.6343647 ,\n",
      "        3.60690055,  7.21392064, 14.57421837, 29.74004784,  3.16164289,\n",
      "        6.18158865, 12.7785037 , 24.87331238,  3.15383015,  6.28409033,\n",
      "       12.72432775, 24.78698182,  3.08799901,  6.13718357, 12.15957828,\n",
      "       25.49827261,  2.92980933,  5.88507705, 11.22928424, 22.83448095,\n",
      "        2.92081652,  5.6041996 , 10.66239586, 21.56058125,  2.49684567,\n",
      "        4.92499604, 10.24201031, 20.338732  ,  1.78064113,  3.46854954,\n",
      "        6.92288604, 13.98042059,  1.74891872,  3.44723377,  7.12527385,\n",
      "       14.29708223,  1.83671103,  3.53799586,  7.25345383, 13.48674164,\n",
      "        2.98293281,  6.11502156, 11.97403378, 24.00496931,  2.94811163,\n",
      "        5.77907987, 12.1627286 , 23.40391231,  3.07340522,  6.0743938 ,\n",
      "       12.45946465, 24.40492368,  2.34794521,  4.70051446, 10.1162807 ,\n",
      "       19.02851009,  2.41389885,  4.85034285,  9.27659912, 18.22527308,\n",
      "        2.29155502,  4.69128757,  9.03160105, 17.48289089,  1.80054674,\n",
      "        3.62138743,  7.15295882, 14.26395578,  1.73598161,  3.45911794,\n",
      "        7.08063989, 13.76259575,  1.77380805,  3.48902216,  7.0416779 ,\n",
      "       13.8179121 ,  2.55516748,  5.22055173, 10.00033078, 20.62703004,\n",
      "        2.64253058,  5.14875255, 10.18234363, 20.33393073,  2.46718059,\n",
      "        5.02392535,  9.6958436 , 19.1983459 ,  3.61299615,  7.48217416,\n",
      "       14.39209595, 30.40647297,  3.65534849,  7.29233704, 14.17205315,\n",
      "       30.34248633,  3.61414104,  7.20292869, 15.05673475, 29.86265364,\n",
      "        3.15180321,  6.08319702, 12.27172236, 24.64862165,  3.06174173,\n",
      "        6.05827661, 11.96857262, 24.45618134,  2.99737482,  6.08641019,\n",
      "       11.73383031, 24.31900086,  2.51424079,  5.11203494,  9.83142376,\n",
      "       20.84829183,  2.51464286,  5.03784842, 10.04694023, 20.83848662,\n",
      "        2.57622685,  5.2092617 ,  9.7147934 , 20.35807285,  2.86813331,\n",
      "        5.56258855, 10.38166609, 22.13843174,  2.6153482 ,  5.16630797,\n",
      "       10.66136279, 21.36972079,  2.62035947,  5.09799027, 10.15142393,\n",
      "       19.72825284,  3.69627728,  7.47439308, 15.13489208, 29.32918119,\n",
      "        3.71348734,  7.43981338, 15.36944404, 29.16730623,  3.62317777,\n",
      "        7.07926216, 14.28320065, 29.06162515,  3.17855344,  6.24830856,\n",
      "       12.25060763, 25.42589521,  3.0616643 ,  6.24456978, 12.36877303,\n",
      "       24.15752149,  3.2997406 ,  6.29620595, 11.44221163, 22.4668869 ,\n",
      "        2.52029757,  4.89296017,  9.73273573, 19.68062024,  2.48295755,\n",
      "        4.81228051,  9.47552791, 19.20065689,  2.36104255,  4.65712261,\n",
      "        9.2026238 , 15.69532566]), 'std_fit_time': array([0.04411138, 0.10757619, 0.62663194, 0.79578794, 0.10379369,\n",
      "       0.28618135, 0.28844061, 1.04985997, 0.19134792, 0.43544149,\n",
      "       0.51085011, 0.92250513, 0.46927433, 0.26609018, 0.83727215,\n",
      "       1.15732367, 0.11558513, 0.44609959, 0.67052439, 1.60511304,\n",
      "       0.12369019, 0.31787605, 0.6130882 , 0.20119951, 0.22101771,\n",
      "       0.34029317, 0.78556521, 1.35650694, 0.15522394, 0.26119211,\n",
      "       0.63633814, 1.24231108, 0.20253905, 0.29397526, 0.57184614,\n",
      "       2.16683775, 0.24604783, 0.54845699, 0.86605444, 1.37778764,\n",
      "       0.31189783, 0.42227348, 0.76645376, 0.95998288, 0.13213282,\n",
      "       0.15996695, 0.59679377, 0.64828277, 0.09564589, 0.24662032,\n",
      "       0.34393112, 0.78309301, 0.10114146, 0.19136138, 0.56054615,\n",
      "       0.67653075, 0.09814485, 0.20196729, 0.10826175, 0.73985581,\n",
      "       0.17434851, 0.26847242, 0.75057108, 0.85351344, 0.16199889,\n",
      "       0.21973667, 0.27930411, 1.4355355 , 0.15672692, 0.0458046 ,\n",
      "       0.58065203, 1.29908294, 0.13355167, 0.26331622, 0.84062022,\n",
      "       1.27653456, 0.13375587, 0.38282325, 0.33015769, 1.04159529,\n",
      "       0.1565811 , 0.25737345, 0.40346457, 0.69947466, 0.08683008,\n",
      "       0.17447418, 0.35842653, 0.58948016, 0.09976524, 0.13697514,\n",
      "       0.2957427 , 0.66331266, 0.1120407 , 0.19171583, 0.2910088 ,\n",
      "       0.6483824 , 0.13214425, 0.22632677, 0.62507926, 0.93316735,\n",
      "       0.14270737, 0.2178284 , 0.48438137, 0.7087799 , 0.14216192,\n",
      "       0.31479726, 0.58473258, 0.77137751, 0.21701677, 0.38738413,\n",
      "       0.73216826, 0.79700222, 0.24194924, 0.39310591, 0.64472108,\n",
      "       1.32952454, 0.21193893, 0.29963039, 0.77727931, 0.79207234,\n",
      "       0.22095539, 0.40101363, 0.57553407, 0.81297623, 0.14738131,\n",
      "       0.26873374, 0.69872128, 0.89879724, 0.18927762, 0.30696973,\n",
      "       0.57630906, 0.69579925, 0.09376646, 0.29833276, 0.45390898,\n",
      "       0.78133147, 0.10083277, 0.29714559, 0.50858122, 1.3684851 ,\n",
      "       0.13880795, 0.40367543, 0.35036686, 0.95344463, 0.17818168,\n",
      "       0.3198279 , 0.51470231, 0.89382436, 0.15602405, 0.25198221,\n",
      "       0.3918534 , 0.90345425, 0.13131622, 0.26093962, 0.47046258,\n",
      "       0.75880519, 0.15748366, 0.42961586, 0.78767542, 0.90249159,\n",
      "       0.14414355, 0.41696905, 0.69661422, 1.31150463, 0.20499747,\n",
      "       0.36357125, 0.74065476, 0.80785759, 0.15836044, 0.34539999,\n",
      "       0.69693105, 1.31821422, 0.16110726, 0.38063845, 0.79036406,\n",
      "       0.56692702, 0.21080172, 0.38130557, 0.46486271, 0.33086256,\n",
      "       0.03855298, 0.06624829, 0.10468845, 0.33832641, 0.07429348,\n",
      "       0.1025109 , 0.06378461, 0.25073555, 0.07783751, 0.07029413,\n",
      "       0.10332466, 0.39921582]), 'mean_score_time': array([0.04360986, 0.07401657, 0.16203642, 0.31454606, 0.03820825,\n",
      "       0.07981796, 0.17406735, 0.28973269, 0.04112258, 0.07522249,\n",
      "       0.14986844, 0.28222132, 0.03011436, 0.05403328, 0.0998466 ,\n",
      "       0.21970487, 0.03161168, 0.05552459, 0.10883384, 0.19396262,\n",
      "       0.0321075 , 0.05301633, 0.10423751, 0.20909514, 0.03561091,\n",
      "       0.06253457, 0.12795019, 0.25849619, 0.03531466, 0.06522255,\n",
      "       0.1414567 , 0.26076441, 0.03520784, 0.0699194 , 0.12056322,\n",
      "       0.27941699, 0.06522298, 0.0861845 , 0.15842376, 0.30982437,\n",
      "       0.04461818, 0.0779449 , 0.15205965, 0.31455784, 0.03920875,\n",
      "       0.08143797, 0.14627762, 0.30032539, 0.02791433, 0.0468164 ,\n",
      "       0.0842351 , 0.19917989, 0.02521806, 0.0447885 , 0.0892416 ,\n",
      "       0.1763658 , 0.02741199, 0.04722219, 0.08952122, 0.16589003,\n",
      "       0.02261167, 0.05282869, 0.07632627, 0.15955615, 0.0220048 ,\n",
      "       0.04161377, 0.08043394, 0.15527534, 0.02320728, 0.04862666,\n",
      "       0.08153958, 0.16126695, 0.03072238, 0.05172849, 0.08921657,\n",
      "       0.16357369, 0.0242084 , 0.04591804, 0.08803692, 0.16887136,\n",
      "       0.02520871, 0.04781389, 0.09004488, 0.1569386 , 0.02511425,\n",
      "       0.04639864, 0.09119101, 0.17426925, 0.02511005, 0.04271526,\n",
      "       0.08723664, 0.16797118, 0.02661262, 0.04412222, 0.08732948,\n",
      "       0.17996888, 0.04183035, 0.07552595, 0.13665838, 0.2897944 ,\n",
      "       0.04062753, 0.08024693, 0.15248761, 0.2792366 , 0.04042182,\n",
      "       0.07237201, 0.13916326, 0.27268624, 0.03043599, 0.0539669 ,\n",
      "       0.10013099, 0.19959035, 0.02880611, 0.05151572, 0.10611429,\n",
      "       0.19455881, 0.0310339 , 0.05632343, 0.10562391, 0.20137205,\n",
      "       0.04161415, 0.06372147, 0.12617564, 0.25803885, 0.03481226,\n",
      "       0.06514349, 0.12659297, 0.23277593, 0.03260756, 0.0602335 ,\n",
      "       0.11555939, 0.23033361, 0.03801184, 0.07590485, 0.15152316,\n",
      "       0.28730459, 0.03801661, 0.0714191 , 0.13848438, 0.29351578,\n",
      "       0.03900886, 0.07512851, 0.14836144, 0.26334796, 0.04792562,\n",
      "       0.08757777, 0.1540894 , 0.34055476, 0.03982644, 0.08203597,\n",
      "       0.15474849, 0.2942132 , 0.04121208, 0.07423244, 0.14639039,\n",
      "       0.27764335, 0.02860637, 0.05852647, 0.1059536 , 0.20270004,\n",
      "       0.03552814, 0.06372499, 0.11235952, 0.21166239, 0.02853293,\n",
      "       0.05182614, 0.09792628, 0.20478382, 0.03590918, 0.06742449,\n",
      "       0.12365813, 0.25991678, 0.03842196, 0.07692537, 0.12975497,\n",
      "       0.22798681, 0.03421054, 0.05753431, 0.11136112, 0.22285013,\n",
      "       0.03941817, 0.06938057, 0.1346303 , 0.28446374, 0.0390285 ,\n",
      "       0.07082396, 0.13543081, 0.26064734, 0.03760862, 0.06581469,\n",
      "       0.12222753, 0.20524564]), 'std_score_time': array([0.00926702, 0.003848  , 0.02677145, 0.04070622, 0.0024004 ,\n",
      "       0.0093273 , 0.02388896, 0.02787972, 0.00381128, 0.00902263,\n",
      "       0.02695175, 0.01791376, 0.00300387, 0.00456929, 0.00584543,\n",
      "       0.02212931, 0.00550895, 0.00840233, 0.01320799, 0.01293775,\n",
      "       0.00776251, 0.00419487, 0.01038422, 0.00997481, 0.00205878,\n",
      "       0.00267557, 0.00934805, 0.01889347, 0.00208521, 0.00673504,\n",
      "       0.01506626, 0.01930104, 0.00519365, 0.01826909, 0.00812172,\n",
      "       0.07757012, 0.04111119, 0.0153989 , 0.0081688 , 0.01983057,\n",
      "       0.00614071, 0.00579723, 0.01672389, 0.0351456 , 0.00453545,\n",
      "       0.01396977, 0.01099313, 0.01409693, 0.00306846, 0.00386299,\n",
      "       0.00326899, 0.04894875, 0.00238261, 0.00349911, 0.00829202,\n",
      "       0.01394263, 0.00206476, 0.00454529, 0.00445227, 0.01196307,\n",
      "       0.00037279, 0.01069686, 0.00339665, 0.01201832, 0.00063271,\n",
      "       0.00376055, 0.00409687, 0.01326479, 0.0018035 , 0.00748296,\n",
      "       0.00734549, 0.01481857, 0.00943221, 0.01341516, 0.01092267,\n",
      "       0.01272516, 0.0023153 , 0.00341975, 0.00582561, 0.01344602,\n",
      "       0.00287755, 0.0048764 , 0.0087105 , 0.00905311, 0.0012    ,\n",
      "       0.00316934, 0.00978019, 0.00952515, 0.00272574, 0.00124708,\n",
      "       0.00502096, 0.01236856, 0.00350971, 0.00205446, 0.00590738,\n",
      "       0.01734745, 0.00348494, 0.00734597, 0.01127179, 0.02287383,\n",
      "       0.00286538, 0.00853562, 0.01538116, 0.01315309, 0.00615914,\n",
      "       0.00644435, 0.01376938, 0.01972448, 0.00543061, 0.00325055,\n",
      "       0.00443231, 0.01428106, 0.00306027, 0.00357729, 0.01096882,\n",
      "       0.01447422, 0.00345599, 0.01118613, 0.00300725, 0.0094399 ,\n",
      "       0.00990142, 0.00417585, 0.00869377, 0.02412388, 0.00313954,\n",
      "       0.00581449, 0.00810957, 0.01328279, 0.00185495, 0.00359365,\n",
      "       0.00933984, 0.01444751, 0.00141897, 0.00809481, 0.02830271,\n",
      "       0.01938242, 0.00166673, 0.00687941, 0.01034547, 0.0463598 ,\n",
      "       0.00275747, 0.00506822, 0.02304615, 0.01798346, 0.00667885,\n",
      "       0.006546  , 0.01449388, 0.03156378, 0.0022233 , 0.01029936,\n",
      "       0.01422749, 0.01457905, 0.00339004, 0.00608472, 0.01146548,\n",
      "       0.02542052, 0.00272857, 0.00758854, 0.00852889, 0.01774104,\n",
      "       0.0069514 , 0.00696274, 0.01136175, 0.01748428, 0.00237034,\n",
      "       0.00577473, 0.00618572, 0.01818323, 0.00349815, 0.00635815,\n",
      "       0.01023294, 0.01625769, 0.00515516, 0.02734414, 0.01237513,\n",
      "       0.00793345, 0.00337252, 0.00100247, 0.00381771, 0.0066164 ,\n",
      "       0.00225198, 0.00208434, 0.00441003, 0.00598807, 0.00315701,\n",
      "       0.0024768 , 0.00742059, 0.01573111, 0.00320067, 0.00193922,\n",
      "       0.0061462 , 0.00392011]), 'param_max_depth': masked_array(data=[None, None, None, None, None, None, None, None, None,\n",
      "                   None, None, None, None, None, None, None, None, None,\n",
      "                   None, None, None, None, None, None, None, None, None,\n",
      "                   None, None, None, None, None, None, None, None, None,\n",
      "                   None, None, None, None, None, None, None, None, None,\n",
      "                   None, None, None, 10, 10, 10, 10, 10, 10, 10, 10, 10,\n",
      "                   10, 10, 10, 10, 10, 10, 10, 10, 10, 10, 10, 10, 10, 10,\n",
      "                   10, 10, 10, 10, 10, 10, 10, 10, 10, 10, 10, 10, 10, 10,\n",
      "                   10, 10, 10, 10, 10, 10, 10, 10, 10, 10, 10, 20, 20, 20,\n",
      "                   20, 20, 20, 20, 20, 20, 20, 20, 20, 20, 20, 20, 20, 20,\n",
      "                   20, 20, 20, 20, 20, 20, 20, 20, 20, 20, 20, 20, 20, 20,\n",
      "                   20, 20, 20, 20, 20, 20, 20, 20, 20, 20, 20, 20, 20, 20,\n",
      "                   20, 20, 20, 30, 30, 30, 30, 30, 30, 30, 30, 30, 30, 30,\n",
      "                   30, 30, 30, 30, 30, 30, 30, 30, 30, 30, 30, 30, 30, 30,\n",
      "                   30, 30, 30, 30, 30, 30, 30, 30, 30, 30, 30, 30, 30, 30,\n",
      "                   30, 30, 30, 30, 30, 30, 30, 30, 30],\n",
      "             mask=[False, False, False, False, False, False, False, False,\n",
      "                   False, False, False, False, False, False, False, False,\n",
      "                   False, False, False, False, False, False, False, False,\n",
      "                   False, False, False, False, False, False, False, False,\n",
      "                   False, False, False, False, False, False, False, False,\n",
      "                   False, False, False, False, False, False, False, False,\n",
      "                   False, False, False, False, False, False, False, False,\n",
      "                   False, False, False, False, False, False, False, False,\n",
      "                   False, False, False, False, False, False, False, False,\n",
      "                   False, False, False, False, False, False, False, False,\n",
      "                   False, False, False, False, False, False, False, False,\n",
      "                   False, False, False, False, False, False, False, False,\n",
      "                   False, False, False, False, False, False, False, False,\n",
      "                   False, False, False, False, False, False, False, False,\n",
      "                   False, False, False, False, False, False, False, False,\n",
      "                   False, False, False, False, False, False, False, False,\n",
      "                   False, False, False, False, False, False, False, False,\n",
      "                   False, False, False, False, False, False, False, False,\n",
      "                   False, False, False, False, False, False, False, False,\n",
      "                   False, False, False, False, False, False, False, False,\n",
      "                   False, False, False, False, False, False, False, False,\n",
      "                   False, False, False, False, False, False, False, False,\n",
      "                   False, False, False, False, False, False, False, False,\n",
      "                   False, False, False, False, False, False, False, False],\n",
      "       fill_value='?',\n",
      "            dtype=object), 'param_max_features': masked_array(data=[5, 5, 5, 5, 5, 5, 5, 5, 5, 5, 5, 5, 10, 10, 10, 10, 10,\n",
      "                   10, 10, 10, 10, 10, 10, 10, 'sqrt', 'sqrt', 'sqrt',\n",
      "                   'sqrt', 'sqrt', 'sqrt', 'sqrt', 'sqrt', 'sqrt', 'sqrt',\n",
      "                   'sqrt', 'sqrt', 'log2', 'log2', 'log2', 'log2', 'log2',\n",
      "                   'log2', 'log2', 'log2', 'log2', 'log2', 'log2', 'log2',\n",
      "                   5, 5, 5, 5, 5, 5, 5, 5, 5, 5, 5, 5, 10, 10, 10, 10, 10,\n",
      "                   10, 10, 10, 10, 10, 10, 10, 'sqrt', 'sqrt', 'sqrt',\n",
      "                   'sqrt', 'sqrt', 'sqrt', 'sqrt', 'sqrt', 'sqrt', 'sqrt',\n",
      "                   'sqrt', 'sqrt', 'log2', 'log2', 'log2', 'log2', 'log2',\n",
      "                   'log2', 'log2', 'log2', 'log2', 'log2', 'log2', 'log2',\n",
      "                   5, 5, 5, 5, 5, 5, 5, 5, 5, 5, 5, 5, 10, 10, 10, 10, 10,\n",
      "                   10, 10, 10, 10, 10, 10, 10, 'sqrt', 'sqrt', 'sqrt',\n",
      "                   'sqrt', 'sqrt', 'sqrt', 'sqrt', 'sqrt', 'sqrt', 'sqrt',\n",
      "                   'sqrt', 'sqrt', 'log2', 'log2', 'log2', 'log2', 'log2',\n",
      "                   'log2', 'log2', 'log2', 'log2', 'log2', 'log2', 'log2',\n",
      "                   5, 5, 5, 5, 5, 5, 5, 5, 5, 5, 5, 5, 10, 10, 10, 10, 10,\n",
      "                   10, 10, 10, 10, 10, 10, 10, 'sqrt', 'sqrt', 'sqrt',\n",
      "                   'sqrt', 'sqrt', 'sqrt', 'sqrt', 'sqrt', 'sqrt', 'sqrt',\n",
      "                   'sqrt', 'sqrt', 'log2', 'log2', 'log2', 'log2', 'log2',\n",
      "                   'log2', 'log2', 'log2', 'log2', 'log2', 'log2', 'log2'],\n",
      "             mask=[False, False, False, False, False, False, False, False,\n",
      "                   False, False, False, False, False, False, False, False,\n",
      "                   False, False, False, False, False, False, False, False,\n",
      "                   False, False, False, False, False, False, False, False,\n",
      "                   False, False, False, False, False, False, False, False,\n",
      "                   False, False, False, False, False, False, False, False,\n",
      "                   False, False, False, False, False, False, False, False,\n",
      "                   False, False, False, False, False, False, False, False,\n",
      "                   False, False, False, False, False, False, False, False,\n",
      "                   False, False, False, False, False, False, False, False,\n",
      "                   False, False, False, False, False, False, False, False,\n",
      "                   False, False, False, False, False, False, False, False,\n",
      "                   False, False, False, False, False, False, False, False,\n",
      "                   False, False, False, False, False, False, False, False,\n",
      "                   False, False, False, False, False, False, False, False,\n",
      "                   False, False, False, False, False, False, False, False,\n",
      "                   False, False, False, False, False, False, False, False,\n",
      "                   False, False, False, False, False, False, False, False,\n",
      "                   False, False, False, False, False, False, False, False,\n",
      "                   False, False, False, False, False, False, False, False,\n",
      "                   False, False, False, False, False, False, False, False,\n",
      "                   False, False, False, False, False, False, False, False,\n",
      "                   False, False, False, False, False, False, False, False,\n",
      "                   False, False, False, False, False, False, False, False],\n",
      "       fill_value='?',\n",
      "            dtype=object), 'param_min_samples_leaf': masked_array(data=[1, 1, 1, 1, 2, 2, 2, 2, 4, 4, 4, 4, 1, 1, 1, 1, 2, 2,\n",
      "                   2, 2, 4, 4, 4, 4, 1, 1, 1, 1, 2, 2, 2, 2, 4, 4, 4, 4,\n",
      "                   1, 1, 1, 1, 2, 2, 2, 2, 4, 4, 4, 4, 1, 1, 1, 1, 2, 2,\n",
      "                   2, 2, 4, 4, 4, 4, 1, 1, 1, 1, 2, 2, 2, 2, 4, 4, 4, 4,\n",
      "                   1, 1, 1, 1, 2, 2, 2, 2, 4, 4, 4, 4, 1, 1, 1, 1, 2, 2,\n",
      "                   2, 2, 4, 4, 4, 4, 1, 1, 1, 1, 2, 2, 2, 2, 4, 4, 4, 4,\n",
      "                   1, 1, 1, 1, 2, 2, 2, 2, 4, 4, 4, 4, 1, 1, 1, 1, 2, 2,\n",
      "                   2, 2, 4, 4, 4, 4, 1, 1, 1, 1, 2, 2, 2, 2, 4, 4, 4, 4,\n",
      "                   1, 1, 1, 1, 2, 2, 2, 2, 4, 4, 4, 4, 1, 1, 1, 1, 2, 2,\n",
      "                   2, 2, 4, 4, 4, 4, 1, 1, 1, 1, 2, 2, 2, 2, 4, 4, 4, 4,\n",
      "                   1, 1, 1, 1, 2, 2, 2, 2, 4, 4, 4, 4],\n",
      "             mask=[False, False, False, False, False, False, False, False,\n",
      "                   False, False, False, False, False, False, False, False,\n",
      "                   False, False, False, False, False, False, False, False,\n",
      "                   False, False, False, False, False, False, False, False,\n",
      "                   False, False, False, False, False, False, False, False,\n",
      "                   False, False, False, False, False, False, False, False,\n",
      "                   False, False, False, False, False, False, False, False,\n",
      "                   False, False, False, False, False, False, False, False,\n",
      "                   False, False, False, False, False, False, False, False,\n",
      "                   False, False, False, False, False, False, False, False,\n",
      "                   False, False, False, False, False, False, False, False,\n",
      "                   False, False, False, False, False, False, False, False,\n",
      "                   False, False, False, False, False, False, False, False,\n",
      "                   False, False, False, False, False, False, False, False,\n",
      "                   False, False, False, False, False, False, False, False,\n",
      "                   False, False, False, False, False, False, False, False,\n",
      "                   False, False, False, False, False, False, False, False,\n",
      "                   False, False, False, False, False, False, False, False,\n",
      "                   False, False, False, False, False, False, False, False,\n",
      "                   False, False, False, False, False, False, False, False,\n",
      "                   False, False, False, False, False, False, False, False,\n",
      "                   False, False, False, False, False, False, False, False,\n",
      "                   False, False, False, False, False, False, False, False,\n",
      "                   False, False, False, False, False, False, False, False],\n",
      "       fill_value=999999), 'param_n_estimators': masked_array(data=[50, 100, 200, 400, 50, 100, 200, 400, 50, 100, 200,\n",
      "                   400, 50, 100, 200, 400, 50, 100, 200, 400, 50, 100,\n",
      "                   200, 400, 50, 100, 200, 400, 50, 100, 200, 400, 50,\n",
      "                   100, 200, 400, 50, 100, 200, 400, 50, 100, 200, 400,\n",
      "                   50, 100, 200, 400, 50, 100, 200, 400, 50, 100, 200,\n",
      "                   400, 50, 100, 200, 400, 50, 100, 200, 400, 50, 100,\n",
      "                   200, 400, 50, 100, 200, 400, 50, 100, 200, 400, 50,\n",
      "                   100, 200, 400, 50, 100, 200, 400, 50, 100, 200, 400,\n",
      "                   50, 100, 200, 400, 50, 100, 200, 400, 50, 100, 200,\n",
      "                   400, 50, 100, 200, 400, 50, 100, 200, 400, 50, 100,\n",
      "                   200, 400, 50, 100, 200, 400, 50, 100, 200, 400, 50,\n",
      "                   100, 200, 400, 50, 100, 200, 400, 50, 100, 200, 400,\n",
      "                   50, 100, 200, 400, 50, 100, 200, 400, 50, 100, 200,\n",
      "                   400, 50, 100, 200, 400, 50, 100, 200, 400, 50, 100,\n",
      "                   200, 400, 50, 100, 200, 400, 50, 100, 200, 400, 50,\n",
      "                   100, 200, 400, 50, 100, 200, 400, 50, 100, 200, 400,\n",
      "                   50, 100, 200, 400, 50, 100, 200, 400, 50, 100, 200,\n",
      "                   400, 50, 100, 200, 400],\n",
      "             mask=[False, False, False, False, False, False, False, False,\n",
      "                   False, False, False, False, False, False, False, False,\n",
      "                   False, False, False, False, False, False, False, False,\n",
      "                   False, False, False, False, False, False, False, False,\n",
      "                   False, False, False, False, False, False, False, False,\n",
      "                   False, False, False, False, False, False, False, False,\n",
      "                   False, False, False, False, False, False, False, False,\n",
      "                   False, False, False, False, False, False, False, False,\n",
      "                   False, False, False, False, False, False, False, False,\n",
      "                   False, False, False, False, False, False, False, False,\n",
      "                   False, False, False, False, False, False, False, False,\n",
      "                   False, False, False, False, False, False, False, False,\n",
      "                   False, False, False, False, False, False, False, False,\n",
      "                   False, False, False, False, False, False, False, False,\n",
      "                   False, False, False, False, False, False, False, False,\n",
      "                   False, False, False, False, False, False, False, False,\n",
      "                   False, False, False, False, False, False, False, False,\n",
      "                   False, False, False, False, False, False, False, False,\n",
      "                   False, False, False, False, False, False, False, False,\n",
      "                   False, False, False, False, False, False, False, False,\n",
      "                   False, False, False, False, False, False, False, False,\n",
      "                   False, False, False, False, False, False, False, False,\n",
      "                   False, False, False, False, False, False, False, False,\n",
      "                   False, False, False, False, False, False, False, False],\n",
      "       fill_value=999999), 'params': [{'max_depth': None, 'max_features': 5, 'min_samples_leaf': 1, 'n_estimators': 50}, {'max_depth': None, 'max_features': 5, 'min_samples_leaf': 1, 'n_estimators': 100}, {'max_depth': None, 'max_features': 5, 'min_samples_leaf': 1, 'n_estimators': 200}, {'max_depth': None, 'max_features': 5, 'min_samples_leaf': 1, 'n_estimators': 400}, {'max_depth': None, 'max_features': 5, 'min_samples_leaf': 2, 'n_estimators': 50}, {'max_depth': None, 'max_features': 5, 'min_samples_leaf': 2, 'n_estimators': 100}, {'max_depth': None, 'max_features': 5, 'min_samples_leaf': 2, 'n_estimators': 200}, {'max_depth': None, 'max_features': 5, 'min_samples_leaf': 2, 'n_estimators': 400}, {'max_depth': None, 'max_features': 5, 'min_samples_leaf': 4, 'n_estimators': 50}, {'max_depth': None, 'max_features': 5, 'min_samples_leaf': 4, 'n_estimators': 100}, {'max_depth': None, 'max_features': 5, 'min_samples_leaf': 4, 'n_estimators': 200}, {'max_depth': None, 'max_features': 5, 'min_samples_leaf': 4, 'n_estimators': 400}, {'max_depth': None, 'max_features': 10, 'min_samples_leaf': 1, 'n_estimators': 50}, {'max_depth': None, 'max_features': 10, 'min_samples_leaf': 1, 'n_estimators': 100}, {'max_depth': None, 'max_features': 10, 'min_samples_leaf': 1, 'n_estimators': 200}, {'max_depth': None, 'max_features': 10, 'min_samples_leaf': 1, 'n_estimators': 400}, {'max_depth': None, 'max_features': 10, 'min_samples_leaf': 2, 'n_estimators': 50}, {'max_depth': None, 'max_features': 10, 'min_samples_leaf': 2, 'n_estimators': 100}, {'max_depth': None, 'max_features': 10, 'min_samples_leaf': 2, 'n_estimators': 200}, {'max_depth': None, 'max_features': 10, 'min_samples_leaf': 2, 'n_estimators': 400}, {'max_depth': None, 'max_features': 10, 'min_samples_leaf': 4, 'n_estimators': 50}, {'max_depth': None, 'max_features': 10, 'min_samples_leaf': 4, 'n_estimators': 100}, {'max_depth': None, 'max_features': 10, 'min_samples_leaf': 4, 'n_estimators': 200}, {'max_depth': None, 'max_features': 10, 'min_samples_leaf': 4, 'n_estimators': 400}, {'max_depth': None, 'max_features': 'sqrt', 'min_samples_leaf': 1, 'n_estimators': 50}, {'max_depth': None, 'max_features': 'sqrt', 'min_samples_leaf': 1, 'n_estimators': 100}, {'max_depth': None, 'max_features': 'sqrt', 'min_samples_leaf': 1, 'n_estimators': 200}, {'max_depth': None, 'max_features': 'sqrt', 'min_samples_leaf': 1, 'n_estimators': 400}, {'max_depth': None, 'max_features': 'sqrt', 'min_samples_leaf': 2, 'n_estimators': 50}, {'max_depth': None, 'max_features': 'sqrt', 'min_samples_leaf': 2, 'n_estimators': 100}, {'max_depth': None, 'max_features': 'sqrt', 'min_samples_leaf': 2, 'n_estimators': 200}, {'max_depth': None, 'max_features': 'sqrt', 'min_samples_leaf': 2, 'n_estimators': 400}, {'max_depth': None, 'max_features': 'sqrt', 'min_samples_leaf': 4, 'n_estimators': 50}, {'max_depth': None, 'max_features': 'sqrt', 'min_samples_leaf': 4, 'n_estimators': 100}, {'max_depth': None, 'max_features': 'sqrt', 'min_samples_leaf': 4, 'n_estimators': 200}, {'max_depth': None, 'max_features': 'sqrt', 'min_samples_leaf': 4, 'n_estimators': 400}, {'max_depth': None, 'max_features': 'log2', 'min_samples_leaf': 1, 'n_estimators': 50}, {'max_depth': None, 'max_features': 'log2', 'min_samples_leaf': 1, 'n_estimators': 100}, {'max_depth': None, 'max_features': 'log2', 'min_samples_leaf': 1, 'n_estimators': 200}, {'max_depth': None, 'max_features': 'log2', 'min_samples_leaf': 1, 'n_estimators': 400}, {'max_depth': None, 'max_features': 'log2', 'min_samples_leaf': 2, 'n_estimators': 50}, {'max_depth': None, 'max_features': 'log2', 'min_samples_leaf': 2, 'n_estimators': 100}, {'max_depth': None, 'max_features': 'log2', 'min_samples_leaf': 2, 'n_estimators': 200}, {'max_depth': None, 'max_features': 'log2', 'min_samples_leaf': 2, 'n_estimators': 400}, {'max_depth': None, 'max_features': 'log2', 'min_samples_leaf': 4, 'n_estimators': 50}, {'max_depth': None, 'max_features': 'log2', 'min_samples_leaf': 4, 'n_estimators': 100}, {'max_depth': None, 'max_features': 'log2', 'min_samples_leaf': 4, 'n_estimators': 200}, {'max_depth': None, 'max_features': 'log2', 'min_samples_leaf': 4, 'n_estimators': 400}, {'max_depth': 10, 'max_features': 5, 'min_samples_leaf': 1, 'n_estimators': 50}, {'max_depth': 10, 'max_features': 5, 'min_samples_leaf': 1, 'n_estimators': 100}, {'max_depth': 10, 'max_features': 5, 'min_samples_leaf': 1, 'n_estimators': 200}, {'max_depth': 10, 'max_features': 5, 'min_samples_leaf': 1, 'n_estimators': 400}, {'max_depth': 10, 'max_features': 5, 'min_samples_leaf': 2, 'n_estimators': 50}, {'max_depth': 10, 'max_features': 5, 'min_samples_leaf': 2, 'n_estimators': 100}, {'max_depth': 10, 'max_features': 5, 'min_samples_leaf': 2, 'n_estimators': 200}, {'max_depth': 10, 'max_features': 5, 'min_samples_leaf': 2, 'n_estimators': 400}, {'max_depth': 10, 'max_features': 5, 'min_samples_leaf': 4, 'n_estimators': 50}, {'max_depth': 10, 'max_features': 5, 'min_samples_leaf': 4, 'n_estimators': 100}, {'max_depth': 10, 'max_features': 5, 'min_samples_leaf': 4, 'n_estimators': 200}, {'max_depth': 10, 'max_features': 5, 'min_samples_leaf': 4, 'n_estimators': 400}, {'max_depth': 10, 'max_features': 10, 'min_samples_leaf': 1, 'n_estimators': 50}, {'max_depth': 10, 'max_features': 10, 'min_samples_leaf': 1, 'n_estimators': 100}, {'max_depth': 10, 'max_features': 10, 'min_samples_leaf': 1, 'n_estimators': 200}, {'max_depth': 10, 'max_features': 10, 'min_samples_leaf': 1, 'n_estimators': 400}, {'max_depth': 10, 'max_features': 10, 'min_samples_leaf': 2, 'n_estimators': 50}, {'max_depth': 10, 'max_features': 10, 'min_samples_leaf': 2, 'n_estimators': 100}, {'max_depth': 10, 'max_features': 10, 'min_samples_leaf': 2, 'n_estimators': 200}, {'max_depth': 10, 'max_features': 10, 'min_samples_leaf': 2, 'n_estimators': 400}, {'max_depth': 10, 'max_features': 10, 'min_samples_leaf': 4, 'n_estimators': 50}, {'max_depth': 10, 'max_features': 10, 'min_samples_leaf': 4, 'n_estimators': 100}, {'max_depth': 10, 'max_features': 10, 'min_samples_leaf': 4, 'n_estimators': 200}, {'max_depth': 10, 'max_features': 10, 'min_samples_leaf': 4, 'n_estimators': 400}, {'max_depth': 10, 'max_features': 'sqrt', 'min_samples_leaf': 1, 'n_estimators': 50}, {'max_depth': 10, 'max_features': 'sqrt', 'min_samples_leaf': 1, 'n_estimators': 100}, {'max_depth': 10, 'max_features': 'sqrt', 'min_samples_leaf': 1, 'n_estimators': 200}, {'max_depth': 10, 'max_features': 'sqrt', 'min_samples_leaf': 1, 'n_estimators': 400}, {'max_depth': 10, 'max_features': 'sqrt', 'min_samples_leaf': 2, 'n_estimators': 50}, {'max_depth': 10, 'max_features': 'sqrt', 'min_samples_leaf': 2, 'n_estimators': 100}, {'max_depth': 10, 'max_features': 'sqrt', 'min_samples_leaf': 2, 'n_estimators': 200}, {'max_depth': 10, 'max_features': 'sqrt', 'min_samples_leaf': 2, 'n_estimators': 400}, {'max_depth': 10, 'max_features': 'sqrt', 'min_samples_leaf': 4, 'n_estimators': 50}, {'max_depth': 10, 'max_features': 'sqrt', 'min_samples_leaf': 4, 'n_estimators': 100}, {'max_depth': 10, 'max_features': 'sqrt', 'min_samples_leaf': 4, 'n_estimators': 200}, {'max_depth': 10, 'max_features': 'sqrt', 'min_samples_leaf': 4, 'n_estimators': 400}, {'max_depth': 10, 'max_features': 'log2', 'min_samples_leaf': 1, 'n_estimators': 50}, {'max_depth': 10, 'max_features': 'log2', 'min_samples_leaf': 1, 'n_estimators': 100}, {'max_depth': 10, 'max_features': 'log2', 'min_samples_leaf': 1, 'n_estimators': 200}, {'max_depth': 10, 'max_features': 'log2', 'min_samples_leaf': 1, 'n_estimators': 400}, {'max_depth': 10, 'max_features': 'log2', 'min_samples_leaf': 2, 'n_estimators': 50}, {'max_depth': 10, 'max_features': 'log2', 'min_samples_leaf': 2, 'n_estimators': 100}, {'max_depth': 10, 'max_features': 'log2', 'min_samples_leaf': 2, 'n_estimators': 200}, {'max_depth': 10, 'max_features': 'log2', 'min_samples_leaf': 2, 'n_estimators': 400}, {'max_depth': 10, 'max_features': 'log2', 'min_samples_leaf': 4, 'n_estimators': 50}, {'max_depth': 10, 'max_features': 'log2', 'min_samples_leaf': 4, 'n_estimators': 100}, {'max_depth': 10, 'max_features': 'log2', 'min_samples_leaf': 4, 'n_estimators': 200}, {'max_depth': 10, 'max_features': 'log2', 'min_samples_leaf': 4, 'n_estimators': 400}, {'max_depth': 20, 'max_features': 5, 'min_samples_leaf': 1, 'n_estimators': 50}, {'max_depth': 20, 'max_features': 5, 'min_samples_leaf': 1, 'n_estimators': 100}, {'max_depth': 20, 'max_features': 5, 'min_samples_leaf': 1, 'n_estimators': 200}, {'max_depth': 20, 'max_features': 5, 'min_samples_leaf': 1, 'n_estimators': 400}, {'max_depth': 20, 'max_features': 5, 'min_samples_leaf': 2, 'n_estimators': 50}, {'max_depth': 20, 'max_features': 5, 'min_samples_leaf': 2, 'n_estimators': 100}, {'max_depth': 20, 'max_features': 5, 'min_samples_leaf': 2, 'n_estimators': 200}, {'max_depth': 20, 'max_features': 5, 'min_samples_leaf': 2, 'n_estimators': 400}, {'max_depth': 20, 'max_features': 5, 'min_samples_leaf': 4, 'n_estimators': 50}, {'max_depth': 20, 'max_features': 5, 'min_samples_leaf': 4, 'n_estimators': 100}, {'max_depth': 20, 'max_features': 5, 'min_samples_leaf': 4, 'n_estimators': 200}, {'max_depth': 20, 'max_features': 5, 'min_samples_leaf': 4, 'n_estimators': 400}, {'max_depth': 20, 'max_features': 10, 'min_samples_leaf': 1, 'n_estimators': 50}, {'max_depth': 20, 'max_features': 10, 'min_samples_leaf': 1, 'n_estimators': 100}, {'max_depth': 20, 'max_features': 10, 'min_samples_leaf': 1, 'n_estimators': 200}, {'max_depth': 20, 'max_features': 10, 'min_samples_leaf': 1, 'n_estimators': 400}, {'max_depth': 20, 'max_features': 10, 'min_samples_leaf': 2, 'n_estimators': 50}, {'max_depth': 20, 'max_features': 10, 'min_samples_leaf': 2, 'n_estimators': 100}, {'max_depth': 20, 'max_features': 10, 'min_samples_leaf': 2, 'n_estimators': 200}, {'max_depth': 20, 'max_features': 10, 'min_samples_leaf': 2, 'n_estimators': 400}, {'max_depth': 20, 'max_features': 10, 'min_samples_leaf': 4, 'n_estimators': 50}, {'max_depth': 20, 'max_features': 10, 'min_samples_leaf': 4, 'n_estimators': 100}, {'max_depth': 20, 'max_features': 10, 'min_samples_leaf': 4, 'n_estimators': 200}, {'max_depth': 20, 'max_features': 10, 'min_samples_leaf': 4, 'n_estimators': 400}, {'max_depth': 20, 'max_features': 'sqrt', 'min_samples_leaf': 1, 'n_estimators': 50}, {'max_depth': 20, 'max_features': 'sqrt', 'min_samples_leaf': 1, 'n_estimators': 100}, {'max_depth': 20, 'max_features': 'sqrt', 'min_samples_leaf': 1, 'n_estimators': 200}, {'max_depth': 20, 'max_features': 'sqrt', 'min_samples_leaf': 1, 'n_estimators': 400}, {'max_depth': 20, 'max_features': 'sqrt', 'min_samples_leaf': 2, 'n_estimators': 50}, {'max_depth': 20, 'max_features': 'sqrt', 'min_samples_leaf': 2, 'n_estimators': 100}, {'max_depth': 20, 'max_features': 'sqrt', 'min_samples_leaf': 2, 'n_estimators': 200}, {'max_depth': 20, 'max_features': 'sqrt', 'min_samples_leaf': 2, 'n_estimators': 400}, {'max_depth': 20, 'max_features': 'sqrt', 'min_samples_leaf': 4, 'n_estimators': 50}, {'max_depth': 20, 'max_features': 'sqrt', 'min_samples_leaf': 4, 'n_estimators': 100}, {'max_depth': 20, 'max_features': 'sqrt', 'min_samples_leaf': 4, 'n_estimators': 200}, {'max_depth': 20, 'max_features': 'sqrt', 'min_samples_leaf': 4, 'n_estimators': 400}, {'max_depth': 20, 'max_features': 'log2', 'min_samples_leaf': 1, 'n_estimators': 50}, {'max_depth': 20, 'max_features': 'log2', 'min_samples_leaf': 1, 'n_estimators': 100}, {'max_depth': 20, 'max_features': 'log2', 'min_samples_leaf': 1, 'n_estimators': 200}, {'max_depth': 20, 'max_features': 'log2', 'min_samples_leaf': 1, 'n_estimators': 400}, {'max_depth': 20, 'max_features': 'log2', 'min_samples_leaf': 2, 'n_estimators': 50}, {'max_depth': 20, 'max_features': 'log2', 'min_samples_leaf': 2, 'n_estimators': 100}, {'max_depth': 20, 'max_features': 'log2', 'min_samples_leaf': 2, 'n_estimators': 200}, {'max_depth': 20, 'max_features': 'log2', 'min_samples_leaf': 2, 'n_estimators': 400}, {'max_depth': 20, 'max_features': 'log2', 'min_samples_leaf': 4, 'n_estimators': 50}, {'max_depth': 20, 'max_features': 'log2', 'min_samples_leaf': 4, 'n_estimators': 100}, {'max_depth': 20, 'max_features': 'log2', 'min_samples_leaf': 4, 'n_estimators': 200}, {'max_depth': 20, 'max_features': 'log2', 'min_samples_leaf': 4, 'n_estimators': 400}, {'max_depth': 30, 'max_features': 5, 'min_samples_leaf': 1, 'n_estimators': 50}, {'max_depth': 30, 'max_features': 5, 'min_samples_leaf': 1, 'n_estimators': 100}, {'max_depth': 30, 'max_features': 5, 'min_samples_leaf': 1, 'n_estimators': 200}, {'max_depth': 30, 'max_features': 5, 'min_samples_leaf': 1, 'n_estimators': 400}, {'max_depth': 30, 'max_features': 5, 'min_samples_leaf': 2, 'n_estimators': 50}, {'max_depth': 30, 'max_features': 5, 'min_samples_leaf': 2, 'n_estimators': 100}, {'max_depth': 30, 'max_features': 5, 'min_samples_leaf': 2, 'n_estimators': 200}, {'max_depth': 30, 'max_features': 5, 'min_samples_leaf': 2, 'n_estimators': 400}, {'max_depth': 30, 'max_features': 5, 'min_samples_leaf': 4, 'n_estimators': 50}, {'max_depth': 30, 'max_features': 5, 'min_samples_leaf': 4, 'n_estimators': 100}, {'max_depth': 30, 'max_features': 5, 'min_samples_leaf': 4, 'n_estimators': 200}, {'max_depth': 30, 'max_features': 5, 'min_samples_leaf': 4, 'n_estimators': 400}, {'max_depth': 30, 'max_features': 10, 'min_samples_leaf': 1, 'n_estimators': 50}, {'max_depth': 30, 'max_features': 10, 'min_samples_leaf': 1, 'n_estimators': 100}, {'max_depth': 30, 'max_features': 10, 'min_samples_leaf': 1, 'n_estimators': 200}, {'max_depth': 30, 'max_features': 10, 'min_samples_leaf': 1, 'n_estimators': 400}, {'max_depth': 30, 'max_features': 10, 'min_samples_leaf': 2, 'n_estimators': 50}, {'max_depth': 30, 'max_features': 10, 'min_samples_leaf': 2, 'n_estimators': 100}, {'max_depth': 30, 'max_features': 10, 'min_samples_leaf': 2, 'n_estimators': 200}, {'max_depth': 30, 'max_features': 10, 'min_samples_leaf': 2, 'n_estimators': 400}, {'max_depth': 30, 'max_features': 10, 'min_samples_leaf': 4, 'n_estimators': 50}, {'max_depth': 30, 'max_features': 10, 'min_samples_leaf': 4, 'n_estimators': 100}, {'max_depth': 30, 'max_features': 10, 'min_samples_leaf': 4, 'n_estimators': 200}, {'max_depth': 30, 'max_features': 10, 'min_samples_leaf': 4, 'n_estimators': 400}, {'max_depth': 30, 'max_features': 'sqrt', 'min_samples_leaf': 1, 'n_estimators': 50}, {'max_depth': 30, 'max_features': 'sqrt', 'min_samples_leaf': 1, 'n_estimators': 100}, {'max_depth': 30, 'max_features': 'sqrt', 'min_samples_leaf': 1, 'n_estimators': 200}, {'max_depth': 30, 'max_features': 'sqrt', 'min_samples_leaf': 1, 'n_estimators': 400}, {'max_depth': 30, 'max_features': 'sqrt', 'min_samples_leaf': 2, 'n_estimators': 50}, {'max_depth': 30, 'max_features': 'sqrt', 'min_samples_leaf': 2, 'n_estimators': 100}, {'max_depth': 30, 'max_features': 'sqrt', 'min_samples_leaf': 2, 'n_estimators': 200}, {'max_depth': 30, 'max_features': 'sqrt', 'min_samples_leaf': 2, 'n_estimators': 400}, {'max_depth': 30, 'max_features': 'sqrt', 'min_samples_leaf': 4, 'n_estimators': 50}, {'max_depth': 30, 'max_features': 'sqrt', 'min_samples_leaf': 4, 'n_estimators': 100}, {'max_depth': 30, 'max_features': 'sqrt', 'min_samples_leaf': 4, 'n_estimators': 200}, {'max_depth': 30, 'max_features': 'sqrt', 'min_samples_leaf': 4, 'n_estimators': 400}, {'max_depth': 30, 'max_features': 'log2', 'min_samples_leaf': 1, 'n_estimators': 50}, {'max_depth': 30, 'max_features': 'log2', 'min_samples_leaf': 1, 'n_estimators': 100}, {'max_depth': 30, 'max_features': 'log2', 'min_samples_leaf': 1, 'n_estimators': 200}, {'max_depth': 30, 'max_features': 'log2', 'min_samples_leaf': 1, 'n_estimators': 400}, {'max_depth': 30, 'max_features': 'log2', 'min_samples_leaf': 2, 'n_estimators': 50}, {'max_depth': 30, 'max_features': 'log2', 'min_samples_leaf': 2, 'n_estimators': 100}, {'max_depth': 30, 'max_features': 'log2', 'min_samples_leaf': 2, 'n_estimators': 200}, {'max_depth': 30, 'max_features': 'log2', 'min_samples_leaf': 2, 'n_estimators': 400}, {'max_depth': 30, 'max_features': 'log2', 'min_samples_leaf': 4, 'n_estimators': 50}, {'max_depth': 30, 'max_features': 'log2', 'min_samples_leaf': 4, 'n_estimators': 100}, {'max_depth': 30, 'max_features': 'log2', 'min_samples_leaf': 4, 'n_estimators': 200}, {'max_depth': 30, 'max_features': 'log2', 'min_samples_leaf': 4, 'n_estimators': 400}], 'split0_test_score': array([0.98089286, 0.98178571, 0.98160714, 0.98285714, 0.97839286,\n",
      "       0.98035714, 0.98178571, 0.98125   , 0.97910714, 0.97928571,\n",
      "       0.97982143, 0.97946429, 0.99107143, 0.99196429, 0.99142857,\n",
      "       0.99160714, 0.99107143, 0.99125   , 0.99107143, 0.99089286,\n",
      "       0.99035714, 0.99160714, 0.99071429, 0.99071429, 0.98767857,\n",
      "       0.9875    , 0.98803571, 0.98803571, 0.98803571, 0.98767857,\n",
      "       0.98732143, 0.98767857, 0.98589286, 0.98589286, 0.98660714,\n",
      "       0.98642857, 0.98089286, 0.98178571, 0.98160714, 0.98285714,\n",
      "       0.97839286, 0.98035714, 0.98178571, 0.98125   , 0.97910714,\n",
      "       0.97928571, 0.97982143, 0.97946429, 0.97571429, 0.97589286,\n",
      "       0.97392857, 0.97410714, 0.97517857, 0.975     , 0.97321429,\n",
      "       0.97375   , 0.97410714, 0.97446429, 0.97410714, 0.97392857,\n",
      "       0.98714286, 0.98803571, 0.98892857, 0.98875   , 0.9875    ,\n",
      "       0.98892857, 0.98857143, 0.98785714, 0.985     , 0.98803571,\n",
      "       0.98767857, 0.98821429, 0.98017857, 0.98      , 0.98125   ,\n",
      "       0.98178571, 0.98482143, 0.98410714, 0.98357143, 0.9825    ,\n",
      "       0.97875   , 0.97928571, 0.98035714, 0.98      , 0.97571429,\n",
      "       0.97589286, 0.97392857, 0.97410714, 0.97517857, 0.975     ,\n",
      "       0.97321429, 0.97375   , 0.97410714, 0.97446429, 0.97410714,\n",
      "       0.97392857, 0.98035714, 0.98196429, 0.98160714, 0.98285714,\n",
      "       0.98160714, 0.98285714, 0.98160714, 0.98125   , 0.98053571,\n",
      "       0.97892857, 0.98107143, 0.97928571, 0.99071429, 0.99196429,\n",
      "       0.99142857, 0.99089286, 0.99053571, 0.99071429, 0.99107143,\n",
      "       0.99107143, 0.99053571, 0.99232143, 0.99160714, 0.99053571,\n",
      "       0.98642857, 0.98678571, 0.98839286, 0.98821429, 0.98642857,\n",
      "       0.98642857, 0.98714286, 0.98803571, 0.98357143, 0.98446429,\n",
      "       0.98642857, 0.98607143, 0.98035714, 0.98196429, 0.98160714,\n",
      "       0.98285714, 0.98160714, 0.98285714, 0.98160714, 0.98125   ,\n",
      "       0.98053571, 0.97892857, 0.98107143, 0.97928571, 0.98035714,\n",
      "       0.98125   , 0.98071429, 0.98214286, 0.97875   , 0.98178571,\n",
      "       0.98160714, 0.98125   , 0.98071429, 0.98107143, 0.98071429,\n",
      "       0.97946429, 0.99107143, 0.99160714, 0.99125   , 0.99178571,\n",
      "       0.99160714, 0.99107143, 0.99107143, 0.99071429, 0.99035714,\n",
      "       0.99160714, 0.99053571, 0.99071429, 0.98714286, 0.98678571,\n",
      "       0.9875    , 0.98696429, 0.98785714, 0.98803571, 0.98821429,\n",
      "       0.98821429, 0.98607143, 0.98535714, 0.98642857, 0.98642857,\n",
      "       0.98035714, 0.98125   , 0.98071429, 0.98214286, 0.97875   ,\n",
      "       0.98178571, 0.98160714, 0.98125   , 0.98071429, 0.98107143,\n",
      "       0.98071429, 0.97946429]), 'split1_test_score': array([0.98732143, 0.9875    , 0.98678571, 0.98732143, 0.98625   ,\n",
      "       0.98571429, 0.98678571, 0.98678571, 0.98607143, 0.98553571,\n",
      "       0.98571429, 0.98535714, 0.99178571, 0.99267857, 0.99321429,\n",
      "       0.99357143, 0.99214286, 0.99285714, 0.9925    , 0.99303571,\n",
      "       0.99142857, 0.99267857, 0.9925    , 0.9925    , 0.98892857,\n",
      "       0.99071429, 0.99142857, 0.99178571, 0.98928571, 0.99      ,\n",
      "       0.99071429, 0.99053571, 0.98946429, 0.98964286, 0.99053571,\n",
      "       0.99035714, 0.98732143, 0.9875    , 0.98678571, 0.98732143,\n",
      "       0.98625   , 0.98571429, 0.98678571, 0.98678571, 0.98607143,\n",
      "       0.98553571, 0.98571429, 0.98535714, 0.97767857, 0.98053571,\n",
      "       0.98089286, 0.98071429, 0.98160714, 0.98089286, 0.98160714,\n",
      "       0.98107143, 0.97928571, 0.97892857, 0.98071429, 0.97982143,\n",
      "       0.98982143, 0.99107143, 0.99107143, 0.99089286, 0.99035714,\n",
      "       0.99071429, 0.99071429, 0.99107143, 0.99035714, 0.99017857,\n",
      "       0.99071429, 0.99107143, 0.98678571, 0.98660714, 0.98678571,\n",
      "       0.98732143, 0.98625   , 0.98696429, 0.98785714, 0.98696429,\n",
      "       0.98392857, 0.98428571, 0.98660714, 0.98589286, 0.97767857,\n",
      "       0.98053571, 0.98089286, 0.98071429, 0.98160714, 0.98089286,\n",
      "       0.98160714, 0.98107143, 0.97928571, 0.97892857, 0.98071429,\n",
      "       0.97982143, 0.98607143, 0.98660714, 0.98660714, 0.98767857,\n",
      "       0.98660714, 0.98696429, 0.98625   , 0.98678571, 0.98589286,\n",
      "       0.98642857, 0.98553571, 0.98625   , 0.99196429, 0.99267857,\n",
      "       0.99303571, 0.99375   , 0.99214286, 0.99303571, 0.99285714,\n",
      "       0.99267857, 0.99160714, 0.9925    , 0.99232143, 0.99267857,\n",
      "       0.98964286, 0.99107143, 0.99125   , 0.99178571, 0.99071429,\n",
      "       0.99089286, 0.99071429, 0.99107143, 0.98928571, 0.98982143,\n",
      "       0.99053571, 0.99053571, 0.98607143, 0.98660714, 0.98660714,\n",
      "       0.98767857, 0.98660714, 0.98696429, 0.98625   , 0.98678571,\n",
      "       0.98589286, 0.98642857, 0.98553571, 0.98625   , 0.98732143,\n",
      "       0.98660714, 0.98660714, 0.98660714, 0.98589286, 0.98625   ,\n",
      "       0.98678571, 0.98767857, 0.98607143, 0.98571429, 0.98535714,\n",
      "       0.98482143, 0.99232143, 0.99267857, 0.99285714, 0.99357143,\n",
      "       0.99214286, 0.99267857, 0.99267857, 0.99321429, 0.99142857,\n",
      "       0.99267857, 0.9925    , 0.9925    , 0.98946429, 0.99107143,\n",
      "       0.99196429, 0.99142857, 0.98875   , 0.98928571, 0.99053571,\n",
      "       0.99125   , 0.98910714, 0.99      , 0.99089286, 0.99071429,\n",
      "       0.98732143, 0.98660714, 0.98660714, 0.98660714, 0.98589286,\n",
      "       0.98625   , 0.98678571, 0.98767857, 0.98607143, 0.98571429,\n",
      "       0.98535714, 0.98482143]), 'split2_test_score': array([0.98517857, 0.98571429, 0.98428571, 0.98446429, 0.98321429,\n",
      "       0.98285714, 0.98232143, 0.98196429, 0.98160714, 0.98321429,\n",
      "       0.98285714, 0.98053571, 0.98946429, 0.99017857, 0.99      ,\n",
      "       0.99017857, 0.98928571, 0.99053571, 0.99071429, 0.98964286,\n",
      "       0.98910714, 0.98982143, 0.98928571, 0.98928571, 0.98857143,\n",
      "       0.98892857, 0.98857143, 0.98875   , 0.98625   , 0.98785714,\n",
      "       0.98714286, 0.98821429, 0.98517857, 0.98589286, 0.98660714,\n",
      "       0.98732143, 0.98517857, 0.98571429, 0.98428571, 0.98446429,\n",
      "       0.98321429, 0.98285714, 0.98232143, 0.98196429, 0.98160714,\n",
      "       0.98321429, 0.98285714, 0.98053571, 0.97482143, 0.97482143,\n",
      "       0.97482143, 0.975     , 0.97321429, 0.975     , 0.97410714,\n",
      "       0.97428571, 0.97553571, 0.97464286, 0.97553571, 0.97535714,\n",
      "       0.98767857, 0.98803571, 0.98785714, 0.98821429, 0.98571429,\n",
      "       0.98767857, 0.9875    , 0.98803571, 0.98678571, 0.9875    ,\n",
      "       0.9875    , 0.98785714, 0.9825    , 0.98089286, 0.98035714,\n",
      "       0.98178571, 0.97910714, 0.97982143, 0.98160714, 0.9825    ,\n",
      "       0.98303571, 0.98107143, 0.98071429, 0.98107143, 0.97482143,\n",
      "       0.97482143, 0.97482143, 0.975     , 0.97321429, 0.975     ,\n",
      "       0.97410714, 0.97428571, 0.97553571, 0.97464286, 0.97553571,\n",
      "       0.97535714, 0.98107143, 0.98375   , 0.98392857, 0.98321429,\n",
      "       0.98321429, 0.98160714, 0.98214286, 0.98160714, 0.97964286,\n",
      "       0.98214286, 0.98160714, 0.98035714, 0.99017857, 0.99053571,\n",
      "       0.98928571, 0.99      , 0.98982143, 0.99017857, 0.99035714,\n",
      "       0.99017857, 0.98928571, 0.98946429, 0.98964286, 0.98910714,\n",
      "       0.98625   , 0.98785714, 0.98839286, 0.98892857, 0.98678571,\n",
      "       0.9875    , 0.98696429, 0.98785714, 0.98464286, 0.98589286,\n",
      "       0.98660714, 0.98714286, 0.98107143, 0.98375   , 0.98392857,\n",
      "       0.98321429, 0.98321429, 0.98160714, 0.98214286, 0.98160714,\n",
      "       0.97964286, 0.98214286, 0.98160714, 0.98035714, 0.98446429,\n",
      "       0.98589286, 0.98535714, 0.98482143, 0.98071429, 0.98160714,\n",
      "       0.98125   , 0.98160714, 0.98196429, 0.98285714, 0.98142857,\n",
      "       0.98035714, 0.98982143, 0.99      , 0.99      , 0.99017857,\n",
      "       0.98982143, 0.99035714, 0.99053571, 0.99      , 0.98946429,\n",
      "       0.98982143, 0.98946429, 0.98892857, 0.98803571, 0.98785714,\n",
      "       0.98857143, 0.98910714, 0.98535714, 0.98714286, 0.98732143,\n",
      "       0.98821429, 0.985     , 0.98625   , 0.98625   , 0.98732143,\n",
      "       0.98446429, 0.98589286, 0.98535714, 0.98482143, 0.98071429,\n",
      "       0.98160714, 0.98125   , 0.98160714, 0.98196429, 0.98285714,\n",
      "       0.98142857, 0.98035714]), 'split3_test_score': array([0.98017857, 0.98232143, 0.98089286, 0.98089286, 0.97910714,\n",
      "       0.98196429, 0.98196429, 0.98267857, 0.98142857, 0.98232143,\n",
      "       0.98071429, 0.97946429, 0.99017857, 0.99017857, 0.99089286,\n",
      "       0.99053571, 0.98875   , 0.98892857, 0.98964286, 0.99      ,\n",
      "       0.98928571, 0.98964286, 0.98910714, 0.98928571, 0.98607143,\n",
      "       0.98625   , 0.9875    , 0.98803571, 0.98446429, 0.98553571,\n",
      "       0.98696429, 0.98696429, 0.98303571, 0.98482143, 0.98589286,\n",
      "       0.98732143, 0.98017857, 0.98232143, 0.98089286, 0.98089286,\n",
      "       0.97910714, 0.98196429, 0.98196429, 0.98267857, 0.98142857,\n",
      "       0.98232143, 0.98071429, 0.97946429, 0.97589286, 0.97642857,\n",
      "       0.97410714, 0.97410714, 0.975     , 0.97428571, 0.97446429,\n",
      "       0.97535714, 0.97553571, 0.97482143, 0.97285714, 0.97375   ,\n",
      "       0.98642857, 0.98678571, 0.9875    , 0.98767857, 0.98678571,\n",
      "       0.98732143, 0.98732143, 0.98821429, 0.98785714, 0.98803571,\n",
      "       0.98875   , 0.98857143, 0.97982143, 0.97857143, 0.98160714,\n",
      "       0.98285714, 0.98017857, 0.97982143, 0.98089286, 0.98303571,\n",
      "       0.98107143, 0.98      , 0.98196429, 0.98178571, 0.97589286,\n",
      "       0.97642857, 0.97410714, 0.97410714, 0.975     , 0.97428571,\n",
      "       0.97446429, 0.97535714, 0.97553571, 0.97482143, 0.97285714,\n",
      "       0.97375   , 0.97857143, 0.98107143, 0.98107143, 0.98214286,\n",
      "       0.97928571, 0.98125   , 0.98107143, 0.98267857, 0.97875   ,\n",
      "       0.98160714, 0.97964286, 0.97964286, 0.99071429, 0.99071429,\n",
      "       0.99125   , 0.99035714, 0.98857143, 0.98910714, 0.98982143,\n",
      "       0.99      , 0.98892857, 0.98892857, 0.98875   , 0.98946429,\n",
      "       0.98464286, 0.98607143, 0.98696429, 0.98714286, 0.98553571,\n",
      "       0.98660714, 0.98732143, 0.98660714, 0.9825    , 0.98464286,\n",
      "       0.98589286, 0.98678571, 0.97857143, 0.98107143, 0.98107143,\n",
      "       0.98214286, 0.97928571, 0.98125   , 0.98107143, 0.98267857,\n",
      "       0.97875   , 0.98160714, 0.97964286, 0.97964286, 0.98107143,\n",
      "       0.98339286, 0.98178571, 0.98089286, 0.98      , 0.98232143,\n",
      "       0.98232143, 0.98267857, 0.98071429, 0.98160714, 0.98017857,\n",
      "       0.97946429, 0.99053571, 0.99017857, 0.99107143, 0.99035714,\n",
      "       0.98857143, 0.98875   , 0.98964286, 0.98982143, 0.98982143,\n",
      "       0.98928571, 0.98910714, 0.98928571, 0.98535714, 0.98642857,\n",
      "       0.98767857, 0.98821429, 0.98464286, 0.98517857, 0.98660714,\n",
      "       0.98714286, 0.98267857, 0.98482143, 0.98571429, 0.98714286,\n",
      "       0.98107143, 0.98339286, 0.98178571, 0.98089286, 0.98      ,\n",
      "       0.98232143, 0.98232143, 0.98267857, 0.98071429, 0.98160714,\n",
      "       0.98017857, 0.97946429]), 'split4_test_score': array([0.98571429, 0.98589286, 0.98732143, 0.98714286, 0.98642857,\n",
      "       0.9875    , 0.98803571, 0.98678571, 0.98446429, 0.98589286,\n",
      "       0.98642857, 0.985     , 0.99357143, 0.99357143, 0.99392857,\n",
      "       0.99339286, 0.99303571, 0.99357143, 0.99357143, 0.99339286,\n",
      "       0.99339286, 0.99303571, 0.99285714, 0.99267857, 0.99160714,\n",
      "       0.99214286, 0.99267857, 0.99214286, 0.99160714, 0.99125   ,\n",
      "       0.99196429, 0.99125   , 0.99071429, 0.99107143, 0.99178571,\n",
      "       0.99089286, 0.98571429, 0.98589286, 0.98732143, 0.98714286,\n",
      "       0.98642857, 0.9875    , 0.98803571, 0.98678571, 0.98446429,\n",
      "       0.98589286, 0.98642857, 0.985     , 0.98196429, 0.98178571,\n",
      "       0.97892857, 0.97821429, 0.9825    , 0.98125   , 0.98071429,\n",
      "       0.98035714, 0.98375   , 0.98089286, 0.97839286, 0.97946429,\n",
      "       0.99053571, 0.99142857, 0.99160714, 0.99107143, 0.99160714,\n",
      "       0.9925    , 0.9925    , 0.99196429, 0.98982143, 0.99214286,\n",
      "       0.99285714, 0.9925    , 0.98571429, 0.98339286, 0.98571429,\n",
      "       0.98625   , 0.98821429, 0.98446429, 0.98625   , 0.98607143,\n",
      "       0.98607143, 0.98589286, 0.98696429, 0.98571429, 0.98196429,\n",
      "       0.98178571, 0.97892857, 0.97821429, 0.9825    , 0.98125   ,\n",
      "       0.98071429, 0.98035714, 0.98375   , 0.98089286, 0.97839286,\n",
      "       0.97946429, 0.98714286, 0.98821429, 0.98892857, 0.98732143,\n",
      "       0.98446429, 0.98767857, 0.98696429, 0.98642857, 0.98446429,\n",
      "       0.98571429, 0.98571429, 0.98464286, 0.99303571, 0.99285714,\n",
      "       0.99285714, 0.99285714, 0.99285714, 0.99375   , 0.99339286,\n",
      "       0.99303571, 0.99339286, 0.99321429, 0.99267857, 0.99303571,\n",
      "       0.99089286, 0.99089286, 0.99178571, 0.99178571, 0.99089286,\n",
      "       0.99125   , 0.99178571, 0.99178571, 0.99089286, 0.99160714,\n",
      "       0.99107143, 0.99125   , 0.98714286, 0.98821429, 0.98892857,\n",
      "       0.98732143, 0.98446429, 0.98767857, 0.98696429, 0.98642857,\n",
      "       0.98446429, 0.98571429, 0.98571429, 0.98464286, 0.98535714,\n",
      "       0.98410714, 0.98660714, 0.9875    , 0.98607143, 0.98732143,\n",
      "       0.98785714, 0.98714286, 0.985     , 0.98553571, 0.98571429,\n",
      "       0.98607143, 0.99357143, 0.99339286, 0.99375   , 0.99321429,\n",
      "       0.99285714, 0.99375   , 0.99321429, 0.99321429, 0.99321429,\n",
      "       0.99285714, 0.99267857, 0.99285714, 0.99214286, 0.99125   ,\n",
      "       0.99232143, 0.9925    , 0.99160714, 0.99071429, 0.99178571,\n",
      "       0.99142857, 0.99035714, 0.99071429, 0.99107143, 0.99071429,\n",
      "       0.98535714, 0.98410714, 0.98660714, 0.9875    , 0.98607143,\n",
      "       0.98732143, 0.98785714, 0.98714286, 0.985     , 0.98553571,\n",
      "       0.98571429, 0.98607143]), 'mean_test_score': array([0.98385714, 0.98464286, 0.98417857, 0.98453571, 0.98267857,\n",
      "       0.98367857, 0.98417857, 0.98389286, 0.98253571, 0.98325   ,\n",
      "       0.98310714, 0.98196429, 0.99121429, 0.99171429, 0.99189286,\n",
      "       0.99185714, 0.99085714, 0.99142857, 0.9915    , 0.99139286,\n",
      "       0.99071429, 0.99135714, 0.99089286, 0.99089286, 0.98857143,\n",
      "       0.98910714, 0.98964286, 0.98975   , 0.98792857, 0.98846429,\n",
      "       0.98882143, 0.98892857, 0.98685714, 0.98746429, 0.98828571,\n",
      "       0.98846429, 0.98385714, 0.98464286, 0.98417857, 0.98453571,\n",
      "       0.98267857, 0.98367857, 0.98417857, 0.98389286, 0.98253571,\n",
      "       0.98325   , 0.98310714, 0.98196429, 0.97721429, 0.97789286,\n",
      "       0.97653571, 0.97642857, 0.9775    , 0.97728571, 0.97682143,\n",
      "       0.97696429, 0.97764286, 0.97675   , 0.97632143, 0.97646429,\n",
      "       0.98832143, 0.98907143, 0.98939286, 0.98932143, 0.98839286,\n",
      "       0.98942857, 0.98932143, 0.98942857, 0.98796429, 0.98917857,\n",
      "       0.9895    , 0.98964286, 0.983     , 0.98189286, 0.98314286,\n",
      "       0.984     , 0.98371429, 0.98303571, 0.98403571, 0.98421429,\n",
      "       0.98257143, 0.98210714, 0.98332143, 0.98289286, 0.97721429,\n",
      "       0.97789286, 0.97653571, 0.97642857, 0.9775    , 0.97728571,\n",
      "       0.97682143, 0.97696429, 0.97764286, 0.97675   , 0.97632143,\n",
      "       0.97646429, 0.98264286, 0.98432143, 0.98442857, 0.98464286,\n",
      "       0.98303571, 0.98407143, 0.98360714, 0.98375   , 0.98185714,\n",
      "       0.98296429, 0.98271429, 0.98203571, 0.99132143, 0.99175   ,\n",
      "       0.99157143, 0.99157143, 0.99078571, 0.99135714, 0.9915    ,\n",
      "       0.99139286, 0.99075   , 0.99128571, 0.991     , 0.99096429,\n",
      "       0.98757143, 0.98853571, 0.98935714, 0.98957143, 0.98807143,\n",
      "       0.98853571, 0.98878571, 0.98907143, 0.98617857, 0.98728571,\n",
      "       0.98810714, 0.98835714, 0.98264286, 0.98432143, 0.98442857,\n",
      "       0.98464286, 0.98303571, 0.98407143, 0.98360714, 0.98375   ,\n",
      "       0.98185714, 0.98296429, 0.98271429, 0.98203571, 0.98371429,\n",
      "       0.98425   , 0.98421429, 0.98439286, 0.98228571, 0.98385714,\n",
      "       0.98396429, 0.98407143, 0.98289286, 0.98335714, 0.98267857,\n",
      "       0.98203571, 0.99146429, 0.99157143, 0.99178571, 0.99182143,\n",
      "       0.991     , 0.99132143, 0.99142857, 0.99139286, 0.99085714,\n",
      "       0.99125   , 0.99085714, 0.99085714, 0.98842857, 0.98867857,\n",
      "       0.98960714, 0.98964286, 0.98764286, 0.98807143, 0.98889286,\n",
      "       0.98925   , 0.98664286, 0.98742857, 0.98807143, 0.98846429,\n",
      "       0.98371429, 0.98425   , 0.98421429, 0.98439286, 0.98228571,\n",
      "       0.98385714, 0.98396429, 0.98407143, 0.98289286, 0.98335714,\n",
      "       0.98267857, 0.98203571]), 'std_test_score': array([0.00281124, 0.00221025, 0.0026113 , 0.0024759 , 0.00341254,\n",
      "       0.00258429, 0.00267404, 0.00240482, 0.00245209, 0.00239951,\n",
      "       0.00262348, 0.00265586, 0.00141692, 0.00135338, 0.00146211,\n",
      "       0.00140879, 0.00163429, 0.001656  , 0.00138136, 0.00154606,\n",
      "       0.0015771 , 0.00140879, 0.00156492, 0.00148117, 0.00181054,\n",
      "       0.00212492, 0.00203603, 0.00183016, 0.00245781, 0.00198399,\n",
      "       0.00209652, 0.00166752, 0.00282933, 0.00243644, 0.00239472,\n",
      "       0.00180207, 0.00281124, 0.00221025, 0.0026113 , 0.0024759 ,\n",
      "       0.00341254, 0.00258429, 0.00267404, 0.00240482, 0.00245209,\n",
      "       0.00239951, 0.00262348, 0.00265586, 0.00254951, 0.00274652,\n",
      "       0.00284058, 0.00262202, 0.00379144, 0.00310406, 0.00357749,\n",
      "       0.0031135 , 0.00350364, 0.00265682, 0.00286739, 0.00265682,\n",
      "       0.00158356, 0.00183989, 0.00166599, 0.0013988 , 0.00222463,\n",
      "       0.0019411 , 0.00199617, 0.00173279, 0.00196785, 0.00174452,\n",
      "       0.00203101, 0.00182108, 0.00282888, 0.00283158, 0.00259169,\n",
      "       0.00233267, 0.00351092, 0.00280306, 0.00266449, 0.00191197,\n",
      "       0.00249643, 0.00255151, 0.00288071, 0.00244428, 0.00254951,\n",
      "       0.00274652, 0.00284058, 0.00262202, 0.00379144, 0.00310406,\n",
      "       0.00357749, 0.0031135 , 0.00350364, 0.00265682, 0.00286739,\n",
      "       0.00265682, 0.00335486, 0.00271382, 0.00298252, 0.00236093,\n",
      "       0.00248721, 0.00271616, 0.00248311, 0.00238244, 0.0028067 ,\n",
      "       0.0027701 , 0.00246247, 0.00285178, 0.00103879, 0.00096759,\n",
      "       0.00135244, 0.00146994, 0.001551  , 0.00175546, 0.00139514,\n",
      "       0.00125458, 0.00162647, 0.00174013, 0.00153862, 0.0016194 ,\n",
      "       0.0023217 , 0.00207758, 0.0018475 , 0.00189521, 0.00226835,\n",
      "       0.00210502, 0.00204353, 0.00199936, 0.00330352, 0.00289792,\n",
      "       0.00222061, 0.00211107, 0.00335486, 0.00271382, 0.00298252,\n",
      "       0.00236093, 0.00248721, 0.00271616, 0.00248311, 0.00238244,\n",
      "       0.0028067 , 0.0027701 , 0.00246247, 0.00285178, 0.00262785,\n",
      "       0.0018979 , 0.00248619, 0.00253194, 0.00308345, 0.00242647,\n",
      "       0.00278342, 0.00277194, 0.0022315 , 0.0019411 , 0.00236902,\n",
      "       0.00283158, 0.00133344, 0.00133821, 0.00134107, 0.00140335,\n",
      "       0.00157548, 0.00175182, 0.00133153, 0.00151691, 0.00135244,\n",
      "       0.00145949, 0.00149147, 0.00160675, 0.00228516, 0.00208126,\n",
      "       0.00210502, 0.00204228, 0.00249847, 0.00188103, 0.00196071,\n",
      "       0.00175109, 0.00277884, 0.0024448 , 0.00238886, 0.00186126,\n",
      "       0.00262785, 0.0018979 , 0.00248619, 0.00253194, 0.00308345,\n",
      "       0.00242647, 0.00278342, 0.00277194, 0.0022315 , 0.0019411 ,\n",
      "       0.00236902, 0.00283158]), 'rank_test_score': array([116,  85, 102,  89, 148, 125, 104, 114, 155, 132, 135, 164,  24,\n",
      "         6,   1,   2,  30,  13,  10,  16,  36,  18,  28,  28,  60,  52,\n",
      "        38,  37,  76,  63,  57,  55,  82,  79,  70,  63, 116,  85, 102,\n",
      "        89, 148, 125, 104, 114, 155, 132, 135, 164, 177, 169, 185, 189,\n",
      "       173, 175, 181, 179, 171, 183, 191, 187,  69,  53,  46,  48,  67,\n",
      "        44,  48,  45,  75,  51,  43,  39, 140, 166, 134, 111, 122, 137,\n",
      "       110, 101, 154, 159, 131, 143, 177, 169, 185, 189, 173, 175, 181,\n",
      "       179, 171, 183, 191, 187, 152,  95,  91,  85, 137, 108, 127, 120,\n",
      "       167, 141, 146, 160,  20,   5,   8,   7,  34,  18,  10,  16,  35,\n",
      "        22,  25,  27,  78,  61,  47,  42,  72,  61,  58,  53,  84,  81,\n",
      "        71,  68, 152,  95,  91,  85, 137, 108, 127, 120, 167, 141, 146,\n",
      "       160, 123,  97,  99,  93, 157, 116, 112, 106, 143, 129, 148, 160,\n",
      "        12,   8,   4,   3,  25,  20,  13,  15,  30,  23,  30,  33,  66,\n",
      "        59,  41,  39,  77,  72,  56,  50,  83,  80,  72,  63, 123,  97,\n",
      "        99,  93, 157, 116, 112, 106, 143, 129, 148, 160])}\n"
     ]
    }
   ],
   "source": [
    "print(rf_results)"
   ]
  },
  {
   "cell_type": "code",
   "execution_count": 10,
   "metadata": {},
   "outputs": [
    {
     "name": "stdout",
     "output_type": "stream",
     "text": [
      "Best parameters found:  {'max_depth': None, 'max_features': 10, 'min_samples_leaf': 1, 'n_estimators': 200}\n"
     ]
    }
   ],
   "source": [
    "print(\"Best parameters found: \", grid_search.best_params_)\n",
    "\n",
    "best_rf_model = grid_search.best_estimator_"
   ]
  },
  {
   "cell_type": "code",
   "execution_count": 11,
   "metadata": {},
   "outputs": [
    {
     "data": {
      "image/png": "[encoded data removed]",
      "text/plain": [
       "<Figure size 1000x600 with 1 Axes>"
      ]
     },
     "metadata": {},
     "output_type": "display_data"
    },
    {
     "data": {
      "text/plain": [
       "<Figure size 640x480 with 0 Axes>"
      ]
     },
     "metadata": {},
     "output_type": "display_data"
    }
   ],
   "source": [
    "# Visualize the accuracy for different n_estimators\n",
    "plt.figure(figsize=(10, 6))\n",
    "for max_depth in param_grid['max_depth']:\n",
    "    scores = []\n",
    "    for n_estimators in param_grid['n_estimators']:\n",
    "        # Filter results based on both max_depth and n_estimators\n",
    "        score = [rf_results['mean_test_score'][i] for i in range(len(rf_results['params']))\n",
    "                 if rf_results['params'][i]['max_depth'] == max_depth and\n",
    "                    rf_results['params'][i]['n_estimators'] == n_estimators]\n",
    "        # Append the mean score for each n_estimators value\n",
    "        scores.append(score[0] if score else None)\n",
    "    \n",
    "    plt.plot(param_grid['n_estimators'], scores, marker='o', label=f'max_depth={max_depth}')\n",
    "\n",
    "\n",
    "plt.title('Plot Random Forest Estimators - Accuracies')\n",
    "plt.xlabel('Number of Estimators')\n",
    "plt.ylabel('Mean Cross-Validated Accuracy')\n",
    "plt.legend(title='Max Depth')\n",
    "plt.grid(True)\n",
    "plt.show()\n",
    "\n",
    "# Save the plot as an image file\n",
    "plt.savefig(\"cure_random_forest_accuracy_plot.png\", format=\"png\", dpi=300)  # Adjust format and dpi as needed\n"
   ]
  },
  {
   "cell_type": "code",
   "execution_count": 12,
   "metadata": {},
   "outputs": [],
   "source": [
    "start_time = time.time()\n",
    "\n",
    "best_rf_model.fit(X_train, y_train)\n",
    "\n",
    "end_time = time.time()\n",
    "\n",
    "y_pred = best_rf_model.predict(X_test)"
   ]
  },
  {
   "cell_type": "code",
   "execution_count": 13,
   "metadata": {},
   "outputs": [
    {
     "name": "stdout",
     "output_type": "stream",
     "text": [
      "Accuracy:  0.9925\n",
      "Precision:  0.9925\n",
      "Recall:  0.9925\n",
      "F1 Score:  0.9925\n",
      "Training Time:  13.215606212615967\n",
      "Classification Report:\n",
      "               precision    recall  f1-score   support\n",
      "\n",
      "           0       0.99      0.99      0.99      3991\n",
      "           1       0.99      0.99      0.99      4009\n",
      "\n",
      "    accuracy                           0.99      8000\n",
      "   macro avg       0.99      0.99      0.99      8000\n",
      "weighted avg       0.99      0.99      0.99      8000\n",
      "\n"
     ]
    }
   ],
   "source": [
    "accuracy = accuracy_score(y_test, y_pred)\n",
    "precision = precision_score(y_test, y_pred, average='weighted')\n",
    "recall = recall_score(y_test, y_pred, average='weighted')\n",
    "f1 = f1_score(y_test, y_pred, average='weighted')\n",
    "conf_matrix = confusion_matrix(y_test, y_pred)\n",
    "class_report = classification_report(y_test, y_pred)\n",
    "train_time = end_time - start_time\n",
    "\n",
    "print(\"Accuracy: \", accuracy)\n",
    "print(\"Precision: \", precision)\n",
    "print(\"Recall: \", recall)\n",
    "print(\"F1 Score: \", f1)\n",
    "print(\"Training Time: \", train_time)\n",
    "print(\"Classification Report:\\n\", class_report)"
   ]
  },
  {
   "cell_type": "code",
   "execution_count": 14,
   "metadata": {},
   "outputs": [
    {
     "data": {
      "image/png": "[encoded data removed]",
      "text/plain": [
       "<Figure size 640x480 with 2 Axes>"
      ]
     },
     "metadata": {},
     "output_type": "display_data"
    },
    {
     "data": {
      "text/plain": [
       "<Figure size 640x480 with 0 Axes>"
      ]
     },
     "metadata": {},
     "output_type": "display_data"
    }
   ],
   "source": [
    "disp = ConfusionMatrixDisplay(confusion_matrix=conf_matrix)\n",
    "disp.plot(cmap=plt.cm.Blues)\n",
    "plt.title(\"Confusion Matrix for Random Forest\")\n",
    "plt.show()\n",
    "\n",
    "plt.savefig(\"cure_confusion_matrix_for_rf.png\", format=\"png\", dpi=300)"
   ]
  },
  {
   "cell_type": "markdown",
   "metadata": {},
   "source": [
    "# **XGBoosst**"
   ]
  },
  {
   "cell_type": "code",
   "execution_count": null,
   "metadata": {},
   "outputs": [
    {
     "name": "stdout",
     "output_type": "stream",
     "text": [
      "Fitting 5 folds for each of 768 candidates, totalling 3840 fits\n"
     ]
    },
    {
     "name": "stderr",
     "output_type": "stream",
     "text": [
      "c:\\Users\\comad\\AppData\\Local\\Programs\\Python\\Python311\\Lib\\site-packages\\xgboost\\core.py:158: UserWarning: [20:23:32] WARNING: C:\\buildkite-agent\\builds\\buildkite-windows-cpu-autoscaling-group-i-08cbc0333d8d4aae1-1\\xgboost\\xgboost-ci-windows\\src\\learner.cc:740: \n",
      "Parameters: { \"use_label_encoder\" } are not used.\n",
      "\n",
      "  warnings.warn(smsg, UserWarning)\n"
     ]
    },
    {
     "data": {
      "text/html": [
       "<style>#sk-container-id-2 {\n",
       "  /* Definition of color scheme common for light and dark mode */\n",
       "  --sklearn-color-text: black;\n",
       "  --sklearn-color-line: gray;\n",
       "  /* Definition of color scheme for unfitted estimators */\n",
       "  --sklearn-color-unfitted-level-0: #fff5e6;\n",
       "  --sklearn-color-unfitted-level-1: #f6e4d2;\n",
       "  --sklearn-color-unfitted-level-2: #ffe0b3;\n",
       "  --sklearn-color-unfitted-level-3: chocolate;\n",
       "  /* Definition of color scheme for fitted estimators */\n",
       "  --sklearn-color-fitted-level-0: #f0f8ff;\n",
       "  --sklearn-color-fitted-level-1: #d4ebff;\n",
       "  --sklearn-color-fitted-level-2: #b3dbfd;\n",
       "  --sklearn-color-fitted-level-3: cornflowerblue;\n",
       "\n",
       "  /* Specific color for light theme */\n",
       "  --sklearn-color-text-on-default-background: var(--sg-text-color, var(--theme-code-foreground, var(--jp-content-font-color1, black)));\n",
       "  --sklearn-color-background: var(--sg-background-color, var(--theme-background, var(--jp-layout-color0, white)));\n",
       "  --sklearn-color-border-box: var(--sg-text-color, var(--theme-code-foreground, var(--jp-content-font-color1, black)));\n",
       "  --sklearn-color-icon: #696969;\n",
       "\n",
       "  @media (prefers-color-scheme: dark) {\n",
       "    /* Redefinition of color scheme for dark theme */\n",
       "    --sklearn-color-text-on-default-background: var(--sg-text-color, var(--theme-code-foreground, var(--jp-content-font-color1, white)));\n",
       "    --sklearn-color-background: var(--sg-background-color, var(--theme-background, var(--jp-layout-color0, #111)));\n",
       "    --sklearn-color-border-box: var(--sg-text-color, var(--theme-code-foreground, var(--jp-content-font-color1, white)));\n",
       "    --sklearn-color-icon: #878787;\n",
       "  }\n",
       "}\n",
       "\n",
       "#sk-container-id-2 {\n",
       "  color: var(--sklearn-color-text);\n",
       "}\n",
       "\n",
       "#sk-container-id-2 pre {\n",
       "  padding: 0;\n",
       "}\n",
       "\n",
       "#sk-container-id-2 input.sk-hidden--visually {\n",
       "  border: 0;\n",
       "  clip: rect(1px 1px 1px 1px);\n",
       "  clip: rect(1px, 1px, 1px, 1px);\n",
       "  height: 1px;\n",
       "  margin: -1px;\n",
       "  overflow: hidden;\n",
       "  padding: 0;\n",
       "  position: absolute;\n",
       "  width: 1px;\n",
       "}\n",
       "\n",
       "#sk-container-id-2 div.sk-dashed-wrapped {\n",
       "  border: 1px dashed var(--sklearn-color-line);\n",
       "  margin: 0 0.4em 0.5em 0.4em;\n",
       "  box-sizing: border-box;\n",
       "  padding-bottom: 0.4em;\n",
       "  background-color: var(--sklearn-color-background);\n",
       "}\n",
       "\n",
       "#sk-container-id-2 div.sk-container {\n",
       "  /* jupyter's `normalize.less` sets `[hidden] { display: none; }`\n",
       "     but bootstrap.min.css set `[hidden] { display: none !important; }`\n",
       "     so we also need the `!important` here to be able to override the\n",
       "     default hidden behavior on the sphinx rendered scikit-learn.org.\n",
       "     See: https://github.com/scikit-learn/scikit-learn/issues/21755 */\n",
       "  display: inline-block !important;\n",
       "  position: relative;\n",
       "}\n",
       "\n",
       "#sk-container-id-2 div.sk-text-repr-fallback {\n",
       "  display: none;\n",
       "}\n",
       "\n",
       "div.sk-parallel-item,\n",
       "div.sk-serial,\n",
       "div.sk-item {\n",
       "  /* draw centered vertical line to link estimators */\n",
       "  background-image: linear-gradient(var(--sklearn-color-text-on-default-background), var(--sklearn-color-text-on-default-background));\n",
       "  background-size: 2px 100%;\n",
       "  background-repeat: no-repeat;\n",
       "  background-position: center center;\n",
       "}\n",
       "\n",
       "/* Parallel-specific style estimator block */\n",
       "\n",
       "#sk-container-id-2 div.sk-parallel-item::after {\n",
       "  content: \"\";\n",
       "  width: 100%;\n",
       "  border-bottom: 2px solid var(--sklearn-color-text-on-default-background);\n",
       "  flex-grow: 1;\n",
       "}\n",
       "\n",
       "#sk-container-id-2 div.sk-parallel {\n",
       "  display: flex;\n",
       "  align-items: stretch;\n",
       "  justify-content: center;\n",
       "  background-color: var(--sklearn-color-background);\n",
       "  position: relative;\n",
       "}\n",
       "\n",
       "#sk-container-id-2 div.sk-parallel-item {\n",
       "  display: flex;\n",
       "  flex-direction: column;\n",
       "}\n",
       "\n",
       "#sk-container-id-2 div.sk-parallel-item:first-child::after {\n",
       "  align-self: flex-end;\n",
       "  width: 50%;\n",
       "}\n",
       "\n",
       "#sk-container-id-2 div.sk-parallel-item:last-child::after {\n",
       "  align-self: flex-start;\n",
       "  width: 50%;\n",
       "}\n",
       "\n",
       "#sk-container-id-2 div.sk-parallel-item:only-child::after {\n",
       "  width: 0;\n",
       "}\n",
       "\n",
       "/* Serial-specific style estimator block */\n",
       "\n",
       "#sk-container-id-2 div.sk-serial {\n",
       "  display: flex;\n",
       "  flex-direction: column;\n",
       "  align-items: center;\n",
       "  background-color: var(--sklearn-color-background);\n",
       "  padding-right: 1em;\n",
       "  padding-left: 1em;\n",
       "}\n",
       "\n",
       "\n",
       "/* Toggleable style: style used for estimator/Pipeline/ColumnTransformer box that is\n",
       "clickable and can be expanded/collapsed.\n",
       "- Pipeline and ColumnTransformer use this feature and define the default style\n",
       "- Estimators will overwrite some part of the style using the `sk-estimator` class\n",
       "*/\n",
       "\n",
       "/* Pipeline and ColumnTransformer style (default) */\n",
       "\n",
       "#sk-container-id-2 div.sk-toggleable {\n",
       "  /* Default theme specific background. It is overwritten whether we have a\n",
       "  specific estimator or a Pipeline/ColumnTransformer */\n",
       "  background-color: var(--sklearn-color-background);\n",
       "}\n",
       "\n",
       "/* Toggleable label */\n",
       "#sk-container-id-2 label.sk-toggleable__label {\n",
       "  cursor: pointer;\n",
       "  display: block;\n",
       "  width: 100%;\n",
       "  margin-bottom: 0;\n",
       "  padding: 0.5em;\n",
       "  box-sizing: border-box;\n",
       "  text-align: center;\n",
       "}\n",
       "\n",
       "#sk-container-id-2 label.sk-toggleable__label-arrow:before {\n",
       "  /* Arrow on the left of the label */\n",
       "  content: \"▸\";\n",
       "  float: left;\n",
       "  margin-right: 0.25em;\n",
       "  color: var(--sklearn-color-icon);\n",
       "}\n",
       "\n",
       "#sk-container-id-2 label.sk-toggleable__label-arrow:hover:before {\n",
       "  color: var(--sklearn-color-text);\n",
       "}\n",
       "\n",
       "/* Toggleable content - dropdown */\n",
       "\n",
       "#sk-container-id-2 div.sk-toggleable__content {\n",
       "  max-height: 0;\n",
       "  max-width: 0;\n",
       "  overflow: hidden;\n",
       "  text-align: left;\n",
       "  /* unfitted */\n",
       "  background-color: var(--sklearn-color-unfitted-level-0);\n",
       "}\n",
       "\n",
       "#sk-container-id-2 div.sk-toggleable__content.fitted {\n",
       "  /* fitted */\n",
       "  background-color: var(--sklearn-color-fitted-level-0);\n",
       "}\n",
       "\n",
       "#sk-container-id-2 div.sk-toggleable__content pre {\n",
       "  margin: 0.2em;\n",
       "  border-radius: 0.25em;\n",
       "  color: var(--sklearn-color-text);\n",
       "  /* unfitted */\n",
       "  background-color: var(--sklearn-color-unfitted-level-0);\n",
       "}\n",
       "\n",
       "#sk-container-id-2 div.sk-toggleable__content.fitted pre {\n",
       "  /* unfitted */\n",
       "  background-color: var(--sklearn-color-fitted-level-0);\n",
       "}\n",
       "\n",
       "#sk-container-id-2 input.sk-toggleable__control:checked~div.sk-toggleable__content {\n",
       "  /* Expand drop-down */\n",
       "  max-height: 200px;\n",
       "  max-width: 100%;\n",
       "  overflow: auto;\n",
       "}\n",
       "\n",
       "#sk-container-id-2 input.sk-toggleable__control:checked~label.sk-toggleable__label-arrow:before {\n",
       "  content: \"▾\";\n",
       "}\n",
       "\n",
       "/* Pipeline/ColumnTransformer-specific style */\n",
       "\n",
       "#sk-container-id-2 div.sk-label input.sk-toggleable__control:checked~label.sk-toggleable__label {\n",
       "  color: var(--sklearn-color-text);\n",
       "  background-color: var(--sklearn-color-unfitted-level-2);\n",
       "}\n",
       "\n",
       "#sk-container-id-2 div.sk-label.fitted input.sk-toggleable__control:checked~label.sk-toggleable__label {\n",
       "  background-color: var(--sklearn-color-fitted-level-2);\n",
       "}\n",
       "\n",
       "/* Estimator-specific style */\n",
       "\n",
       "/* Colorize estimator box */\n",
       "#sk-container-id-2 div.sk-estimator input.sk-toggleable__control:checked~label.sk-toggleable__label {\n",
       "  /* unfitted */\n",
       "  background-color: var(--sklearn-color-unfitted-level-2);\n",
       "}\n",
       "\n",
       "#sk-container-id-2 div.sk-estimator.fitted input.sk-toggleable__control:checked~label.sk-toggleable__label {\n",
       "  /* fitted */\n",
       "  background-color: var(--sklearn-color-fitted-level-2);\n",
       "}\n",
       "\n",
       "#sk-container-id-2 div.sk-label label.sk-toggleable__label,\n",
       "#sk-container-id-2 div.sk-label label {\n",
       "  /* The background is the default theme color */\n",
       "  color: var(--sklearn-color-text-on-default-background);\n",
       "}\n",
       "\n",
       "/* On hover, darken the color of the background */\n",
       "#sk-container-id-2 div.sk-label:hover label.sk-toggleable__label {\n",
       "  color: var(--sklearn-color-text);\n",
       "  background-color: var(--sklearn-color-unfitted-level-2);\n",
       "}\n",
       "\n",
       "/* Label box, darken color on hover, fitted */\n",
       "#sk-container-id-2 div.sk-label.fitted:hover label.sk-toggleable__label.fitted {\n",
       "  color: var(--sklearn-color-text);\n",
       "  background-color: var(--sklearn-color-fitted-level-2);\n",
       "}\n",
       "\n",
       "/* Estimator label */\n",
       "\n",
       "#sk-container-id-2 div.sk-label label {\n",
       "  font-family: monospace;\n",
       "  font-weight: bold;\n",
       "  display: inline-block;\n",
       "  line-height: 1.2em;\n",
       "}\n",
       "\n",
       "#sk-container-id-2 div.sk-label-container {\n",
       "  text-align: center;\n",
       "}\n",
       "\n",
       "/* Estimator-specific */\n",
       "#sk-container-id-2 div.sk-estimator {\n",
       "  font-family: monospace;\n",
       "  border: 1px dotted var(--sklearn-color-border-box);\n",
       "  border-radius: 0.25em;\n",
       "  box-sizing: border-box;\n",
       "  margin-bottom: 0.5em;\n",
       "  /* unfitted */\n",
       "  background-color: var(--sklearn-color-unfitted-level-0);\n",
       "}\n",
       "\n",
       "#sk-container-id-2 div.sk-estimator.fitted {\n",
       "  /* fitted */\n",
       "  background-color: var(--sklearn-color-fitted-level-0);\n",
       "}\n",
       "\n",
       "/* on hover */\n",
       "#sk-container-id-2 div.sk-estimator:hover {\n",
       "  /* unfitted */\n",
       "  background-color: var(--sklearn-color-unfitted-level-2);\n",
       "}\n",
       "\n",
       "#sk-container-id-2 div.sk-estimator.fitted:hover {\n",
       "  /* fitted */\n",
       "  background-color: var(--sklearn-color-fitted-level-2);\n",
       "}\n",
       "\n",
       "/* Specification for estimator info (e.g. \"i\" and \"?\") */\n",
       "\n",
       "/* Common style for \"i\" and \"?\" */\n",
       "\n",
       ".sk-estimator-doc-link,\n",
       "a:link.sk-estimator-doc-link,\n",
       "a:visited.sk-estimator-doc-link {\n",
       "  float: right;\n",
       "  font-size: smaller;\n",
       "  line-height: 1em;\n",
       "  font-family: monospace;\n",
       "  background-color: var(--sklearn-color-background);\n",
       "  border-radius: 1em;\n",
       "  height: 1em;\n",
       "  width: 1em;\n",
       "  text-decoration: none !important;\n",
       "  margin-left: 1ex;\n",
       "  /* unfitted */\n",
       "  border: var(--sklearn-color-unfitted-level-1) 1pt solid;\n",
       "  color: var(--sklearn-color-unfitted-level-1);\n",
       "}\n",
       "\n",
       ".sk-estimator-doc-link.fitted,\n",
       "a:link.sk-estimator-doc-link.fitted,\n",
       "a:visited.sk-estimator-doc-link.fitted {\n",
       "  /* fitted */\n",
       "  border: var(--sklearn-color-fitted-level-1) 1pt solid;\n",
       "  color: var(--sklearn-color-fitted-level-1);\n",
       "}\n",
       "\n",
       "/* On hover */\n",
       "div.sk-estimator:hover .sk-estimator-doc-link:hover,\n",
       ".sk-estimator-doc-link:hover,\n",
       "div.sk-label-container:hover .sk-estimator-doc-link:hover,\n",
       ".sk-estimator-doc-link:hover {\n",
       "  /* unfitted */\n",
       "  background-color: var(--sklearn-color-unfitted-level-3);\n",
       "  color: var(--sklearn-color-background);\n",
       "  text-decoration: none;\n",
       "}\n",
       "\n",
       "div.sk-estimator.fitted:hover .sk-estimator-doc-link.fitted:hover,\n",
       ".sk-estimator-doc-link.fitted:hover,\n",
       "div.sk-label-container:hover .sk-estimator-doc-link.fitted:hover,\n",
       ".sk-estimator-doc-link.fitted:hover {\n",
       "  /* fitted */\n",
       "  background-color: var(--sklearn-color-fitted-level-3);\n",
       "  color: var(--sklearn-color-background);\n",
       "  text-decoration: none;\n",
       "}\n",
       "\n",
       "/* Span, style for the box shown on hovering the info icon */\n",
       ".sk-estimator-doc-link span {\n",
       "  display: none;\n",
       "  z-index: 9999;\n",
       "  position: relative;\n",
       "  font-weight: normal;\n",
       "  right: .2ex;\n",
       "  padding: .5ex;\n",
       "  margin: .5ex;\n",
       "  width: min-content;\n",
       "  min-width: 20ex;\n",
       "  max-width: 50ex;\n",
       "  color: var(--sklearn-color-text);\n",
       "  box-shadow: 2pt 2pt 4pt #999;\n",
       "  /* unfitted */\n",
       "  background: var(--sklearn-color-unfitted-level-0);\n",
       "  border: .5pt solid var(--sklearn-color-unfitted-level-3);\n",
       "}\n",
       "\n",
       ".sk-estimator-doc-link.fitted span {\n",
       "  /* fitted */\n",
       "  background: var(--sklearn-color-fitted-level-0);\n",
       "  border: var(--sklearn-color-fitted-level-3);\n",
       "}\n",
       "\n",
       ".sk-estimator-doc-link:hover span {\n",
       "  display: block;\n",
       "}\n",
       "\n",
       "/* \"?\"-specific style due to the `<a>` HTML tag */\n",
       "\n",
       "#sk-container-id-2 a.estimator_doc_link {\n",
       "  float: right;\n",
       "  font-size: 1rem;\n",
       "  line-height: 1em;\n",
       "  font-family: monospace;\n",
       "  background-color: var(--sklearn-color-background);\n",
       "  border-radius: 1rem;\n",
       "  height: 1rem;\n",
       "  width: 1rem;\n",
       "  text-decoration: none;\n",
       "  /* unfitted */\n",
       "  color: var(--sklearn-color-unfitted-level-1);\n",
       "  border: var(--sklearn-color-unfitted-level-1) 1pt solid;\n",
       "}\n",
       "\n",
       "#sk-container-id-2 a.estimator_doc_link.fitted {\n",
       "  /* fitted */\n",
       "  border: var(--sklearn-color-fitted-level-1) 1pt solid;\n",
       "  color: var(--sklearn-color-fitted-level-1);\n",
       "}\n",
       "\n",
       "/* On hover */\n",
       "#sk-container-id-2 a.estimator_doc_link:hover {\n",
       "  /* unfitted */\n",
       "  background-color: var(--sklearn-color-unfitted-level-3);\n",
       "  color: var(--sklearn-color-background);\n",
       "  text-decoration: none;\n",
       "}\n",
       "\n",
       "#sk-container-id-2 a.estimator_doc_link.fitted:hover {\n",
       "  /* fitted */\n",
       "  background-color: var(--sklearn-color-fitted-level-3);\n",
       "}\n",
       "</style><div id=\"sk-container-id-2\" class=\"sk-top-container\"><div class=\"sk-text-repr-fallback\"><pre>GridSearchCV(cv=5,\n",
       "             estimator=XGBClassifier(base_score=None, booster=&#x27;gbtree&#x27;,\n",
       "                                     callbacks=None, colsample_bylevel=None,\n",
       "                                     colsample_bynode=None,\n",
       "                                     colsample_bytree=None, device=None,\n",
       "                                     early_stopping_rounds=None,\n",
       "                                     enable_categorical=False,\n",
       "                                     eval_metric=&#x27;mlogloss&#x27;, feature_types=None,\n",
       "                                     gamma=None, grow_policy=None,\n",
       "                                     importance_type=None,\n",
       "                                     interaction_constraints=None,\n",
       "                                     learning_...\n",
       "                                     max_leaves=None, min_child_weight=None,\n",
       "                                     missing=nan, monotone_constraints=None,\n",
       "                                     multi_strategy=None, n_estimators=None,\n",
       "                                     n_jobs=None, num_parallel_tree=None,\n",
       "                                     random_state=42, ...),\n",
       "             n_jobs=-1,\n",
       "             param_grid={&#x27;learning_rate&#x27;: [0.001, 0.01, 0.1, 0.2],\n",
       "                         &#x27;max_depth&#x27;: [3, 4, 5, 7],\n",
       "                         &#x27;min_child_weight&#x27;: [1, 3, 5],\n",
       "                         &#x27;n_estimators&#x27;: [50, 100, 200, 400],\n",
       "                         &#x27;subsample&#x27;: [0.7, 0.8, 0.9, 1.0]},\n",
       "             scoring=&#x27;accuracy&#x27;, verbose=1)</pre><b>In a Jupyter environment, please rerun this cell to show the HTML representation or trust the notebook. <br />On GitHub, the HTML representation is unable to render, please try loading this page with nbviewer.org.</b></div><div class=\"sk-container\" hidden><div class=\"sk-item sk-dashed-wrapped\"><div class=\"sk-label-container\"><div class=\"sk-label fitted sk-toggleable\"><input class=\"sk-toggleable__control sk-hidden--visually\" id=\"sk-estimator-id-4\" type=\"checkbox\" ><label for=\"sk-estimator-id-4\" class=\"sk-toggleable__label fitted sk-toggleable__label-arrow fitted\">&nbsp;&nbsp;GridSearchCV<a class=\"sk-estimator-doc-link fitted\" rel=\"noreferrer\" target=\"_blank\" href=\"https://scikit-learn.org/1.5/modules/generated/sklearn.model_selection.GridSearchCV.html\">?<span>Documentation for GridSearchCV</span></a><span class=\"sk-estimator-doc-link fitted\">i<span>Fitted</span></span></label><div class=\"sk-toggleable__content fitted\"><pre>GridSearchCV(cv=5,\n",
       "             estimator=XGBClassifier(base_score=None, booster=&#x27;gbtree&#x27;,\n",
       "                                     callbacks=None, colsample_bylevel=None,\n",
       "                                     colsample_bynode=None,\n",
       "                                     colsample_bytree=None, device=None,\n",
       "                                     early_stopping_rounds=None,\n",
       "                                     enable_categorical=False,\n",
       "                                     eval_metric=&#x27;mlogloss&#x27;, feature_types=None,\n",
       "                                     gamma=None, grow_policy=None,\n",
       "                                     importance_type=None,\n",
       "                                     interaction_constraints=None,\n",
       "                                     learning_...\n",
       "                                     max_leaves=None, min_child_weight=None,\n",
       "                                     missing=nan, monotone_constraints=None,\n",
       "                                     multi_strategy=None, n_estimators=None,\n",
       "                                     n_jobs=None, num_parallel_tree=None,\n",
       "                                     random_state=42, ...),\n",
       "             n_jobs=-1,\n",
       "             param_grid={&#x27;learning_rate&#x27;: [0.001, 0.01, 0.1, 0.2],\n",
       "                         &#x27;max_depth&#x27;: [3, 4, 5, 7],\n",
       "                         &#x27;min_child_weight&#x27;: [1, 3, 5],\n",
       "                         &#x27;n_estimators&#x27;: [50, 100, 200, 400],\n",
       "                         &#x27;subsample&#x27;: [0.7, 0.8, 0.9, 1.0]},\n",
       "             scoring=&#x27;accuracy&#x27;, verbose=1)</pre></div> </div></div><div class=\"sk-parallel\"><div class=\"sk-parallel-item\"><div class=\"sk-item\"><div class=\"sk-label-container\"><div class=\"sk-label fitted sk-toggleable\"><input class=\"sk-toggleable__control sk-hidden--visually\" id=\"sk-estimator-id-5\" type=\"checkbox\" ><label for=\"sk-estimator-id-5\" class=\"sk-toggleable__label fitted sk-toggleable__label-arrow fitted\">best_estimator_: XGBClassifier</label><div class=\"sk-toggleable__content fitted\"><pre>XGBClassifier(base_score=None, booster=&#x27;gbtree&#x27;, callbacks=None,\n",
       "              colsample_bylevel=None, colsample_bynode=None,\n",
       "              colsample_bytree=None, device=None, early_stopping_rounds=None,\n",
       "              enable_categorical=False, eval_metric=&#x27;mlogloss&#x27;,\n",
       "              feature_types=None, gamma=None, grow_policy=None,\n",
       "              importance_type=None, interaction_constraints=None,\n",
       "              learning_rate=0.1, max_bin=None, max_cat_threshold=None,\n",
       "              max_cat_to_onehot=None, max_delta_step=None, max_depth=7,\n",
       "              max_leaves=None, min_child_weight=1, missing=nan,\n",
       "              monotone_constraints=None, multi_strategy=None, n_estimators=100,\n",
       "              n_jobs=None, num_parallel_tree=None, random_state=42, ...)</pre></div> </div></div><div class=\"sk-serial\"><div class=\"sk-item\"><div class=\"sk-estimator fitted sk-toggleable\"><input class=\"sk-toggleable__control sk-hidden--visually\" id=\"sk-estimator-id-6\" type=\"checkbox\" ><label for=\"sk-estimator-id-6\" class=\"sk-toggleable__label fitted sk-toggleable__label-arrow fitted\">XGBClassifier</label><div class=\"sk-toggleable__content fitted\"><pre>XGBClassifier(base_score=None, booster=&#x27;gbtree&#x27;, callbacks=None,\n",
       "              colsample_bylevel=None, colsample_bynode=None,\n",
       "              colsample_bytree=None, device=None, early_stopping_rounds=None,\n",
       "              enable_categorical=False, eval_metric=&#x27;mlogloss&#x27;,\n",
       "              feature_types=None, gamma=None, grow_policy=None,\n",
       "              importance_type=None, interaction_constraints=None,\n",
       "              learning_rate=0.1, max_bin=None, max_cat_threshold=None,\n",
       "              max_cat_to_onehot=None, max_delta_step=None, max_depth=7,\n",
       "              max_leaves=None, min_child_weight=1, missing=nan,\n",
       "              monotone_constraints=None, multi_strategy=None, n_estimators=100,\n",
       "              n_jobs=None, num_parallel_tree=None, random_state=42, ...)</pre></div> </div></div></div></div></div></div></div></div></div>"
      ],
      "text/plain": [
       "GridSearchCV(cv=5,\n",
       "             estimator=XGBClassifier(base_score=None, booster='gbtree',\n",
       "                                     callbacks=None, colsample_bylevel=None,\n",
       "                                     colsample_bynode=None,\n",
       "                                     colsample_bytree=None, device=None,\n",
       "                                     early_stopping_rounds=None,\n",
       "                                     enable_categorical=False,\n",
       "                                     eval_metric='mlogloss', feature_types=None,\n",
       "                                     gamma=None, grow_policy=None,\n",
       "                                     importance_type=None,\n",
       "                                     interaction_constraints=None,\n",
       "                                     learning_...\n",
       "                                     max_leaves=None, min_child_weight=None,\n",
       "                                     missing=nan, monotone_constraints=None,\n",
       "                                     multi_strategy=None, n_estimators=None,\n",
       "                                     n_jobs=None, num_parallel_tree=None,\n",
       "                                     random_state=42, ...),\n",
       "             n_jobs=-1,\n",
       "             param_grid={'learning_rate': [0.001, 0.01, 0.1, 0.2],\n",
       "                         'max_depth': [3, 4, 5, 7],\n",
       "                         'min_child_weight': [1, 3, 5],\n",
       "                         'n_estimators': [50, 100, 200, 400],\n",
       "                         'subsample': [0.7, 0.8, 0.9, 1.0]},\n",
       "             scoring='accuracy', verbose=1)"
      ]
     },
     "execution_count": 17,
     "metadata": {},
     "output_type": "execute_result"
    }
   ],
   "source": [
    "from xgboost import XGBClassifier\n",
    "\n",
    "xgb_model = XGBClassifier(booster='gbtree', eval_metric='mlogloss', random_state=42)\n",
    "\n",
    "param_grid = {\n",
    "    'max_depth': [3, 4, 5, 7],\n",
    "    'subsample': [0.7, 0.8, 0.9, 1.0],\n",
    "    'min_child_weight': [1, 3, 5],\n",
    "    'learning_rate': [ 0.001, 0.01, 0.1, 0.2],\n",
    "    'n_estimators': [50, 100, 200, 400]\n",
    "}\n",
    "\n",
    "grid_search = GridSearchCV(estimator=xgb_model, param_grid=param_grid, cv=5, scoring='accuracy', verbose=1, n_jobs=-1)\n",
    "grid_search.fit(X_train, y_train)"
   ]
  },
  {
   "cell_type": "code",
   "execution_count": 18,
   "metadata": {},
   "outputs": [],
   "source": [
    "xg_results = grid_search.cv_results_"
   ]
  },
  {
   "cell_type": "code",
   "execution_count": 19,
   "metadata": {},
   "outputs": [
    {
     "name": "stdout",
     "output_type": "stream",
     "text": [
      "Best parameters found:  {'learning_rate': 0.1, 'max_depth': 7, 'min_child_weight': 1, 'n_estimators': 100, 'subsample': 0.7}\n"
     ]
    }
   ],
   "source": [
    "print(\"Best parameters found: \", grid_search.best_params_)\n",
    "best_xgb_model = grid_search.best_estimator_"
   ]
  },
  {
   "cell_type": "code",
   "execution_count": 20,
   "metadata": {},
   "outputs": [
    {
     "data": {
      "image/png": "[encoded data removed]",
      "text/plain": [
       "<Figure size 1000x600 with 1 Axes>"
      ]
     },
     "metadata": {},
     "output_type": "display_data"
    },
    {
     "data": {
      "text/plain": [
       "<Figure size 640x480 with 0 Axes>"
      ]
     },
     "metadata": {},
     "output_type": "display_data"
    }
   ],
   "source": [
    "# Visualize the accuracy for different n_estimators\n",
    "plt.figure(figsize=(10, 6))\n",
    "for max_depth in param_grid['max_depth']:\n",
    "    scores = []\n",
    "    for n_estimators in param_grid['n_estimators']:\n",
    "        # Filter results based on both max_depth and n_estimators\n",
    "        score = [xg_results['mean_test_score'][i] for i in range(len(xg_results['params']))\n",
    "                 if xg_results['params'][i]['max_depth'] == max_depth and\n",
    "                    xg_results['params'][i]['n_estimators'] == n_estimators]\n",
    "        # Append the mean score for each n_estimators value\n",
    "        scores.append(score[0] if score else None)\n",
    "    \n",
    "    plt.plot(param_grid['n_estimators'], scores, marker='o', label=f'max_depth={max_depth}')\n",
    "\n",
    "plt.title('Plot XGBoost Estimators - Accuracies')\n",
    "plt.xlabel('Number of Estimators')\n",
    "plt.ylabel('Mean Cross-Validated Accuracy')\n",
    "plt.legend(title='Max Depth')\n",
    "plt.grid(True)\n",
    "plt.show()\n",
    "\n",
    "plt.savefig(\"cure_xgboost_accuracy_plot.png\", format=\"png\", dpi=300)  "
   ]
  },
  {
   "cell_type": "code",
   "execution_count": null,
   "metadata": {},
   "outputs": [
    {
     "name": "stderr",
     "output_type": "stream",
     "text": [
      "c:\\Users\\comad\\AppData\\Local\\Programs\\Python\\Python311\\Lib\\site-packages\\xgboost\\core.py:158: UserWarning: [20:23:33] WARNING: C:\\buildkite-agent\\builds\\buildkite-windows-cpu-autoscaling-group-i-08cbc0333d8d4aae1-1\\xgboost\\xgboost-ci-windows\\src\\learner.cc:740: \n",
      "Parameters: { \"use_label_encoder\" } are not used.\n",
      "\n",
      "  warnings.warn(smsg, UserWarning)\n"
     ]
    }
   ],
   "source": [
    "start_time = time.time\n",
    "\n",
    "best_xgb_model.fit(X_train, y_train)\n",
    "\n",
    "end_time = time.time\n",
    "\n",
    "y_pred = best_xgb_model.predict(X_test)"
   ]
  },
  {
   "cell_type": "code",
   "execution_count": null,
   "metadata": {},
   "outputs": [
    {
     "name": "stdout",
     "output_type": "stream",
     "text": [
      "Accuracy:  0.99725\n",
      "Precision:  0.99725\n",
      "Recall:  0.99725\n",
      "F1 Score:  0.99725\n",
      "Classification Report:\n",
      "               precision    recall  f1-score   support\n",
      "\n",
      "           0       1.00      1.00      1.00      3991\n",
      "           1       1.00      1.00      1.00      4009\n",
      "\n",
      "    accuracy                           1.00      8000\n",
      "   macro avg       1.00      1.00      1.00      8000\n",
      "weighted avg       1.00      1.00      1.00      8000\n",
      "\n"
     ]
    }
   ],
   "source": [
    "accuracy = accuracy_score(y_test, y_pred)\n",
    "precision = precision_score(y_test, y_pred, average='weighted')\n",
    "recall = recall_score(y_test, y_pred, average='weighted')\n",
    "f1 = f1_score(y_test, y_pred, average='weighted')\n",
    "train_time_xg = end_time - start_time\n",
    "conf_matrix = confusion_matrix(y_test, y_pred)\n",
    "class_report = classification_report(y_test, y_pred)\n",
    "\n",
    "print(\"Accuracy: \", accuracy)\n",
    "print(\"Precision: \", precision)\n",
    "print(\"Recall: \", recall)\n",
    "print(\"F1 Score: \", f1)\n",
    "print(\"Classification Report:\\n\", class_report)"
   ]
  },
  {
   "cell_type": "code",
   "execution_count": 23,
   "metadata": {},
   "outputs": [
    {
     "data": {
      "image/png": "[encoded data removed]",
      "text/plain": [
       "<Figure size 640x480 with 2 Axes>"
      ]
     },
     "metadata": {},
     "output_type": "display_data"
    },
    {
     "data": {
      "text/plain": [
       "<Figure size 640x480 with 0 Axes>"
      ]
     },
     "metadata": {},
     "output_type": "display_data"
    }
   ],
   "source": [
    "disp = ConfusionMatrixDisplay(confusion_matrix=conf_matrix)\n",
    "disp.plot(cmap=plt.cm.Blues)\n",
    "plt.title(\"Confusion Matrix for XGBoost\")\n",
    "plt.show()\n",
    "\n",
    "plt.savefig(\"cure_confusion_matrix_for_xgboost.png\", format=\"png\", dpi=300)"
   ]
  },
  {
   "cell_type": "markdown",
   "metadata": {},
   "source": [
    "# **Neural Network**"
   ]
  },
  {
   "cell_type": "code",
   "execution_count": 24,
   "metadata": {},
   "outputs": [],
   "source": [
    "import numpy as np\n",
    "from tensorflow.keras.models import Sequential\n",
    "from tensorflow.keras.layers import Dense\n",
    "from tensorflow.keras.optimizers import Adam\n",
    "from tensorflow.keras.losses import BinaryCrossentropy\n",
    "from tensorflow.keras.metrics import BinaryAccuracy"
   ]
  },
  {
   "cell_type": "code",
   "execution_count": 25,
   "metadata": {},
   "outputs": [
    {
     "name": "stdout",
     "output_type": "stream",
     "text": [
      "Epoch 1/70\n"
     ]
    },
    {
     "name": "stderr",
     "output_type": "stream",
     "text": [
      "c:\\Users\\comad\\AppData\\Local\\Programs\\Python\\Python311\\Lib\\site-packages\\keras\\src\\layers\\core\\dense.py:87: UserWarning: Do not pass an `input_shape`/`input_dim` argument to a layer. When using Sequential models, prefer using an `Input(shape)` object as the first layer in the model instead.\n",
      "  super().__init__(activity_regularizer=activity_regularizer, **kwargs)\n"
     ]
    },
    {
     "name": "stdout",
     "output_type": "stream",
     "text": [
      "\u001b[1m438/438\u001b[0m \u001b[32m━━━━━━━━━━━━━━━━━━━━\u001b[0m\u001b[37m\u001b[0m \u001b[1m2s\u001b[0m 2ms/step - binary_accuracy: 0.8571 - loss: 0.3122 - val_binary_accuracy: 0.9515 - val_loss: 0.1134\n",
      "Epoch 2/70\n",
      "\u001b[1m438/438\u001b[0m \u001b[32m━━━━━━━━━━━━━━━━━━━━\u001b[0m\u001b[37m\u001b[0m \u001b[1m1s\u001b[0m 1ms/step - binary_accuracy: 0.9627 - loss: 0.0886 - val_binary_accuracy: 0.9567 - val_loss: 0.0891\n",
      "Epoch 3/70\n",
      "\u001b[1m438/438\u001b[0m \u001b[32m━━━━━━━━━━━━━━━━━━━━\u001b[0m\u001b[37m\u001b[0m \u001b[1m1s\u001b[0m 1ms/step - binary_accuracy: 0.9722 - loss: 0.0669 - val_binary_accuracy: 0.9737 - val_loss: 0.0605\n",
      "Epoch 4/70\n",
      "\u001b[1m438/438\u001b[0m \u001b[32m━━━━━━━━━━━━━━━━━━━━\u001b[0m\u001b[37m\u001b[0m \u001b[1m1s\u001b[0m 1ms/step - binary_accuracy: 0.9732 - loss: 0.0659 - val_binary_accuracy: 0.9808 - val_loss: 0.0537\n",
      "Epoch 5/70\n",
      "\u001b[1m438/438\u001b[0m \u001b[32m━━━━━━━━━━━━━━━━━━━━\u001b[0m\u001b[37m\u001b[0m \u001b[1m1s\u001b[0m 1ms/step - binary_accuracy: 0.9758 - loss: 0.0570 - val_binary_accuracy: 0.9762 - val_loss: 0.0541\n",
      "Epoch 6/70\n",
      "\u001b[1m438/438\u001b[0m \u001b[32m━━━━━━━━━━━━━━━━━━━━\u001b[0m\u001b[37m\u001b[0m \u001b[1m1s\u001b[0m 1ms/step - binary_accuracy: 0.9747 - loss: 0.0589 - val_binary_accuracy: 0.9830 - val_loss: 0.0435\n",
      "Epoch 7/70\n",
      "\u001b[1m438/438\u001b[0m \u001b[32m━━━━━━━━━━━━━━━━━━━━\u001b[0m\u001b[37m\u001b[0m \u001b[1m1s\u001b[0m 1ms/step - binary_accuracy: 0.9793 - loss: 0.0475 - val_binary_accuracy: 0.9810 - val_loss: 0.0422\n",
      "Epoch 8/70\n",
      "\u001b[1m438/438\u001b[0m \u001b[32m━━━━━━━━━━━━━━━━━━━━\u001b[0m\u001b[37m\u001b[0m \u001b[1m1s\u001b[0m 1ms/step - binary_accuracy: 0.9778 - loss: 0.0522 - val_binary_accuracy: 0.9535 - val_loss: 0.1088\n",
      "Epoch 9/70\n",
      "\u001b[1m438/438\u001b[0m \u001b[32m━━━━━━━━━━━━━━━━━━━━\u001b[0m\u001b[37m\u001b[0m \u001b[1m1s\u001b[0m 1ms/step - binary_accuracy: 0.9798 - loss: 0.0477 - val_binary_accuracy: 0.9783 - val_loss: 0.0501\n",
      "Epoch 10/70\n",
      "\u001b[1m438/438\u001b[0m \u001b[32m━━━━━━━━━━━━━━━━━━━━\u001b[0m\u001b[37m\u001b[0m \u001b[1m1s\u001b[0m 1ms/step - binary_accuracy: 0.9763 - loss: 0.0564 - val_binary_accuracy: 0.9820 - val_loss: 0.0478\n",
      "Epoch 11/70\n",
      "\u001b[1m438/438\u001b[0m \u001b[32m━━━━━━━━━━━━━━━━━━━━\u001b[0m\u001b[37m\u001b[0m \u001b[1m1s\u001b[0m 1ms/step - binary_accuracy: 0.9821 - loss: 0.0430 - val_binary_accuracy: 0.9837 - val_loss: 0.0369\n",
      "Epoch 12/70\n",
      "\u001b[1m438/438\u001b[0m \u001b[32m━━━━━━━━━━━━━━━━━━━━\u001b[0m\u001b[37m\u001b[0m \u001b[1m1s\u001b[0m 1ms/step - binary_accuracy: 0.9831 - loss: 0.0409 - val_binary_accuracy: 0.9765 - val_loss: 0.0501\n",
      "Epoch 13/70\n",
      "\u001b[1m438/438\u001b[0m \u001b[32m━━━━━━━━━━━━━━━━━━━━\u001b[0m\u001b[37m\u001b[0m \u001b[1m1s\u001b[0m 1ms/step - binary_accuracy: 0.9807 - loss: 0.0456 - val_binary_accuracy: 0.9825 - val_loss: 0.0415\n",
      "Epoch 14/70\n",
      "\u001b[1m438/438\u001b[0m \u001b[32m━━━━━━━━━━━━━━━━━━━━\u001b[0m\u001b[37m\u001b[0m \u001b[1m1s\u001b[0m 1ms/step - binary_accuracy: 0.9790 - loss: 0.0466 - val_binary_accuracy: 0.9850 - val_loss: 0.0367\n",
      "Epoch 15/70\n",
      "\u001b[1m438/438\u001b[0m \u001b[32m━━━━━━━━━━━━━━━━━━━━\u001b[0m\u001b[37m\u001b[0m \u001b[1m1s\u001b[0m 1ms/step - binary_accuracy: 0.9834 - loss: 0.0390 - val_binary_accuracy: 0.9815 - val_loss: 0.0427\n",
      "Epoch 16/70\n",
      "\u001b[1m438/438\u001b[0m \u001b[32m━━━━━━━━━━━━━━━━━━━━\u001b[0m\u001b[37m\u001b[0m \u001b[1m1s\u001b[0m 1ms/step - binary_accuracy: 0.9855 - loss: 0.0347 - val_binary_accuracy: 0.9835 - val_loss: 0.0414\n",
      "Epoch 17/70\n",
      "\u001b[1m438/438\u001b[0m \u001b[32m━━━━━━━━━━━━━━━━━━━━\u001b[0m\u001b[37m\u001b[0m \u001b[1m1s\u001b[0m 1ms/step - binary_accuracy: 0.9869 - loss: 0.0332 - val_binary_accuracy: 0.9815 - val_loss: 0.0423\n",
      "Epoch 18/70\n",
      "\u001b[1m438/438\u001b[0m \u001b[32m━━━━━━━━━━━━━━━━━━━━\u001b[0m\u001b[37m\u001b[0m \u001b[1m1s\u001b[0m 1ms/step - binary_accuracy: 0.9872 - loss: 0.0332 - val_binary_accuracy: 0.9820 - val_loss: 0.0444\n",
      "Epoch 19/70\n",
      "\u001b[1m438/438\u001b[0m \u001b[32m━━━━━━━━━━━━━━━━━━━━\u001b[0m\u001b[37m\u001b[0m \u001b[1m1s\u001b[0m 1ms/step - binary_accuracy: 0.9836 - loss: 0.0363 - val_binary_accuracy: 0.9840 - val_loss: 0.0372\n",
      "Epoch 20/70\n",
      "\u001b[1m438/438\u001b[0m \u001b[32m━━━━━━━━━━━━━━━━━━━━\u001b[0m\u001b[37m\u001b[0m \u001b[1m1s\u001b[0m 1ms/step - binary_accuracy: 0.9901 - loss: 0.0256 - val_binary_accuracy: 0.9710 - val_loss: 0.0779\n",
      "Epoch 21/70\n",
      "\u001b[1m438/438\u001b[0m \u001b[32m━━━━━━━━━━━━━━━━━━━━\u001b[0m\u001b[37m\u001b[0m \u001b[1m1s\u001b[0m 1ms/step - binary_accuracy: 0.9824 - loss: 0.0412 - val_binary_accuracy: 0.9820 - val_loss: 0.0374\n",
      "Epoch 22/70\n",
      "\u001b[1m438/438\u001b[0m \u001b[32m━━━━━━━━━━━━━━━━━━━━\u001b[0m\u001b[37m\u001b[0m \u001b[1m1s\u001b[0m 1ms/step - binary_accuracy: 0.9862 - loss: 0.0327 - val_binary_accuracy: 0.9843 - val_loss: 0.0377\n",
      "Epoch 23/70\n",
      "\u001b[1m438/438\u001b[0m \u001b[32m━━━━━━━━━━━━━━━━━━━━\u001b[0m\u001b[37m\u001b[0m \u001b[1m1s\u001b[0m 1ms/step - binary_accuracy: 0.9891 - loss: 0.0259 - val_binary_accuracy: 0.9845 - val_loss: 0.0398\n",
      "Epoch 24/70\n",
      "\u001b[1m438/438\u001b[0m \u001b[32m━━━━━━━━━━━━━━━━━━━━\u001b[0m\u001b[37m\u001b[0m \u001b[1m1s\u001b[0m 1ms/step - binary_accuracy: 0.9886 - loss: 0.0277 - val_binary_accuracy: 0.9803 - val_loss: 0.0422\n",
      "Epoch 25/70\n",
      "\u001b[1m438/438\u001b[0m \u001b[32m━━━━━━━━━━━━━━━━━━━━\u001b[0m\u001b[37m\u001b[0m \u001b[1m1s\u001b[0m 1ms/step - binary_accuracy: 0.9871 - loss: 0.0322 - val_binary_accuracy: 0.9772 - val_loss: 0.0610\n",
      "Epoch 26/70\n",
      "\u001b[1m438/438\u001b[0m \u001b[32m━━━━━━━━━━━━━━━━━━━━\u001b[0m\u001b[37m\u001b[0m \u001b[1m1s\u001b[0m 1ms/step - binary_accuracy: 0.9853 - loss: 0.0377 - val_binary_accuracy: 0.9808 - val_loss: 0.0466\n",
      "Epoch 27/70\n",
      "\u001b[1m438/438\u001b[0m \u001b[32m━━━━━━━━━━━━━━━━━━━━\u001b[0m\u001b[37m\u001b[0m \u001b[1m1s\u001b[0m 1ms/step - binary_accuracy: 0.9892 - loss: 0.0267 - val_binary_accuracy: 0.9860 - val_loss: 0.0331\n",
      "Epoch 28/70\n",
      "\u001b[1m438/438\u001b[0m \u001b[32m━━━━━━━━━━━━━━━━━━━━\u001b[0m\u001b[37m\u001b[0m \u001b[1m1s\u001b[0m 1ms/step - binary_accuracy: 0.9884 - loss: 0.0281 - val_binary_accuracy: 0.9868 - val_loss: 0.0347\n",
      "Epoch 29/70\n",
      "\u001b[1m438/438\u001b[0m \u001b[32m━━━━━━━━━━━━━━━━━━━━\u001b[0m\u001b[37m\u001b[0m \u001b[1m1s\u001b[0m 1ms/step - binary_accuracy: 0.9889 - loss: 0.0275 - val_binary_accuracy: 0.9803 - val_loss: 0.0490\n",
      "Epoch 30/70\n",
      "\u001b[1m438/438\u001b[0m \u001b[32m━━━━━━━━━━━━━━━━━━━━\u001b[0m\u001b[37m\u001b[0m \u001b[1m1s\u001b[0m 1ms/step - binary_accuracy: 0.9916 - loss: 0.0206 - val_binary_accuracy: 0.9657 - val_loss: 0.1023\n",
      "Epoch 31/70\n",
      "\u001b[1m438/438\u001b[0m \u001b[32m━━━━━━━━━━━━━━━━━━━━\u001b[0m\u001b[37m\u001b[0m \u001b[1m1s\u001b[0m 1ms/step - binary_accuracy: 0.9886 - loss: 0.0268 - val_binary_accuracy: 0.9785 - val_loss: 0.0516\n",
      "Epoch 32/70\n",
      "\u001b[1m438/438\u001b[0m \u001b[32m━━━━━━━━━━━━━━━━━━━━\u001b[0m\u001b[37m\u001b[0m \u001b[1m1s\u001b[0m 1ms/step - binary_accuracy: 0.9922 - loss: 0.0193 - val_binary_accuracy: 0.9827 - val_loss: 0.0389\n",
      "Epoch 33/70\n",
      "\u001b[1m438/438\u001b[0m \u001b[32m━━━━━━━━━━━━━━━━━━━━\u001b[0m\u001b[37m\u001b[0m \u001b[1m1s\u001b[0m 1ms/step - binary_accuracy: 0.9915 - loss: 0.0222 - val_binary_accuracy: 0.9877 - val_loss: 0.0332\n",
      "Epoch 34/70\n",
      "\u001b[1m438/438\u001b[0m \u001b[32m━━━━━━━━━━━━━━━━━━━━\u001b[0m\u001b[37m\u001b[0m \u001b[1m1s\u001b[0m 1ms/step - binary_accuracy: 0.9915 - loss: 0.0207 - val_binary_accuracy: 0.9852 - val_loss: 0.0364\n",
      "Epoch 35/70\n",
      "\u001b[1m438/438\u001b[0m \u001b[32m━━━━━━━━━━━━━━━━━━━━\u001b[0m\u001b[37m\u001b[0m \u001b[1m1s\u001b[0m 1ms/step - binary_accuracy: 0.9917 - loss: 0.0212 - val_binary_accuracy: 0.9827 - val_loss: 0.0388\n",
      "Epoch 36/70\n",
      "\u001b[1m438/438\u001b[0m \u001b[32m━━━━━━━━━━━━━━━━━━━━\u001b[0m\u001b[37m\u001b[0m \u001b[1m1s\u001b[0m 1ms/step - binary_accuracy: 0.9935 - loss: 0.0161 - val_binary_accuracy: 0.9745 - val_loss: 0.0742\n",
      "Epoch 37/70\n",
      "\u001b[1m438/438\u001b[0m \u001b[32m━━━━━━━━━━━━━━━━━━━━\u001b[0m\u001b[37m\u001b[0m \u001b[1m1s\u001b[0m 1ms/step - binary_accuracy: 0.9897 - loss: 0.0226 - val_binary_accuracy: 0.9825 - val_loss: 0.0488\n",
      "Epoch 38/70\n",
      "\u001b[1m438/438\u001b[0m \u001b[32m━━━━━━━━━━━━━━━━━━━━\u001b[0m\u001b[37m\u001b[0m \u001b[1m1s\u001b[0m 1ms/step - binary_accuracy: 0.9907 - loss: 0.0217 - val_binary_accuracy: 0.9730 - val_loss: 0.0821\n",
      "Epoch 39/70\n",
      "\u001b[1m438/438\u001b[0m \u001b[32m━━━━━━━━━━━━━━━━━━━━\u001b[0m\u001b[37m\u001b[0m \u001b[1m1s\u001b[0m 1ms/step - binary_accuracy: 0.9919 - loss: 0.0205 - val_binary_accuracy: 0.9847 - val_loss: 0.0390\n",
      "Epoch 40/70\n",
      "\u001b[1m438/438\u001b[0m \u001b[32m━━━━━━━━━━━━━━━━━━━━\u001b[0m\u001b[37m\u001b[0m \u001b[1m1s\u001b[0m 1ms/step - binary_accuracy: 0.9921 - loss: 0.0194 - val_binary_accuracy: 0.9852 - val_loss: 0.0396\n",
      "Epoch 41/70\n",
      "\u001b[1m438/438\u001b[0m \u001b[32m━━━━━━━━━━━━━━━━━━━━\u001b[0m\u001b[37m\u001b[0m \u001b[1m1s\u001b[0m 1ms/step - binary_accuracy: 0.9912 - loss: 0.0211 - val_binary_accuracy: 0.9840 - val_loss: 0.0409\n",
      "Epoch 42/70\n",
      "\u001b[1m438/438\u001b[0m \u001b[32m━━━━━━━━━━━━━━━━━━━━\u001b[0m\u001b[37m\u001b[0m \u001b[1m1s\u001b[0m 1ms/step - binary_accuracy: 0.9853 - loss: 0.0405 - val_binary_accuracy: 0.9827 - val_loss: 0.0388\n",
      "Epoch 43/70\n",
      "\u001b[1m438/438\u001b[0m \u001b[32m━━━━━━━━━━━━━━━━━━━━\u001b[0m\u001b[37m\u001b[0m \u001b[1m1s\u001b[0m 1ms/step - binary_accuracy: 0.9930 - loss: 0.0171 - val_binary_accuracy: 0.9837 - val_loss: 0.0402\n",
      "Epoch 44/70\n",
      "\u001b[1m438/438\u001b[0m \u001b[32m━━━━━━━━━━━━━━━━━━━━\u001b[0m\u001b[37m\u001b[0m \u001b[1m1s\u001b[0m 1ms/step - binary_accuracy: 0.9927 - loss: 0.0168 - val_binary_accuracy: 0.9770 - val_loss: 0.0622\n",
      "Epoch 45/70\n",
      "\u001b[1m438/438\u001b[0m \u001b[32m━━━━━━━━━━━━━━━━━━━━\u001b[0m\u001b[37m\u001b[0m \u001b[1m1s\u001b[0m 1ms/step - binary_accuracy: 0.9917 - loss: 0.0200 - val_binary_accuracy: 0.9840 - val_loss: 0.0386\n",
      "Epoch 46/70\n",
      "\u001b[1m438/438\u001b[0m \u001b[32m━━━━━━━━━━━━━━━━━━━━\u001b[0m\u001b[37m\u001b[0m \u001b[1m1s\u001b[0m 1ms/step - binary_accuracy: 0.9906 - loss: 0.0239 - val_binary_accuracy: 0.9845 - val_loss: 0.0422\n",
      "Epoch 47/70\n",
      "\u001b[1m438/438\u001b[0m \u001b[32m━━━━━━━━━━━━━━━━━━━━\u001b[0m\u001b[37m\u001b[0m \u001b[1m1s\u001b[0m 1ms/step - binary_accuracy: 0.9929 - loss: 0.0162 - val_binary_accuracy: 0.9843 - val_loss: 0.0452\n",
      "Epoch 48/70\n",
      "\u001b[1m438/438\u001b[0m \u001b[32m━━━━━━━━━━━━━━━━━━━━\u001b[0m\u001b[37m\u001b[0m \u001b[1m1s\u001b[0m 1ms/step - binary_accuracy: 0.9912 - loss: 0.0201 - val_binary_accuracy: 0.9808 - val_loss: 0.0468\n",
      "Epoch 49/70\n",
      "\u001b[1m438/438\u001b[0m \u001b[32m━━━━━━━━━━━━━━━━━━━━\u001b[0m\u001b[37m\u001b[0m \u001b[1m1s\u001b[0m 1ms/step - binary_accuracy: 0.9924 - loss: 0.0203 - val_binary_accuracy: 0.9837 - val_loss: 0.0417\n",
      "Epoch 50/70\n",
      "\u001b[1m438/438\u001b[0m \u001b[32m━━━━━━━━━━━━━━━━━━━━\u001b[0m\u001b[37m\u001b[0m \u001b[1m1s\u001b[0m 1ms/step - binary_accuracy: 0.9950 - loss: 0.0130 - val_binary_accuracy: 0.9820 - val_loss: 0.0390\n",
      "Epoch 51/70\n",
      "\u001b[1m438/438\u001b[0m \u001b[32m━━━━━━━━━━━━━━━━━━━━\u001b[0m\u001b[37m\u001b[0m \u001b[1m1s\u001b[0m 1ms/step - binary_accuracy: 0.9936 - loss: 0.0163 - val_binary_accuracy: 0.9818 - val_loss: 0.0488\n",
      "Epoch 52/70\n",
      "\u001b[1m438/438\u001b[0m \u001b[32m━━━━━━━━━━━━━━━━━━━━\u001b[0m\u001b[37m\u001b[0m \u001b[1m1s\u001b[0m 1ms/step - binary_accuracy: 0.9940 - loss: 0.0171 - val_binary_accuracy: 0.9847 - val_loss: 0.0397\n",
      "Epoch 53/70\n",
      "\u001b[1m438/438\u001b[0m \u001b[32m━━━━━━━━━━━━━━━━━━━━\u001b[0m\u001b[37m\u001b[0m \u001b[1m1s\u001b[0m 1ms/step - binary_accuracy: 0.9945 - loss: 0.0148 - val_binary_accuracy: 0.9745 - val_loss: 0.0875\n",
      "Epoch 54/70\n",
      "\u001b[1m438/438\u001b[0m \u001b[32m━━━━━━━━━━━━━━━━━━━━\u001b[0m\u001b[37m\u001b[0m \u001b[1m1s\u001b[0m 1ms/step - binary_accuracy: 0.9942 - loss: 0.0152 - val_binary_accuracy: 0.9860 - val_loss: 0.0368\n",
      "Epoch 55/70\n",
      "\u001b[1m438/438\u001b[0m \u001b[32m━━━━━━━━━━━━━━━━━━━━\u001b[0m\u001b[37m\u001b[0m \u001b[1m1s\u001b[0m 1ms/step - binary_accuracy: 0.9932 - loss: 0.0174 - val_binary_accuracy: 0.9837 - val_loss: 0.0562\n",
      "Epoch 56/70\n",
      "\u001b[1m438/438\u001b[0m \u001b[32m━━━━━━━━━━━━━━━━━━━━\u001b[0m\u001b[37m\u001b[0m \u001b[1m1s\u001b[0m 1ms/step - binary_accuracy: 0.9919 - loss: 0.0219 - val_binary_accuracy: 0.9818 - val_loss: 0.0426\n",
      "Epoch 57/70\n",
      "\u001b[1m438/438\u001b[0m \u001b[32m━━━━━━━━━━━━━━━━━━━━\u001b[0m\u001b[37m\u001b[0m \u001b[1m1s\u001b[0m 1ms/step - binary_accuracy: 0.9946 - loss: 0.0145 - val_binary_accuracy: 0.9800 - val_loss: 0.0555\n",
      "Epoch 58/70\n",
      "\u001b[1m438/438\u001b[0m \u001b[32m━━━━━━━━━━━━━━━━━━━━\u001b[0m\u001b[37m\u001b[0m \u001b[1m1s\u001b[0m 1ms/step - binary_accuracy: 0.9963 - loss: 0.0110 - val_binary_accuracy: 0.9837 - val_loss: 0.0436\n",
      "Epoch 59/70\n",
      "\u001b[1m438/438\u001b[0m \u001b[32m━━━━━━━━━━━━━━━━━━━━\u001b[0m\u001b[37m\u001b[0m \u001b[1m1s\u001b[0m 1ms/step - binary_accuracy: 0.9948 - loss: 0.0131 - val_binary_accuracy: 0.9825 - val_loss: 0.0493\n",
      "Epoch 60/70\n",
      "\u001b[1m438/438\u001b[0m \u001b[32m━━━━━━━━━━━━━━━━━━━━\u001b[0m\u001b[37m\u001b[0m \u001b[1m1s\u001b[0m 1ms/step - binary_accuracy: 0.9937 - loss: 0.0161 - val_binary_accuracy: 0.9827 - val_loss: 0.0426\n",
      "Epoch 61/70\n",
      "\u001b[1m438/438\u001b[0m \u001b[32m━━━━━━━━━━━━━━━━━━━━\u001b[0m\u001b[37m\u001b[0m \u001b[1m1s\u001b[0m 1ms/step - binary_accuracy: 0.9962 - loss: 0.0098 - val_binary_accuracy: 0.9755 - val_loss: 0.0710\n",
      "Epoch 62/70\n",
      "\u001b[1m438/438\u001b[0m \u001b[32m━━━━━━━━━━━━━━━━━━━━\u001b[0m\u001b[37m\u001b[0m \u001b[1m1s\u001b[0m 1ms/step - binary_accuracy: 0.9947 - loss: 0.0138 - val_binary_accuracy: 0.9790 - val_loss: 0.0631\n",
      "Epoch 63/70\n",
      "\u001b[1m438/438\u001b[0m \u001b[32m━━━━━━━━━━━━━━━━━━━━\u001b[0m\u001b[37m\u001b[0m \u001b[1m1s\u001b[0m 1ms/step - binary_accuracy: 0.9938 - loss: 0.0142 - val_binary_accuracy: 0.9780 - val_loss: 0.0824\n",
      "Epoch 64/70\n",
      "\u001b[1m438/438\u001b[0m \u001b[32m━━━━━━━━━━━━━━━━━━━━\u001b[0m\u001b[37m\u001b[0m \u001b[1m1s\u001b[0m 1ms/step - binary_accuracy: 0.9943 - loss: 0.0164 - val_binary_accuracy: 0.9812 - val_loss: 0.0646\n",
      "Epoch 65/70\n",
      "\u001b[1m438/438\u001b[0m \u001b[32m━━━━━━━━━━━━━━━━━━━━\u001b[0m\u001b[37m\u001b[0m \u001b[1m1s\u001b[0m 1ms/step - binary_accuracy: 0.9960 - loss: 0.0106 - val_binary_accuracy: 0.9808 - val_loss: 0.0533\n",
      "Epoch 66/70\n",
      "\u001b[1m438/438\u001b[0m \u001b[32m━━━━━━━━━━━━━━━━━━━━\u001b[0m\u001b[37m\u001b[0m \u001b[1m1s\u001b[0m 1ms/step - binary_accuracy: 0.9957 - loss: 0.0103 - val_binary_accuracy: 0.9830 - val_loss: 0.0465\n",
      "Epoch 67/70\n",
      "\u001b[1m438/438\u001b[0m \u001b[32m━━━━━━━━━━━━━━━━━━━━\u001b[0m\u001b[37m\u001b[0m \u001b[1m1s\u001b[0m 1ms/step - binary_accuracy: 0.9975 - loss: 0.0070 - val_binary_accuracy: 0.9780 - val_loss: 0.0820\n",
      "Epoch 68/70\n",
      "\u001b[1m438/438\u001b[0m \u001b[32m━━━━━━━━━━━━━━━━━━━━\u001b[0m\u001b[37m\u001b[0m \u001b[1m1s\u001b[0m 1ms/step - binary_accuracy: 0.9916 - loss: 0.0201 - val_binary_accuracy: 0.9835 - val_loss: 0.0545\n",
      "Epoch 69/70\n",
      "\u001b[1m438/438\u001b[0m \u001b[32m━━━━━━━━━━━━━━━━━━━━\u001b[0m\u001b[37m\u001b[0m \u001b[1m1s\u001b[0m 1ms/step - binary_accuracy: 0.9915 - loss: 0.0243 - val_binary_accuracy: 0.9793 - val_loss: 0.0606\n",
      "Epoch 70/70\n",
      "\u001b[1m438/438\u001b[0m \u001b[32m━━━━━━━━━━━━━━━━━━━━\u001b[0m\u001b[37m\u001b[0m \u001b[1m1s\u001b[0m 1ms/step - binary_accuracy: 0.9934 - loss: 0.0153 - val_binary_accuracy: 0.9818 - val_loss: 0.0576\n"
     ]
    }
   ],
   "source": [
    "# Define the model\n",
    "model = Sequential()\n",
    "\n",
    "# Input layer\n",
    "model.add(Dense(64, input_dim = X_train.shape[1], activation='relu'))\n",
    "\n",
    "# Hidden layers\n",
    "model.add(Dense(32, activation='relu'))\n",
    "model.add(Dense(16, activation='relu'))\n",
    "\n",
    "# Output layer\n",
    "model.add(Dense(1, activation='sigmoid'))\n",
    "\n",
    "# Compile the model\n",
    "model.compile(optimizer=Adam(learning_rate=0.003),\n",
    "              loss=BinaryCrossentropy(),\n",
    "              metrics=[BinaryAccuracy()])\n",
    "\n",
    "# Train the model\n",
    "history = model.fit(X_train, y_train, \n",
    "                    validation_data=(X_valid, y_valid),\n",
    "                    epochs=70, \n",
    "                    batch_size=64)"
   ]
  },
  {
   "cell_type": "code",
   "execution_count": 26,
   "metadata": {},
   "outputs": [
    {
     "data": {
      "image/png": "[encoded data removed]",
      "text/plain": [
       "<Figure size 1400x500 with 2 Axes>"
      ]
     },
     "metadata": {},
     "output_type": "display_data"
    },
    {
     "data": {
      "text/plain": [
       "<Figure size 640x480 with 0 Axes>"
      ]
     },
     "metadata": {},
     "output_type": "display_data"
    }
   ],
   "source": [
    "# Plot training & validation accuracy values\n",
    "plt.figure(figsize=(14, 5))\n",
    "plt.subplot(1, 2, 1)\n",
    "plt.plot(history.history['binary_accuracy'], label='Training Accuracy')\n",
    "plt.plot(history.history['val_binary_accuracy'], label='Validation Accuracy')\n",
    "plt.title('Model Accuracy')\n",
    "plt.xlabel('Epoch')\n",
    "plt.ylabel('Accuracy')\n",
    "plt.legend()\n",
    "\n",
    "# Plot training & validation loss values\n",
    "plt.subplot(1, 2, 2)\n",
    "plt.plot(history.history['loss'], label='Training Loss')\n",
    "plt.plot(history.history['val_loss'], label='Validation Loss')\n",
    "plt.title('Model Loss')\n",
    "plt.xlabel('Epoch')\n",
    "plt.ylabel('Loss')\n",
    "plt.legend()\n",
    "\n",
    "plt.show()\n",
    "\n",
    "plt.savefig(\"cure_NN_training_accuracy_and_loss.png\", format=\"png\", dpi=300)  "
   ]
  },
  {
   "cell_type": "code",
   "execution_count": 27,
   "metadata": {},
   "outputs": [
    {
     "name": "stdout",
     "output_type": "stream",
     "text": [
      "\u001b[1m250/250\u001b[0m \u001b[32m━━━━━━━━━━━━━━━━━━━━\u001b[0m\u001b[37m\u001b[0m \u001b[1m0s\u001b[0m 564us/step\n"
     ]
    }
   ],
   "source": [
    "y_pred = np.round(model.predict(X_test))\n",
    "\n",
    "#y_pred = model.predict(X_test)"
   ]
  },
  {
   "cell_type": "code",
   "execution_count": 28,
   "metadata": {},
   "outputs": [
    {
     "data": {
      "image/png": "[encoded data removed]",
      "text/plain": [
       "<Figure size 640x480 with 2 Axes>"
      ]
     },
     "metadata": {},
     "output_type": "display_data"
    },
    {
     "data": {
      "text/plain": [
       "<Figure size 640x480 with 0 Axes>"
      ]
     },
     "metadata": {},
     "output_type": "display_data"
    }
   ],
   "source": [
    "cm = confusion_matrix(y_test, y_pred)\n",
    "\n",
    "# Plot the confusion matrix\n",
    "disp = ConfusionMatrixDisplay(confusion_matrix=cm)\n",
    "disp.plot(cmap=plt.cm.Blues)\n",
    "plt.title(\"Confusion Matrix for Neural Network\")\n",
    "plt.show()\n",
    "\n",
    "plt.savefig(\"cure_confusion_matrix_nn.png\", format=\"png\", dpi=300)  "
   ]
  },
  {
   "cell_type": "code",
   "execution_count": 29,
   "metadata": {},
   "outputs": [
    {
     "name": "stdout",
     "output_type": "stream",
     "text": [
      "\u001b[1m250/250\u001b[0m \u001b[32m━━━━━━━━━━━━━━━━━━━━\u001b[0m\u001b[37m\u001b[0m \u001b[1m0s\u001b[0m 848us/step - binary_accuracy: 0.9827 - loss: 0.0534\n",
      "Test Loss: 0.054377660155296326\n",
      "Test Accuracy: 0.9826250076293945\n"
     ]
    }
   ],
   "source": [
    "# Evaluate the model\n",
    "loss, accuracy = model.evaluate(X_test, y_test)\n",
    "print(f'Test Loss: {loss}')\n",
    "print(f'Test Accuracy: {accuracy}')"
   ]
  },
  {
   "cell_type": "markdown",
   "metadata": {},
   "source": [
    "# Bayesian Optimization"
   ]
  },
  {
   "cell_type": "code",
   "execution_count": null,
   "metadata": {},
   "outputs": [
    {
     "name": "stdout",
     "output_type": "stream",
     "text": [
      "|   iter    |  target   |  dropout  | learni... |  neurons  |\n",
      "-------------------------------------------------------------\n",
      "| \u001b[39m1        \u001b[39m | \u001b[39m0.9843   \u001b[39m | \u001b[39m0.2498   \u001b[39m | \u001b[39m0.009512 \u001b[39m | \u001b[39m97.98    \u001b[39m |\n"
     ]
    },
    {
     "name": "stderr",
     "output_type": "stream",
     "text": [
      "c:\\Users\\comad\\AppData\\Local\\Programs\\Python\\Python311\\Lib\\site-packages\\keras\\src\\layers\\core\\dense.py:87: UserWarning: Do not pass an `input_shape`/`input_dim` argument to a layer. When using Sequential models, prefer using an `Input(shape)` object as the first layer in the model instead.\n",
      "  super().__init__(activity_regularizer=activity_regularizer, **kwargs)\n"
     ]
    },
    {
     "name": "stdout",
     "output_type": "stream",
     "text": [
      "| \u001b[35m2        \u001b[39m | \u001b[35m0.9872   \u001b[39m | \u001b[35m0.3395   \u001b[39m | \u001b[35m0.001645 \u001b[39m | \u001b[35m33.47    \u001b[39m |\n"
     ]
    },
    {
     "name": "stderr",
     "output_type": "stream",
     "text": [
      "c:\\Users\\comad\\AppData\\Local\\Programs\\Python\\Python311\\Lib\\site-packages\\keras\\src\\layers\\core\\dense.py:87: UserWarning: Do not pass an `input_shape`/`input_dim` argument to a layer. When using Sequential models, prefer using an `Input(shape)` object as the first layer in the model instead.\n",
      "  super().__init__(activity_regularizer=activity_regularizer, **kwargs)\n"
     ]
    },
    {
     "name": "stdout",
     "output_type": "stream",
     "text": [
      "| \u001b[39m3        \u001b[39m | \u001b[39m0.9844   \u001b[39m | \u001b[39m0.1232   \u001b[39m | \u001b[39m0.008675 \u001b[39m | \u001b[39m83.32    \u001b[39m |\n"
     ]
    },
    {
     "name": "stderr",
     "output_type": "stream",
     "text": [
      "c:\\Users\\comad\\AppData\\Local\\Programs\\Python\\Python311\\Lib\\site-packages\\keras\\src\\layers\\core\\dense.py:87: UserWarning: Do not pass an `input_shape`/`input_dim` argument to a layer. When using Sequential models, prefer using an `Input(shape)` object as the first layer in the model instead.\n",
      "  super().__init__(activity_regularizer=activity_regularizer, **kwargs)\n"
     ]
    },
    {
     "name": "stdout",
     "output_type": "stream",
     "text": [
      "| \u001b[39m4        \u001b[39m | \u001b[39m0.987    \u001b[39m | \u001b[39m0.3832   \u001b[39m | \u001b[39m0.0003038\u001b[39m | \u001b[39m124.6    \u001b[39m |\n"
     ]
    },
    {
     "name": "stderr",
     "output_type": "stream",
     "text": [
      "c:\\Users\\comad\\AppData\\Local\\Programs\\Python\\Python311\\Lib\\site-packages\\keras\\src\\layers\\core\\dense.py:87: UserWarning: Do not pass an `input_shape`/`input_dim` argument to a layer. When using Sequential models, prefer using an `Input(shape)` object as the first layer in the model instead.\n",
      "  super().__init__(activity_regularizer=activity_regularizer, **kwargs)\n"
     ]
    },
    {
     "name": "stdout",
     "output_type": "stream",
     "text": [
      "| \u001b[39m5        \u001b[39m | \u001b[39m0.9852   \u001b[39m | \u001b[39m0.433    \u001b[39m | \u001b[39m0.002202 \u001b[39m | \u001b[39m36.36    \u001b[39m |\n"
     ]
    },
    {
     "name": "stderr",
     "output_type": "stream",
     "text": [
      "c:\\Users\\comad\\AppData\\Local\\Programs\\Python\\Python311\\Lib\\site-packages\\keras\\src\\layers\\core\\dense.py:87: UserWarning: Do not pass an `input_shape`/`input_dim` argument to a layer. When using Sequential models, prefer using an `Input(shape)` object as the first layer in the model instead.\n",
      "  super().__init__(activity_regularizer=activity_regularizer, **kwargs)\n"
     ]
    },
    {
     "name": "stdout",
     "output_type": "stream",
     "text": [
      "| \u001b[39m6        \u001b[39m | \u001b[39m0.9839   \u001b[39m | \u001b[39m0.1734   \u001b[39m | \u001b[39m0.003112 \u001b[39m | \u001b[39m74.77    \u001b[39m |\n"
     ]
    },
    {
     "name": "stderr",
     "output_type": "stream",
     "text": [
      "c:\\Users\\comad\\AppData\\Local\\Programs\\Python\\Python311\\Lib\\site-packages\\keras\\src\\layers\\core\\dense.py:87: UserWarning: Do not pass an `input_shape`/`input_dim` argument to a layer. When using Sequential models, prefer using an `Input(shape)` object as the first layer in the model instead.\n",
      "  super().__init__(activity_regularizer=activity_regularizer, **kwargs)\n"
     ]
    },
    {
     "name": "stdout",
     "output_type": "stream",
     "text": [
      "| \u001b[39m7        \u001b[39m | \u001b[39m0.9852   \u001b[39m | \u001b[39m0.2728   \u001b[39m | \u001b[39m0.002983 \u001b[39m | \u001b[39m84.53    \u001b[39m |\n"
     ]
    },
    {
     "name": "stderr",
     "output_type": "stream",
     "text": [
      "c:\\Users\\comad\\AppData\\Local\\Programs\\Python\\Python311\\Lib\\site-packages\\keras\\src\\layers\\core\\dense.py:87: UserWarning: Do not pass an `input_shape`/`input_dim` argument to a layer. When using Sequential models, prefer using an `Input(shape)` object as the first layer in the model instead.\n",
      "  super().__init__(activity_regularizer=activity_regularizer, **kwargs)\n"
     ]
    },
    {
     "name": "stdout",
     "output_type": "stream",
     "text": [
      "| \u001b[39m8        \u001b[39m | \u001b[39m0.9859   \u001b[39m | \u001b[39m0.1558   \u001b[39m | \u001b[39m0.002992 \u001b[39m | \u001b[39m57.03    \u001b[39m |\n"
     ]
    },
    {
     "name": "stderr",
     "output_type": "stream",
     "text": [
      "c:\\Users\\comad\\AppData\\Local\\Programs\\Python\\Python311\\Lib\\site-packages\\keras\\src\\layers\\core\\dense.py:87: UserWarning: Do not pass an `input_shape`/`input_dim` argument to a layer. When using Sequential models, prefer using an `Input(shape)` object as the first layer in the model instead.\n",
      "  super().__init__(activity_regularizer=activity_regularizer, **kwargs)\n"
     ]
    },
    {
     "name": "stdout",
     "output_type": "stream",
     "text": [
      "| \u001b[39m9        \u001b[39m | \u001b[39m0.9837   \u001b[39m | \u001b[39m0.2824   \u001b[39m | \u001b[39m0.007873 \u001b[39m | \u001b[39m38.36    \u001b[39m |\n"
     ]
    },
    {
     "name": "stderr",
     "output_type": "stream",
     "text": [
      "c:\\Users\\comad\\AppData\\Local\\Programs\\Python\\Python311\\Lib\\site-packages\\keras\\src\\layers\\core\\dense.py:87: UserWarning: Do not pass an `input_shape`/`input_dim` argument to a layer. When using Sequential models, prefer using an `Input(shape)` object as the first layer in the model instead.\n",
      "  super().__init__(activity_regularizer=activity_regularizer, **kwargs)\n"
     ]
    },
    {
     "name": "stdout",
     "output_type": "stream",
     "text": [
      "| \u001b[35m10       \u001b[39m | \u001b[35m0.9889   \u001b[39m | \u001b[35m0.3057   \u001b[39m | \u001b[35m0.005965 \u001b[39m | \u001b[35m21.2     \u001b[39m |\n"
     ]
    },
    {
     "name": "stderr",
     "output_type": "stream",
     "text": [
      "c:\\Users\\comad\\AppData\\Local\\Programs\\Python\\Python311\\Lib\\site-packages\\keras\\src\\layers\\core\\dense.py:87: UserWarning: Do not pass an `input_shape`/`input_dim` argument to a layer. When using Sequential models, prefer using an `Input(shape)` object as the first layer in the model instead.\n",
      "  super().__init__(activity_regularizer=activity_regularizer, **kwargs)\n"
     ]
    },
    {
     "name": "stdout",
     "output_type": "stream",
     "text": [
      "| \u001b[39m11       \u001b[39m | \u001b[39m0.9822   \u001b[39m | \u001b[39m0.2225   \u001b[39m | \u001b[39m0.008395 \u001b[39m | \u001b[39m24.1     \u001b[39m |\n"
     ]
    },
    {
     "name": "stderr",
     "output_type": "stream",
     "text": [
      "c:\\Users\\comad\\AppData\\Local\\Programs\\Python\\Python311\\Lib\\site-packages\\keras\\src\\layers\\core\\dense.py:87: UserWarning: Do not pass an `input_shape`/`input_dim` argument to a layer. When using Sequential models, prefer using an `Input(shape)` object as the first layer in the model instead.\n",
      "  super().__init__(activity_regularizer=activity_regularizer, **kwargs)\n"
     ]
    },
    {
     "name": "stdout",
     "output_type": "stream",
     "text": [
      "| \u001b[39m12       \u001b[39m | \u001b[39m0.9879   \u001b[39m | \u001b[39m0.3686   \u001b[39m | \u001b[39m0.003261 \u001b[39m | \u001b[39m20.63    \u001b[39m |\n"
     ]
    },
    {
     "name": "stderr",
     "output_type": "stream",
     "text": [
      "c:\\Users\\comad\\AppData\\Local\\Programs\\Python\\Python311\\Lib\\site-packages\\keras\\src\\layers\\core\\dense.py:87: UserWarning: Do not pass an `input_shape`/`input_dim` argument to a layer. When using Sequential models, prefer using an `Input(shape)` object as the first layer in the model instead.\n",
      "  super().__init__(activity_regularizer=activity_regularizer, **kwargs)\n"
     ]
    },
    {
     "name": "stdout",
     "output_type": "stream",
     "text": [
      "| \u001b[39m13       \u001b[39m | \u001b[39m0.9845   \u001b[39m | \u001b[39m0.4715   \u001b[39m | \u001b[39m0.009018 \u001b[39m | \u001b[39m21.89    \u001b[39m |\n"
     ]
    },
    {
     "name": "stderr",
     "output_type": "stream",
     "text": [
      "c:\\Users\\comad\\AppData\\Local\\Programs\\Python\\Python311\\Lib\\site-packages\\keras\\src\\layers\\core\\dense.py:87: UserWarning: Do not pass an `input_shape`/`input_dim` argument to a layer. When using Sequential models, prefer using an `Input(shape)` object as the first layer in the model instead.\n",
      "  super().__init__(activity_regularizer=activity_regularizer, **kwargs)\n"
     ]
    },
    {
     "name": "stdout",
     "output_type": "stream",
     "text": [
      "| \u001b[39m14       \u001b[39m | \u001b[39m0.986    \u001b[39m | \u001b[39m0.1134   \u001b[39m | \u001b[39m0.006938 \u001b[39m | \u001b[39m21.01    \u001b[39m |\n"
     ]
    },
    {
     "name": "stderr",
     "output_type": "stream",
     "text": [
      "c:\\Users\\comad\\AppData\\Local\\Programs\\Python\\Python311\\Lib\\site-packages\\keras\\src\\layers\\core\\dense.py:87: UserWarning: Do not pass an `input_shape`/`input_dim` argument to a layer. When using Sequential models, prefer using an `Input(shape)` object as the first layer in the model instead.\n",
      "  super().__init__(activity_regularizer=activity_regularizer, **kwargs)\n"
     ]
    },
    {
     "name": "stdout",
     "output_type": "stream",
     "text": [
      "| \u001b[39m15       \u001b[39m | \u001b[39m0.9815   \u001b[39m | \u001b[39m0.388    \u001b[39m | \u001b[39m0.009833 \u001b[39m | \u001b[39m21.07    \u001b[39m |\n"
     ]
    },
    {
     "name": "stderr",
     "output_type": "stream",
     "text": [
      "c:\\Users\\comad\\AppData\\Local\\Programs\\Python\\Python311\\Lib\\site-packages\\keras\\src\\layers\\core\\dense.py:87: UserWarning: Do not pass an `input_shape`/`input_dim` argument to a layer. When using Sequential models, prefer using an `Input(shape)` object as the first layer in the model instead.\n",
      "  super().__init__(activity_regularizer=activity_regularizer, **kwargs)\n"
     ]
    },
    {
     "name": "stdout",
     "output_type": "stream",
     "text": [
      "| \u001b[39m16       \u001b[39m | \u001b[39m0.9837   \u001b[39m | \u001b[39m0.2329   \u001b[39m | \u001b[39m0.006831 \u001b[39m | \u001b[39m123.9    \u001b[39m |\n"
     ]
    },
    {
     "name": "stderr",
     "output_type": "stream",
     "text": [
      "c:\\Users\\comad\\AppData\\Local\\Programs\\Python\\Python311\\Lib\\site-packages\\keras\\src\\layers\\core\\dense.py:87: UserWarning: Do not pass an `input_shape`/`input_dim` argument to a layer. When using Sequential models, prefer using an `Input(shape)` object as the first layer in the model instead.\n",
      "  super().__init__(activity_regularizer=activity_regularizer, **kwargs)\n"
     ]
    },
    {
     "name": "stdout",
     "output_type": "stream",
     "text": [
      "| \u001b[39m17       \u001b[39m | \u001b[39m0.984    \u001b[39m | \u001b[39m0.1378   \u001b[39m | \u001b[39m0.008033 \u001b[39m | \u001b[39m82.72    \u001b[39m |\n"
     ]
    },
    {
     "name": "stderr",
     "output_type": "stream",
     "text": [
      "c:\\Users\\comad\\AppData\\Local\\Programs\\Python\\Python311\\Lib\\site-packages\\keras\\src\\layers\\core\\dense.py:87: UserWarning: Do not pass an `input_shape`/`input_dim` argument to a layer. When using Sequential models, prefer using an `Input(shape)` object as the first layer in the model instead.\n",
      "  super().__init__(activity_regularizer=activity_regularizer, **kwargs)\n"
     ]
    },
    {
     "name": "stdout",
     "output_type": "stream",
     "text": [
      "| \u001b[39m18       \u001b[39m | \u001b[39m0.9876   \u001b[39m | \u001b[39m0.2612   \u001b[39m | \u001b[39m0.008423 \u001b[39m | \u001b[39m100.8    \u001b[39m |\n"
     ]
    },
    {
     "name": "stderr",
     "output_type": "stream",
     "text": [
      "c:\\Users\\comad\\AppData\\Local\\Programs\\Python\\Python311\\Lib\\site-packages\\keras\\src\\layers\\core\\dense.py:87: UserWarning: Do not pass an `input_shape`/`input_dim` argument to a layer. When using Sequential models, prefer using an `Input(shape)` object as the first layer in the model instead.\n",
      "  super().__init__(activity_regularizer=activity_regularizer, **kwargs)\n"
     ]
    },
    {
     "name": "stdout",
     "output_type": "stream",
     "text": [
      "| \u001b[39m19       \u001b[39m | \u001b[39m0.9841   \u001b[39m | \u001b[39m0.3441   \u001b[39m | \u001b[39m0.002292 \u001b[39m | \u001b[39m125.3    \u001b[39m |\n"
     ]
    },
    {
     "name": "stderr",
     "output_type": "stream",
     "text": [
      "c:\\Users\\comad\\AppData\\Local\\Programs\\Python\\Python311\\Lib\\site-packages\\keras\\src\\layers\\core\\dense.py:87: UserWarning: Do not pass an `input_shape`/`input_dim` argument to a layer. When using Sequential models, prefer using an `Input(shape)` object as the first layer in the model instead.\n",
      "  super().__init__(activity_regularizer=activity_regularizer, **kwargs)\n"
     ]
    },
    {
     "name": "stdout",
     "output_type": "stream",
     "text": [
      "| \u001b[39m20       \u001b[39m | \u001b[39m0.9855   \u001b[39m | \u001b[39m0.1163   \u001b[39m | \u001b[39m0.00494  \u001b[39m | \u001b[39m82.27    \u001b[39m |\n"
     ]
    },
    {
     "name": "stderr",
     "output_type": "stream",
     "text": [
      "c:\\Users\\comad\\AppData\\Local\\Programs\\Python\\Python311\\Lib\\site-packages\\keras\\src\\layers\\core\\dense.py:87: UserWarning: Do not pass an `input_shape`/`input_dim` argument to a layer. When using Sequential models, prefer using an `Input(shape)` object as the first layer in the model instead.\n",
      "  super().__init__(activity_regularizer=activity_regularizer, **kwargs)\n"
     ]
    },
    {
     "name": "stdout",
     "output_type": "stream",
     "text": [
      "| \u001b[35m21       \u001b[39m | \u001b[35m0.989    \u001b[39m | \u001b[35m0.2233   \u001b[39m | \u001b[35m0.008625 \u001b[39m | \u001b[35m26.51    \u001b[39m |\n"
     ]
    },
    {
     "name": "stderr",
     "output_type": "stream",
     "text": [
      "c:\\Users\\comad\\AppData\\Local\\Programs\\Python\\Python311\\Lib\\site-packages\\keras\\src\\layers\\core\\dense.py:87: UserWarning: Do not pass an `input_shape`/`input_dim` argument to a layer. When using Sequential models, prefer using an `Input(shape)` object as the first layer in the model instead.\n",
      "  super().__init__(activity_regularizer=activity_regularizer, **kwargs)\n"
     ]
    },
    {
     "name": "stdout",
     "output_type": "stream",
     "text": [
      "| \u001b[39m22       \u001b[39m | \u001b[39m0.9876   \u001b[39m | \u001b[39m0.4322   \u001b[39m | \u001b[39m0.006429 \u001b[39m | \u001b[39m67.26    \u001b[39m |\n"
     ]
    },
    {
     "name": "stderr",
     "output_type": "stream",
     "text": [
      "c:\\Users\\comad\\AppData\\Local\\Programs\\Python\\Python311\\Lib\\site-packages\\keras\\src\\layers\\core\\dense.py:87: UserWarning: Do not pass an `input_shape`/`input_dim` argument to a layer. When using Sequential models, prefer using an `Input(shape)` object as the first layer in the model instead.\n",
      "  super().__init__(activity_regularizer=activity_regularizer, **kwargs)\n"
     ]
    },
    {
     "name": "stdout",
     "output_type": "stream",
     "text": [
      "| \u001b[39m23       \u001b[39m | \u001b[39m0.9846   \u001b[39m | \u001b[39m0.2073   \u001b[39m | \u001b[39m0.002627 \u001b[39m | \u001b[39m72.5     \u001b[39m |\n"
     ]
    },
    {
     "name": "stderr",
     "output_type": "stream",
     "text": [
      "c:\\Users\\comad\\AppData\\Local\\Programs\\Python\\Python311\\Lib\\site-packages\\keras\\src\\layers\\core\\dense.py:87: UserWarning: Do not pass an `input_shape`/`input_dim` argument to a layer. When using Sequential models, prefer using an `Input(shape)` object as the first layer in the model instead.\n",
      "  super().__init__(activity_regularizer=activity_regularizer, **kwargs)\n"
     ]
    },
    {
     "name": "stdout",
     "output_type": "stream",
     "text": [
      "| \u001b[39m24       \u001b[39m | \u001b[39m0.985    \u001b[39m | \u001b[39m0.3449   \u001b[39m | \u001b[39m0.000709 \u001b[39m | \u001b[39m63.59    \u001b[39m |\n"
     ]
    },
    {
     "name": "stderr",
     "output_type": "stream",
     "text": [
      "c:\\Users\\comad\\AppData\\Local\\Programs\\Python\\Python311\\Lib\\site-packages\\keras\\src\\layers\\core\\dense.py:87: UserWarning: Do not pass an `input_shape`/`input_dim` argument to a layer. When using Sequential models, prefer using an `Input(shape)` object as the first layer in the model instead.\n",
      "  super().__init__(activity_regularizer=activity_regularizer, **kwargs)\n"
     ]
    },
    {
     "name": "stdout",
     "output_type": "stream",
     "text": [
      "| \u001b[39m25       \u001b[39m | \u001b[39m0.9861   \u001b[39m | \u001b[39m0.3369   \u001b[39m | \u001b[39m0.007224 \u001b[39m | \u001b[39m30.33    \u001b[39m |\n"
     ]
    },
    {
     "name": "stderr",
     "output_type": "stream",
     "text": [
      "c:\\Users\\comad\\AppData\\Local\\Programs\\Python\\Python311\\Lib\\site-packages\\keras\\src\\layers\\core\\dense.py:87: UserWarning: Do not pass an `input_shape`/`input_dim` argument to a layer. When using Sequential models, prefer using an `Input(shape)` object as the first layer in the model instead.\n",
      "  super().__init__(activity_regularizer=activity_regularizer, **kwargs)\n"
     ]
    },
    {
     "name": "stdout",
     "output_type": "stream",
     "text": [
      "| \u001b[39m26       \u001b[39m | \u001b[39m0.9856   \u001b[39m | \u001b[39m0.4783   \u001b[39m | \u001b[39m0.004569 \u001b[39m | \u001b[39m118.0    \u001b[39m |\n"
     ]
    },
    {
     "name": "stderr",
     "output_type": "stream",
     "text": [
      "c:\\Users\\comad\\AppData\\Local\\Programs\\Python\\Python311\\Lib\\site-packages\\keras\\src\\layers\\core\\dense.py:87: UserWarning: Do not pass an `input_shape`/`input_dim` argument to a layer. When using Sequential models, prefer using an `Input(shape)` object as the first layer in the model instead.\n",
      "  super().__init__(activity_regularizer=activity_regularizer, **kwargs)\n"
     ]
    },
    {
     "name": "stdout",
     "output_type": "stream",
     "text": [
      "| \u001b[39m27       \u001b[39m | \u001b[39m0.9884   \u001b[39m | \u001b[39m0.3722   \u001b[39m | \u001b[39m0.003603 \u001b[39m | \u001b[39m32.14    \u001b[39m |\n"
     ]
    },
    {
     "name": "stderr",
     "output_type": "stream",
     "text": [
      "c:\\Users\\comad\\AppData\\Local\\Programs\\Python\\Python311\\Lib\\site-packages\\keras\\src\\layers\\core\\dense.py:87: UserWarning: Do not pass an `input_shape`/`input_dim` argument to a layer. When using Sequential models, prefer using an `Input(shape)` object as the first layer in the model instead.\n",
      "  super().__init__(activity_regularizer=activity_regularizer, **kwargs)\n"
     ]
    },
    {
     "name": "stdout",
     "output_type": "stream",
     "text": [
      "| \u001b[39m28       \u001b[39m | \u001b[39m0.9859   \u001b[39m | \u001b[39m0.2345   \u001b[39m | \u001b[39m0.0006755\u001b[39m | \u001b[39m114.4    \u001b[39m |\n"
     ]
    },
    {
     "name": "stderr",
     "output_type": "stream",
     "text": [
      "c:\\Users\\comad\\AppData\\Local\\Programs\\Python\\Python311\\Lib\\site-packages\\keras\\src\\layers\\core\\dense.py:87: UserWarning: Do not pass an `input_shape`/`input_dim` argument to a layer. When using Sequential models, prefer using an `Input(shape)` object as the first layer in the model instead.\n",
      "  super().__init__(activity_regularizer=activity_regularizer, **kwargs)\n"
     ]
    },
    {
     "name": "stdout",
     "output_type": "stream",
     "text": [
      "| \u001b[39m29       \u001b[39m | \u001b[39m0.9829   \u001b[39m | \u001b[39m0.4521   \u001b[39m | \u001b[39m0.008393 \u001b[39m | \u001b[39m51.93    \u001b[39m |\n"
     ]
    },
    {
     "name": "stderr",
     "output_type": "stream",
     "text": [
      "c:\\Users\\comad\\AppData\\Local\\Programs\\Python\\Python311\\Lib\\site-packages\\keras\\src\\layers\\core\\dense.py:87: UserWarning: Do not pass an `input_shape`/`input_dim` argument to a layer. When using Sequential models, prefer using an `Input(shape)` object as the first layer in the model instead.\n",
      "  super().__init__(activity_regularizer=activity_regularizer, **kwargs)\n"
     ]
    },
    {
     "name": "stdout",
     "output_type": "stream",
     "text": [
      "| \u001b[39m30       \u001b[39m | \u001b[39m0.9885   \u001b[39m | \u001b[39m0.2316   \u001b[39m | \u001b[39m0.009634 \u001b[39m | \u001b[39m72.59    \u001b[39m |\n",
      "=============================================================\n",
      "Βέλτιστες Υπερπαράμετροι: {'dropout': 0.22331369534696438, 'learning_rate': 0.008624729451091053, 'neurons': 26.510082990115897}\n",
      "Epoch 1/50\n"
     ]
    },
    {
     "name": "stderr",
     "output_type": "stream",
     "text": [
      "c:\\Users\\comad\\AppData\\Local\\Programs\\Python\\Python311\\Lib\\site-packages\\keras\\src\\layers\\core\\dense.py:87: UserWarning: Do not pass an `input_shape`/`input_dim` argument to a layer. When using Sequential models, prefer using an `Input(shape)` object as the first layer in the model instead.\n",
      "  super().__init__(activity_regularizer=activity_regularizer, **kwargs)\n"
     ]
    },
    {
     "name": "stdout",
     "output_type": "stream",
     "text": [
      "\u001b[1m700/700\u001b[0m \u001b[32m━━━━━━━━━━━━━━━━━━━━\u001b[0m\u001b[37m\u001b[0m \u001b[1m2s\u001b[0m 1ms/step - accuracy: 0.8346 - loss: 0.3284 - val_accuracy: 0.9539 - val_loss: 0.1101\n",
      "Epoch 2/50\n",
      "\u001b[1m700/700\u001b[0m \u001b[32m━━━━━━━━━━━━━━━━━━━━\u001b[0m\u001b[37m\u001b[0m \u001b[1m1s\u001b[0m 1ms/step - accuracy: 0.9567 - loss: 0.1047 - val_accuracy: 0.9177 - val_loss: 0.1780\n",
      "Epoch 3/50\n",
      "\u001b[1m700/700\u001b[0m \u001b[32m━━━━━━━━━━━━━━━━━━━━\u001b[0m\u001b[37m\u001b[0m \u001b[1m1s\u001b[0m 1ms/step - accuracy: 0.9535 - loss: 0.1086 - val_accuracy: 0.9546 - val_loss: 0.0958\n",
      "Epoch 4/50\n",
      "\u001b[1m700/700\u001b[0m \u001b[32m━━━━━━━━━━━━━━━━━━━━\u001b[0m\u001b[37m\u001b[0m \u001b[1m1s\u001b[0m 1ms/step - accuracy: 0.9620 - loss: 0.0899 - val_accuracy: 0.9795 - val_loss: 0.0492\n",
      "Epoch 5/50\n",
      "\u001b[1m700/700\u001b[0m \u001b[32m━━━━━━━━━━━━━━━━━━━━\u001b[0m\u001b[37m\u001b[0m \u001b[1m1s\u001b[0m 1ms/step - accuracy: 0.9682 - loss: 0.0754 - val_accuracy: 0.9734 - val_loss: 0.0614\n",
      "Epoch 6/50\n",
      "\u001b[1m700/700\u001b[0m \u001b[32m━━━━━━━━━━━━━━━━━━━━\u001b[0m\u001b[37m\u001b[0m \u001b[1m1s\u001b[0m 1ms/step - accuracy: 0.9680 - loss: 0.0719 - val_accuracy: 0.9770 - val_loss: 0.0489\n",
      "Epoch 7/50\n",
      "\u001b[1m700/700\u001b[0m \u001b[32m━━━━━━━━━━━━━━━━━━━━\u001b[0m\u001b[37m\u001b[0m \u001b[1m1s\u001b[0m 1ms/step - accuracy: 0.9691 - loss: 0.0739 - val_accuracy: 0.9754 - val_loss: 0.0554\n",
      "Epoch 8/50\n",
      "\u001b[1m700/700\u001b[0m \u001b[32m━━━━━━━━━━━━━━━━━━━━\u001b[0m\u001b[37m\u001b[0m \u001b[1m1s\u001b[0m 1ms/step - accuracy: 0.9697 - loss: 0.0716 - val_accuracy: 0.9789 - val_loss: 0.0470\n",
      "Epoch 9/50\n",
      "\u001b[1m700/700\u001b[0m \u001b[32m━━━━━━━━━━━━━━━━━━━━\u001b[0m\u001b[37m\u001b[0m \u001b[1m1s\u001b[0m 1ms/step - accuracy: 0.9716 - loss: 0.0675 - val_accuracy: 0.9779 - val_loss: 0.0495\n",
      "Epoch 10/50\n",
      "\u001b[1m700/700\u001b[0m \u001b[32m━━━━━━━━━━━━━━━━━━━━\u001b[0m\u001b[37m\u001b[0m \u001b[1m1s\u001b[0m 1ms/step - accuracy: 0.9755 - loss: 0.0597 - val_accuracy: 0.9859 - val_loss: 0.0343\n",
      "Epoch 11/50\n",
      "\u001b[1m700/700\u001b[0m \u001b[32m━━━━━━━━━━━━━━━━━━━━\u001b[0m\u001b[37m\u001b[0m \u001b[1m1s\u001b[0m 1ms/step - accuracy: 0.9748 - loss: 0.0620 - val_accuracy: 0.9829 - val_loss: 0.0406\n",
      "Epoch 12/50\n",
      "\u001b[1m700/700\u001b[0m \u001b[32m━━━━━━━━━━━━━━━━━━━━\u001b[0m\u001b[37m\u001b[0m \u001b[1m1s\u001b[0m 1ms/step - accuracy: 0.9768 - loss: 0.0565 - val_accuracy: 0.9820 - val_loss: 0.0519\n",
      "Epoch 13/50\n",
      "\u001b[1m700/700\u001b[0m \u001b[32m━━━━━━━━━━━━━━━━━━━━\u001b[0m\u001b[37m\u001b[0m \u001b[1m1s\u001b[0m 1ms/step - accuracy: 0.9719 - loss: 0.0642 - val_accuracy: 0.9775 - val_loss: 0.0498\n",
      "Epoch 14/50\n",
      "\u001b[1m700/700\u001b[0m \u001b[32m━━━━━━━━━━━━━━━━━━━━\u001b[0m\u001b[37m\u001b[0m \u001b[1m1s\u001b[0m 1ms/step - accuracy: 0.9746 - loss: 0.0591 - val_accuracy: 0.9664 - val_loss: 0.0682\n",
      "Epoch 15/50\n",
      "\u001b[1m700/700\u001b[0m \u001b[32m━━━━━━━━━━━━━━━━━━━━\u001b[0m\u001b[37m\u001b[0m \u001b[1m1s\u001b[0m 1ms/step - accuracy: 0.9765 - loss: 0.0551 - val_accuracy: 0.9859 - val_loss: 0.0380\n"
     ]
    },
    {
     "data": {
      "image/png": "[encoded data removed]",
      "text/plain": [
       "<Figure size 640x480 with 1 Axes>"
      ]
     },
     "metadata": {},
     "output_type": "display_data"
    },
    {
     "name": "stdout",
     "output_type": "stream",
     "text": [
      "\u001b[1m250/250\u001b[0m \u001b[32m━━━━━━━━━━━━━━━━━━━━\u001b[0m\u001b[37m\u001b[0m \u001b[1m0s\u001b[0m 600us/step\n",
      "Accuracy: 0.985\n",
      "Precision: 0.983\n",
      "Recall: 0.987\n",
      "F1 Score: 0.985\n",
      "Confusion Matrix:\n",
      " [[3923   68]\n",
      " [  53 3956]]\n"
     ]
    }
   ],
   "source": [
    "# Απαραίτητες βιβλιοθήκες\n",
    "from sklearn.metrics import accuracy_score, precision_score, recall_score, f1_score, confusion_matrix\n",
    "from tensorflow.keras.models import Sequential\n",
    "from tensorflow.keras.layers import Dense, Dropout\n",
    "from tensorflow.keras.optimizers import Adam\n",
    "from tensorflow.keras.callbacks import EarlyStopping\n",
    "from bayes_opt import BayesianOptimization\n",
    "import matplotlib.pyplot as plt\n",
    "\n",
    "\n",
    "# Συνάρτηση αξιολόγησης για Bayesian Optimization\n",
    "def nn_evaluate(learning_rate, neurons, dropout):\n",
    "    neurons = int(neurons)\n",
    "\n",
    "    model = Sequential()\n",
    "    model.add(Dense(neurons, activation='relu', input_shape=(X_train.shape[1],)))\n",
    "    model.add(Dropout(dropout))\n",
    "    model.add(Dense(neurons // 2, activation='relu'))\n",
    "    model.add(Dense(1, activation='sigmoid'))\n",
    "\n",
    "    model.compile(optimizer=Adam(learning_rate=learning_rate),\n",
    "                  loss='binary_crossentropy', metrics=['accuracy'])\n",
    "\n",
    "    history = model.fit(X_train, y_train, epochs=50, batch_size=32,\n",
    "                        validation_split=0.2, verbose=0,\n",
    "                        callbacks=[EarlyStopping(patience=5, restore_best_weights=True)])\n",
    "\n",
    "    score = model.evaluate(X_test, y_test, verbose=0)\n",
    "    return score[1]\n",
    "\n",
    "# Bayesian Optimization των υπερπαραμέτρων\n",
    "pbounds = {'learning_rate': (1e-4, 1e-2), 'neurons': (16, 128), 'dropout': (0.1, 0.5)}\n",
    "\n",
    "optimizer = BayesianOptimization(f=nn_evaluate, pbounds=pbounds, random_state=42)\n",
    "optimizer.maximize(init_points=10, n_iter=20)\n",
    "\n",
    "# Βέλτιστες Υπερπαράμετροι\n",
    "best_params = optimizer.max['params']\n",
    "print(\"Βέλτιστες Υπερπαράμετροι:\", best_params)\n",
    "\n",
    "# Κατασκευή του τελικού μοντέλου\n",
    "neurons_optimal = int(best_params['neurons'])\n",
    "model = Sequential()\n",
    "model.add(Dense(neurons_optimal, activation='relu', input_shape=(X_train.shape[1],)))\n",
    "model.add(Dropout(best_params['dropout']))\n",
    "model.add(Dense(neurons_optimal // 2, activation='relu'))\n",
    "model.add(Dense(1, activation='sigmoid'))\n",
    "\n",
    "model.compile(optimizer=Adam(learning_rate=best_params['learning_rate']),\n",
    "              loss='binary_crossentropy', metrics=['accuracy'])\n",
    "\n",
    "history = model.fit(X_train, y_train, epochs=50, batch_size=32,\n",
    "                    validation_split=0.2, verbose=1,\n",
    "                    callbacks=[EarlyStopping(patience=5, restore_best_weights=True)])\n",
    "\n",
    "# Εμφάνιση καμπύλων εκπαίδευσης\n",
    "plt.plot(history.history['loss'], label='Training Loss')\n",
    "plt.plot(history.history['val_loss'], label='Validation Loss')\n",
    "plt.plot(history.history['accuracy'], label='Training Accuracy')\n",
    "plt.plot(history.history['val_accuracy'], label='Validation Accuracy')\n",
    "plt.legend()\n",
    "plt.xlabel('Epochs')\n",
    "plt.ylabel('Metrics')\n",
    "plt.title('Training Curves')\n",
    "plt.grid(True)\n",
    "plt.show()\n",
    "\n",
    "# Υπολογισμός προβλέψεων και μετρικών επίδοσης\n",
    "y_pred = (model.predict(X_test) > 0.5).astype(\"int32\")\n",
    "\n",
    "accuracy = accuracy_score(y_test, y_pred)\n",
    "precision = precision_score(y_test, y_pred)\n",
    "recall = recall_score(y_test, y_pred)\n",
    "f1 = f1_score(y_test, y_pred)\n",
    "conf_matrix = confusion_matrix(y_test, y_pred)\n",
    "\n",
    "# Εκτύπωση των μετρικών επίδοσης\n",
    "print(f\"Accuracy: {accuracy:.3f}\")\n",
    "print(f\"Precision: {precision:.3f}\")\n",
    "print(f\"Recall: {recall:.3f}\")\n",
    "print(f\"F1 Score: {f1:.3f}\")\n",
    "print(\"Confusion Matrix:\\n\", conf_matrix)\n"
   ]
  }
 ],
 "metadata": {
  "kernelspec": {
   "display_name": "Python 3",
   "language": "python",
   "name": "python3"
  },
  "language_info": {
   "codemirror_mode": {
    "name": "ipython",
    "version": 3
   },
   "file_extension": ".py",
   "mimetype": "text/x-python",
   "name": "python",
   "nbconvert_exporter": "python",
   "pygments_lexer": "ipython3",
   "version": "3.11.9"
  }
 },
 "nbformat": 4,
 "nbformat_minor": 2
}
